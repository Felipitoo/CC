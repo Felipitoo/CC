{
 "cells": [
  {
   "cell_type": "markdown",
   "metadata": {},
   "source": [
    "# Mínimos Cuadrados\n",
    "\n",
    "## Descomposición $QR$"
   ]
  },
  {
   "cell_type": "code",
   "execution_count": 1,
   "metadata": {},
   "outputs": [],
   "source": [
    "import numpy as np\n",
    "import scipy.linalg as spla\n",
    "import matplotlib.pyplot as plt"
   ]
  },
  {
   "cell_type": "code",
   "execution_count": 2,
   "metadata": {},
   "outputs": [],
   "source": [
    "def plotVector(A, Q):\n",
    "    plt.figure(figsize=(6, 6))\n",
    "    origin = [0], [0] # origin point\n",
    "    plt.quiver(*origin, A[:,0], A[:,1], angles='xy', scale_units='xy', scale=1, color=['green', 'black'])\n",
    "    plt.quiver(*origin, Q.T[:,0], Q.T[:,1], angles='xy', scale_units='xy', scale=1, color=['r', 'b'])\n",
    "    plt.axis('square')\n",
    "    plt.xlim([-2, 4])\n",
    "    plt.ylim([-2, 4])\n",
    "    plt.grid(True)\n",
    "    plt.xlabel(r\"$x$\")\n",
    "    plt.ylabel(r\"$y$\")\n",
    "    plt.show()"
   ]
  },
  {
   "cell_type": "markdown",
   "metadata": {},
   "source": [
    "### Decomposición $QR$ reducida"
   ]
  },
  {
   "cell_type": "code",
   "execution_count": 3,
   "metadata": {},
   "outputs": [],
   "source": [
    "def QR(A, modified=True):\n",
    "    m, n = A.shape\n",
    "    Q = np.zeros((m, n))\n",
    "    R = np.zeros((n, n))\n",
    "    # Gram-Schmidt orthogonalization\n",
    "    for j in range(n):\n",
    "        y = A[:, j]\n",
    "        if modified: \n",
    "            for i in range(j):\n",
    "                R[i, j] = np.dot(Q[:, i], y)\n",
    "                y = y - R[i, j] * Q[:, i]\n",
    "        else:\n",
    "            for i in range(j):\n",
    "                R[i, j] = np.dot(Q[:, i], A[:, j])\n",
    "                y = y - R[i, j] * Q[:, i]\n",
    "        R[j, j] = np.linalg.norm(y)\n",
    "        Q[:, j] = y / R[j, j]\n",
    "    return Q, R"
   ]
  },
  {
   "cell_type": "markdown",
   "metadata": {},
   "source": [
    "### Ejemplo en $\\mathbb{R}^2$"
   ]
  },
  {
   "cell_type": "markdown",
   "metadata": {},
   "source": [
    "Para considerar el manejo de arreglos de ```numpy```, recordar que el procedimiento lo realizamos por vectores columnas, es decir,\n",
    "\\begin{equation}\n",
    "    A=\n",
    "    \\left[\n",
    "        \\begin{array}{c|c}\n",
    "            & \\\\ \n",
    "            \\mathbf{a}_1 & \\mathbf{a}_2 \\\\\n",
    "            & \\\\\n",
    "        \\end{array}\n",
    "    \\right].\n",
    "\\end{equation}"
   ]
  },
  {
   "cell_type": "code",
   "execution_count": 4,
   "metadata": {},
   "outputs": [],
   "source": [
    "A = np.array([[2., 1.], [1., 3.]])"
   ]
  },
  {
   "cell_type": "code",
   "execution_count": 5,
   "metadata": {},
   "outputs": [
    {
     "data": {
      "text/plain": [
       "array([[2., 1.],\n",
       "       [1., 3.]])"
      ]
     },
     "execution_count": 5,
     "metadata": {},
     "output_type": "execute_result"
    }
   ],
   "source": [
    "A"
   ]
  },
  {
   "cell_type": "markdown",
   "metadata": {},
   "source": [
    "#### Versión implementada"
   ]
  },
  {
   "cell_type": "code",
   "execution_count": 6,
   "metadata": {},
   "outputs": [],
   "source": [
    "Q, R = QR(A)"
   ]
  },
  {
   "cell_type": "code",
   "execution_count": 7,
   "metadata": {},
   "outputs": [
    {
     "data": {
      "text/plain": [
       "array([[2., 1.],\n",
       "       [1., 3.]])"
      ]
     },
     "execution_count": 7,
     "metadata": {},
     "output_type": "execute_result"
    }
   ],
   "source": [
    "np.dot(Q, R)"
   ]
  },
  {
   "cell_type": "markdown",
   "metadata": {},
   "source": [
    "#### Versión ```numpy```"
   ]
  },
  {
   "cell_type": "code",
   "execution_count": 8,
   "metadata": {},
   "outputs": [],
   "source": [
    "Q2, R2 = np.linalg.qr(A)"
   ]
  },
  {
   "cell_type": "code",
   "execution_count": 9,
   "metadata": {},
   "outputs": [
    {
     "data": {
      "text/plain": [
       "array([[2., 1.],\n",
       "       [1., 3.]])"
      ]
     },
     "execution_count": 9,
     "metadata": {},
     "output_type": "execute_result"
    }
   ],
   "source": [
    "np.dot(Q2, R2)"
   ]
  },
  {
   "cell_type": "code",
   "execution_count": 10,
   "metadata": {},
   "outputs": [
    {
     "name": "stdout",
     "output_type": "stream",
     "text": [
      "Implementado\n",
      "Q:\n",
      " [[ 0.89442719 -0.4472136 ]\n",
      " [ 0.4472136   0.89442719]]\n",
      "R:\n",
      " [[2.23606798 2.23606798]\n",
      " [0.         2.23606798]]\n",
      "\n",
      "Numpy\n",
      "Q:\n",
      " [[-0.89442719 -0.4472136 ]\n",
      " [-0.4472136   0.89442719]]\n",
      "R:\n",
      " [[-2.23606798 -2.23606798]\n",
      " [ 0.          2.23606798]]\n"
     ]
    }
   ],
   "source": [
    "print(\"Implementado\")\n",
    "print(\"Q:\\n\", Q)\n",
    "print(\"R:\\n\", R)\n",
    "print()\n",
    "print(\"Numpy\")\n",
    "print(\"Q:\\n\", Q2)\n",
    "print(\"R:\\n\", R2)"
   ]
  },
  {
   "cell_type": "markdown",
   "metadata": {},
   "source": [
    "La implementación de ```numpy``` no realiza la consideración de $r_{j,j} > 0$."
   ]
  },
  {
   "cell_type": "markdown",
   "metadata": {},
   "source": [
    "### ¿Son ortogonales?"
   ]
  },
  {
   "cell_type": "code",
   "execution_count": 11,
   "metadata": {},
   "outputs": [
    {
     "data": {
      "text/plain": [
       "(0.0, -5.551115123125783e-17)"
      ]
     },
     "execution_count": 11,
     "metadata": {},
     "output_type": "execute_result"
    }
   ],
   "source": [
    "np.dot(Q[:,0], Q[:, 1]), np.dot(Q2[:,0], Q2[:, 1])"
   ]
  },
  {
   "cell_type": "markdown",
   "metadata": {},
   "source": [
    "Al parecer sí :)"
   ]
  },
  {
   "cell_type": "markdown",
   "metadata": {},
   "source": [
    "### ¿Se cumple $Q^{-1}=Q^*$?"
   ]
  },
  {
   "cell_type": "code",
   "execution_count": 12,
   "metadata": {},
   "outputs": [
    {
     "data": {
      "text/plain": [
       "(array([[ 0.89442719,  0.4472136 ],\n",
       "        [-0.4472136 ,  0.89442719]]),\n",
       " array([[ 0.89442719,  0.4472136 ],\n",
       "        [-0.4472136 ,  0.89442719]]))"
      ]
     },
     "execution_count": 12,
     "metadata": {},
     "output_type": "execute_result"
    }
   ],
   "source": [
    "np.linalg.inv(Q), Q.T"
   ]
  },
  {
   "cell_type": "code",
   "execution_count": 13,
   "metadata": {},
   "outputs": [
    {
     "data": {
      "text/plain": [
       "(array([[-0.89442719, -0.4472136 ],\n",
       "        [-0.4472136 ,  0.89442719]]),\n",
       " array([[-0.89442719, -0.4472136 ],\n",
       "        [-0.4472136 ,  0.89442719]]))"
      ]
     },
     "execution_count": 13,
     "metadata": {},
     "output_type": "execute_result"
    }
   ],
   "source": [
    "np.linalg.inv(Q2), Q2.T"
   ]
  },
  {
   "cell_type": "markdown",
   "metadata": {},
   "source": [
    "Al parecer también."
   ]
  },
  {
   "cell_type": "markdown",
   "metadata": {},
   "source": [
    "### Visualmente"
   ]
  },
  {
   "cell_type": "code",
   "execution_count": 14,
   "metadata": {
    "scrolled": false
   },
   "outputs": [
    {
     "data": {
      "image/png": "[encoded data removed]",
      "text/plain": [
       "<Figure size 432x432 with 1 Axes>"
      ]
     },
     "metadata": {
      "needs_background": "light"
     },
     "output_type": "display_data"
    }
   ],
   "source": [
    "plotVector(A, Q)"
   ]
  },
  {
   "cell_type": "markdown",
   "metadata": {},
   "source": [
    "Los vectores verde y negro corresponde a los vectores columnas de $A$. Los vectores rojo y azul corresponde a los vectores ortonormales encontrados por $QR$."
   ]
  },
  {
   "cell_type": "markdown",
   "metadata": {},
   "source": [
    "# Ajuste de curvas"
   ]
  },
  {
   "cell_type": "markdown",
   "metadata": {},
   "source": [
    "## Resolución de mínimos cuadrados utilizando $QR$"
   ]
  },
  {
   "cell_type": "code",
   "execution_count": 15,
   "metadata": {},
   "outputs": [],
   "source": [
    "def QRLS(A, b):\n",
    "    Q, R = QR(A) # QR reduced\n",
    "    x = spla.solve_triangular(R, np.dot(Q.T, b)) # Solve Rx=Q^*b\n",
    "    return x"
   ]
  },
  {
   "cell_type": "code",
   "execution_count": 16,
   "metadata": {},
   "outputs": [],
   "source": [
    "def plot(t, y, tt, yy, yyy):\n",
    "    plt.figure(figsize=(12, 6))\n",
    "    plt.plot(t, y, 'r.')\n",
    "    plt.plot(tt, yy, label=\"Normal Equations\")\n",
    "    plt.plot(tt, yyy, label=\"QR\")\n",
    "    plt.grid(True)\n",
    "    plt.legend()\n",
    "    plt.xlabel(r'$t$')\n",
    "    plt.ylabel(r'$y$')\n",
    "    plt.show()"
   ]
  },
  {
   "cell_type": "markdown",
   "metadata": {},
   "source": [
    "## Ecuaciones normales"
   ]
  },
  {
   "cell_type": "code",
   "execution_count": 17,
   "metadata": {},
   "outputs": [],
   "source": [
    "lm = lambda c_1, c_2, t: c_1 + c_2 * t\n",
    "qm = lambda c_1, c_2, c_3, t: c_1 + c_2 * t + c_3 * t ** 2\n",
    "em = lambda c_1, c_2, t: c_1 * np.exp(c_2 * t)\n",
    "sm = lambda c_1, c_2, c_3, c_4, t: c_1 + c_2 * np.cos(2 * np.pi * t) + c_3 * np.sin(2 * np.pi * t) + c_4 * np.cos(4 * np.pi * t)\n",
    "pm = lambda c_1, c_2, t: c_1 * t ** c_2"
   ]
  },
  {
   "cell_type": "code",
   "execution_count": 18,
   "metadata": {},
   "outputs": [],
   "source": [
    "# A^*A x = A^* b\n",
    "def normalEquations(A, b):\n",
    "    return np.linalg.solve(np.dot(A.T, A), np.dot(A.T, b))"
   ]
  },
  {
   "cell_type": "markdown",
   "metadata": {},
   "source": [
    "#### Modelo lineal"
   ]
  },
  {
   "cell_type": "code",
   "execution_count": 19,
   "metadata": {},
   "outputs": [],
   "source": [
    "lm = lambda c_1, c_2, t: c_1 + c_2 * t"
   ]
  },
  {
   "cell_type": "code",
   "execution_count": 20,
   "metadata": {},
   "outputs": [],
   "source": [
    "n = 200\n",
    "t_a, t_b = 0, 3\n",
    "t = np.linspace(t_a, t_b, n)\n",
    "tt = np.linspace(t_a, t_b, 3 * n)"
   ]
  },
  {
   "cell_type": "code",
   "execution_count": 21,
   "metadata": {},
   "outputs": [],
   "source": [
    "y_l = lm(1, 2, t) + np.random.normal(1.5, .5, n) # Data\n",
    "A_l = np.ones((n, 2))\n",
    "A_l[:,1] = t\n",
    "b_l = y_l"
   ]
  },
  {
   "cell_type": "code",
   "execution_count": 22,
   "metadata": {},
   "outputs": [],
   "source": [
    "p_l = normalEquations(A_l, b_l)"
   ]
  },
  {
   "cell_type": "code",
   "execution_count": 23,
   "metadata": {},
   "outputs": [],
   "source": [
    "p_l_qr = QRLS(A_l, b_l)"
   ]
  },
  {
   "cell_type": "code",
   "execution_count": 24,
   "metadata": {},
   "outputs": [
    {
     "data": {
      "text/plain": [
       "(array([2.61872557, 1.92680618]), array([2.61872557, 1.92680618]))"
      ]
     },
     "execution_count": 24,
     "metadata": {},
     "output_type": "execute_result"
    }
   ],
   "source": [
    "p_l, p_l_qr"
   ]
  },
  {
   "cell_type": "code",
   "execution_count": 25,
   "metadata": {},
   "outputs": [
    {
     "data": {
      "image/png": "[encoded data removed]",
      "text/plain": [
       "<Figure size 864x432 with 1 Axes>"
      ]
     },
     "metadata": {
      "needs_background": "light"
     },
     "output_type": "display_data"
    }
   ],
   "source": [
    "plot(t, y_l, tt, lm(*p_l, tt), lm(*p_l_qr, tt))"
   ]
  },
  {
   "cell_type": "markdown",
   "metadata": {},
   "source": [
    "Podemos ver para ambos métodos obtenemos los mismos coeficientes del modelo lineal."
   ]
  },
  {
   "cell_type": "markdown",
   "metadata": {},
   "source": [
    "## Cuadrático"
   ]
  },
  {
   "cell_type": "code",
   "execution_count": 26,
   "metadata": {},
   "outputs": [],
   "source": [
    "y_q = qm(1, 2, 3, t) + np.random.normal(5, 3, n)\n",
    "A_q = np.ones((n, 3))\n",
    "A_q[:, 1] = t\n",
    "A_q[:, 2] = t ** 2\n",
    "b_q = y_q"
   ]
  },
  {
   "cell_type": "code",
   "execution_count": 27,
   "metadata": {},
   "outputs": [],
   "source": [
    "p_l = normalEquations(A_q, b_q)"
   ]
  },
  {
   "cell_type": "code",
   "execution_count": 28,
   "metadata": {},
   "outputs": [],
   "source": [
    "p_l_qr = QRLS(A_q, b_q)"
   ]
  },
  {
   "cell_type": "code",
   "execution_count": 29,
   "metadata": {},
   "outputs": [
    {
     "data": {
      "image/png": "[encoded data removed]",
      "text/plain": [
       "<Figure size 864x432 with 1 Axes>"
      ]
     },
     "metadata": {
      "needs_background": "light"
     },
     "output_type": "display_data"
    }
   ],
   "source": [
    "plot(t, y_q, tt, qm(*p_l, tt), qm(*p_l_qr, tt))"
   ]
  },
  {
   "cell_type": "markdown",
   "metadata": {},
   "source": [
    "## Periódico"
   ]
  },
  {
   "cell_type": "code",
   "execution_count": 30,
   "metadata": {},
   "outputs": [],
   "source": [
    "y_s = sm(1, 2, 2, 1, t) + np.random.normal(10, 2, n)\n",
    "A_s = np.ones((n, 4))\n",
    "A_s[:, 1] = np.cos(2 * np.pi * t)\n",
    "A_s[:, 2] = np.sin(2 * np.pi * t)\n",
    "A_s[:, 3] = np.cos(4 * np.pi * t)\n",
    "b_s = y_s"
   ]
  },
  {
   "cell_type": "code",
   "execution_count": 31,
   "metadata": {},
   "outputs": [],
   "source": [
    "p_l = normalEquations(A_s, b_s)"
   ]
  },
  {
   "cell_type": "code",
   "execution_count": 32,
   "metadata": {},
   "outputs": [],
   "source": [
    "p_l_qr = QRLS(A_s, b_s)"
   ]
  },
  {
   "cell_type": "code",
   "execution_count": 33,
   "metadata": {},
   "outputs": [
    {
     "data": {
      "image/png": "[encoded data removed]",
      "text/plain": [
       "<Figure size 864x432 with 1 Axes>"
      ]
     },
     "metadata": {
      "needs_background": "light"
     },
     "output_type": "display_data"
    }
   ],
   "source": [
    "plot(t, y_s, tt, sm(*p_l, tt), sm(*p_l_qr, tt))"
   ]
  },
  {
   "cell_type": "markdown",
   "metadata": {},
   "source": [
    "## Exponencial"
   ]
  },
  {
   "cell_type": "code",
   "execution_count": 34,
   "metadata": {},
   "outputs": [],
   "source": [
    "y_e = em(1, 2, t) * np.random.normal(10, 2, n)\n",
    "A_e = np.ones((n, 2))\n",
    "A_e[:, 1] = t\n",
    "b_e = np.log(y_e)"
   ]
  },
  {
   "cell_type": "code",
   "execution_count": 35,
   "metadata": {},
   "outputs": [],
   "source": [
    "p_l = normalEquations(A_e, b_e)"
   ]
  },
  {
   "cell_type": "code",
   "execution_count": 36,
   "metadata": {},
   "outputs": [],
   "source": [
    "p_l_qr = QRLS(A_e, b_e)"
   ]
  },
  {
   "cell_type": "code",
   "execution_count": 37,
   "metadata": {
    "scrolled": false
   },
   "outputs": [
    {
     "data": {
      "image/png": "[encoded data removed]",
      "text/plain": [
       "<Figure size 864x432 with 1 Axes>"
      ]
     },
     "metadata": {
      "needs_background": "light"
     },
     "output_type": "display_data"
    }
   ],
   "source": [
    "plot(t, y_e, tt,  em(np.exp(p_l[0]), p_l[1], tt),  em(np.exp(p_l_qr[0]), p_l_qr[1], tt))"
   ]
  },
  {
   "cell_type": "markdown",
   "metadata": {},
   "source": [
    "## Comentarios\n",
    "\n",
    "Podemos obtener los mismos resultados al utilizar **Ecuaciones Normales** que al usar la **Descomposición $QR$**. En teoría hay un método que requiere menos computación, ¿puede mostrarlo experimentalmente?"
   ]
  },
  {
   "cell_type": "markdown",
   "metadata": {},
   "source": [
    "## Ejemplo 4.16 del libro guía p. 219\n",
    "### ¿Por qué Gram-Schmidt modificado sobre el clásico?"
   ]
  },
  {
   "cell_type": "code",
   "execution_count": 38,
   "metadata": {},
   "outputs": [],
   "source": [
    "d = 1e-10\n",
    "Ab = np.array([\n",
    "    [1, 1, 1],\n",
    "    [d, 0, 0],\n",
    "    [0, d, 0],\n",
    "    [0, 0, d]\n",
    "])"
   ]
  },
  {
   "cell_type": "markdown",
   "metadata": {},
   "source": [
    "### Clásico"
   ]
  },
  {
   "cell_type": "code",
   "execution_count": 39,
   "metadata": {},
   "outputs": [],
   "source": [
    "Qbc, Rbc = QR(Ab, False)"
   ]
  },
  {
   "cell_type": "code",
   "execution_count": 40,
   "metadata": {},
   "outputs": [
    {
     "name": "stdout",
     "output_type": "stream",
     "text": [
      "Q:\n",
      " [[ 1.00000000e+00  0.00000000e+00  0.00000000e+00]\n",
      " [ 1.00000000e-10 -7.07106781e-01 -7.07106781e-01]\n",
      " [ 0.00000000e+00  7.07106781e-01  0.00000000e+00]\n",
      " [ 0.00000000e+00  0.00000000e+00  7.07106781e-01]]\n",
      "R:\n",
      " [[1.00000000e+00 1.00000000e+00 1.00000000e+00]\n",
      " [0.00000000e+00 1.41421356e-10 0.00000000e+00]\n",
      " [0.00000000e+00 0.00000000e+00 1.41421356e-10]]\n"
     ]
    }
   ],
   "source": [
    "print(\"Q:\\n\", Qbc)\n",
    "print(\"R:\\n\", Rbc)"
   ]
  },
  {
   "cell_type": "markdown",
   "metadata": {},
   "source": [
    "¿$Q^*Q = I$?"
   ]
  },
  {
   "cell_type": "code",
   "execution_count": 41,
   "metadata": {},
   "outputs": [
    {
     "data": {
      "text/plain": [
       "array([[ 1.00000000e+00, -7.07106781e-11, -7.07106781e-11],\n",
       "       [-7.07106781e-11,  1.00000000e+00,  5.00000000e-01],\n",
       "       [-7.07106781e-11,  5.00000000e-01,  1.00000000e+00]])"
      ]
     },
     "execution_count": 41,
     "metadata": {},
     "output_type": "execute_result"
    }
   ],
   "source": [
    "QTQ_c = np.dot(Qbc.T, Qbc)\n",
    "QTQ_c"
   ]
  },
  {
   "cell_type": "markdown",
   "metadata": {},
   "source": [
    "¿$\\|Q^*Q - I_n\\|_F$?"
   ]
  },
  {
   "cell_type": "code",
   "execution_count": 42,
   "metadata": {},
   "outputs": [
    {
     "name": "stdout",
     "output_type": "stream",
     "text": [
      "0.7071067811865477\n"
     ]
    }
   ],
   "source": [
    "print(np.linalg.norm(QTQ_c - np.eye(3)))"
   ]
  },
  {
   "cell_type": "markdown",
   "metadata": {},
   "source": [
    "### Modificado"
   ]
  },
  {
   "cell_type": "code",
   "execution_count": 43,
   "metadata": {},
   "outputs": [],
   "source": [
    "Qbm, Rbm = QR(Ab)"
   ]
  },
  {
   "cell_type": "code",
   "execution_count": 44,
   "metadata": {},
   "outputs": [
    {
     "name": "stdout",
     "output_type": "stream",
     "text": [
      "Q:\n",
      " [[ 1.00000000e+00  0.00000000e+00  0.00000000e+00]\n",
      " [ 1.00000000e-10 -7.07106781e-01 -4.08248290e-01]\n",
      " [ 0.00000000e+00  7.07106781e-01 -4.08248290e-01]\n",
      " [ 0.00000000e+00  0.00000000e+00  8.16496581e-01]]\n",
      "R:\n",
      " [[1.00000000e+00 1.00000000e+00 1.00000000e+00]\n",
      " [0.00000000e+00 1.41421356e-10 7.07106781e-11]\n",
      " [0.00000000e+00 0.00000000e+00 1.22474487e-10]]\n"
     ]
    }
   ],
   "source": [
    "print(\"Q:\\n\", Qbm)\n",
    "print(\"R:\\n\", Rbm)"
   ]
  },
  {
   "cell_type": "markdown",
   "metadata": {},
   "source": [
    "¿$Q^*Q = I$?"
   ]
  },
  {
   "cell_type": "code",
   "execution_count": 45,
   "metadata": {},
   "outputs": [
    {
     "data": {
      "text/plain": [
       "array([[ 1.00000000e+00, -7.07106781e-11, -4.08248290e-11],\n",
       "       [-7.07106781e-11,  1.00000000e+00, -1.66533454e-16],\n",
       "       [-4.08248290e-11, -1.66533454e-16,  1.00000000e+00]])"
      ]
     },
     "execution_count": 45,
     "metadata": {},
     "output_type": "execute_result"
    }
   ],
   "source": [
    "QTQ_m = np.dot(Qbm.T, Qbm)\n",
    "QTQ_m"
   ]
  },
  {
   "cell_type": "markdown",
   "metadata": {},
   "source": [
    "¿$\\|Q^*Q - I_n\\|_F$?"
   ]
  },
  {
   "cell_type": "code",
   "execution_count": 46,
   "metadata": {},
   "outputs": [
    {
     "name": "stdout",
     "output_type": "stream",
     "text": [
      "1.1547005383859233e-10\n"
     ]
    }
   ],
   "source": [
    "print(np.linalg.norm(QTQ_m - np.eye(3)))"
   ]
  },
  {
   "cell_type": "markdown",
   "metadata": {},
   "source": [
    "Experimentalmente podemos ver que en este ejemplo los vectores de $Q$ obtenidos con el algoritmo clásico no son ortonormales. Notamos que con el algoritmo modificado no obtenemos $I_n$ exactamente, pero el resultado es mejor."
   ]
  }
 ],
 "metadata": {
  "kernelspec": {
   "display_name": "Python 3",
   "language": "python",
   "name": "python3"
  },
  "language_info": {
   "codemirror_mode": {
    "name": "ipython",
    "version": 3
   },
   "file_extension": ".py",
   "mimetype": "text/x-python",
   "name": "python",
   "nbconvert_exporter": "python",
   "pygments_lexer": "ipython3",
   "version": "3.7.7"
  }
 },
 "nbformat": 4,
 "nbformat_minor": 4
}
