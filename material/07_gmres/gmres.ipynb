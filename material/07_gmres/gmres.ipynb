{
 "cells": [
  {
   "cell_type": "markdown",
   "metadata": {},
   "source": [
    "# GMRES\n",
    "\n",
    "## Algunos Ejemplos"
   ]
  },
  {
   "cell_type": "code",
   "execution_count": 1,
   "metadata": {},
   "outputs": [],
   "source": [
    "import numpy as np\n",
    "import scipy.linalg as spla\n",
    "from scipy.sparse.linalg import gmres, LinearOperator\n",
    "import matplotlib.pyplot as plt"
   ]
  },
  {
   "cell_type": "markdown",
   "metadata": {},
   "source": [
    "### Error \n",
    "\n",
    "Para analizar convergencia."
   ]
  },
  {
   "cell_type": "code",
   "execution_count": 2,
   "metadata": {},
   "outputs": [],
   "source": [
    "error = lambda x, x_a: np.linalg.norm(x - x_a, ord=2, axis=1) / np.linalg.norm(x)\n",
    "back_error = lambda x, A, b: np.linalg.norm(b - np.dot(A, x), ord=2) / np.linalg.norm(b)"
   ]
  },
  {
   "cell_type": "markdown",
   "metadata": {},
   "source": [
    "Además, para graficar la convergencia."
   ]
  },
  {
   "cell_type": "code",
   "execution_count": 3,
   "metadata": {},
   "outputs": [],
   "source": [
    "def plot(err, b_e):\n",
    "    Ni_e = np.arange(err.shape[-1])\n",
    "    Ni_b = np.arange(b_e.shape[-1])\n",
    "    plt.figure(figsize=(12, 6))\n",
    "    plt.plot(Ni_e, err, 'bo', label=r'$||\\mathbf{x} - \\mathbf{x}_a||_2/||\\mathbf{x}||_2$')\n",
    "    plt.plot(Ni_b, b_e, 'rx', label=r'$||\\mathbf{b} - A\\,\\mathbf{x}||_2/||\\mathbf{b}||_2$')\n",
    "    plt.yscale('log')\n",
    "    plt.xlabel('# Iterations')\n",
    "    plt.ylabel('Error')\n",
    "    plt.legend()\n",
    "    plt.grid(True)\n",
    "    plt.show()"
   ]
  },
  {
   "cell_type": "markdown",
   "metadata": {},
   "source": [
    "### Implementación $QR$ reducido\n",
    "\n",
    "El algoritmo de Gram-Schmidt para obtener $\\hat{Q}$ y $\\hat{R}$."
   ]
  },
  {
   "cell_type": "code",
   "execution_count": 4,
   "metadata": {},
   "outputs": [],
   "source": [
    "def QR(A, modified=True):\n",
    "    m, n = A.shape\n",
    "    Q = np.zeros((m, n))\n",
    "    R = np.zeros((n, n))\n",
    "    # Gram-Schmidt orthogonalization\n",
    "    for j in range(n):\n",
    "        y = A[:, j]\n",
    "        if modified:\n",
    "            for i in range(j):\n",
    "                R[i, j] = np.dot(Q[:, i], y)\n",
    "                y = y - R[i, j] * Q[:, i]\n",
    "        else:\n",
    "            for i in range(j):\n",
    "                R[i, j] = np.dot(Q[:, i], A[:, j])\n",
    "                y = y - R[i, j] * Q[:, i]\n",
    "        R[j, j] = np.linalg.norm(y)\n",
    "        Q[:, j] = y / R[j, j]\n",
    "    return Q, R"
   ]
  },
  {
   "cell_type": "markdown",
   "metadata": {},
   "source": [
    "### Mínimos Cuadrados\n",
    "\n",
    "- Utilizando $QR$\n",
    "    1. Obtener $QR$ reducido, es decir, $A=\\hat{Q}\\,\\hat{R}$\n",
    "    2. Resolver $\\hat{R}\\,\\hat{\\mathbf{x}} = \\hat{Q}^*\\mathbf{b}$\n",
    "    \n",
    "    \n",
    "- Utilizando Ecuaciones Normales\n",
    "    1. Resolver $A^*A\\hat{\\mathbf{x}} = A^*\\mathbf{b}$"
   ]
  },
  {
   "cell_type": "code",
   "execution_count": 5,
   "metadata": {},
   "outputs": [],
   "source": [
    "def lstsq(A, b, qr=True):\n",
    "    if qr:\n",
    "        Q, R = QR(A) # QR reduced\n",
    "        x = spla.solve_triangular(R, np.dot(Q.T, b)) # Solve Rx=Q^*b\n",
    "    else:\n",
    "        x = np.linalg.solve(np.dot(A.T, A), np.dot(A.T, b)) # Solve A^*Ax=A^*b\n",
    "    return x"
   ]
  },
  {
   "cell_type": "markdown",
   "metadata": {},
   "source": [
    "### Implementación GMRES\n",
    "\n",
    "Versión modificada de [1]."
   ]
  },
  {
   "cell_type": "code",
   "execution_count": 6,
   "metadata": {},
   "outputs": [],
   "source": [
    "def GMRES(A, b, x_0=None, tol=1e-10, max_iter=100, show=False, np_ls=False):\n",
    "    m = b.shape[0]\n",
    "    \n",
    "    M = np.min([m, max_iter])\n",
    "    \n",
    "    X = np.zeros((M + 1, m))\n",
    "    if x_0 is not None:\n",
    "        X[0] = x_0\n",
    "    \n",
    "    r_0 = b - np.dot(A, X[0])\n",
    "    n_r0 = np.linalg.norm(r_0)\n",
    "    \n",
    "    Q = np.zeros((m, m))\n",
    "    H = np.zeros((m, m))\n",
    "    \n",
    "    Q[:, 0] = r_0 / n_r0\n",
    "\n",
    "    for k in range(M):\n",
    "        \n",
    "        # Arnoldi Iteration\n",
    "        y = np.dot(A, Q[:, k])\n",
    "        for j in np.arange(k+1):\n",
    "            H[j, k] = np.dot(Q[:,j], y)\n",
    "            y = y - H[j, k] * Q[:,j]\n",
    "        \n",
    "        # Build H matrix and fill Q_k\n",
    "        if k + 1 < m: \n",
    "            H[k+1, k] = np.linalg.norm(y)\n",
    "            \n",
    "            if np.abs(H[k+1, k]) > 1e-16:\n",
    "                Q[:, k+1] = y / H[k+1, k]  \n",
    "\n",
    "            e_1 = np.zeros((k + 1) + 1)        \n",
    "            e_1[0] = 1\n",
    "            H_tilde = H[:(k + 1) + 1, :k + 1]\n",
    "            s = k + 1\n",
    "        else: # When we use all Krylov subspace\n",
    "            H_tilde = H[:k + 1, :k + 1]\n",
    "            s = m + 1\n",
    "            \n",
    "        # Solving the 'SMALL' least squares problem. \n",
    "        if np_ls: \n",
    "            c_k, _, _, _ = np.linalg.lstsq(H_tilde, n_r0 * e_1, rcond=None) # Using Numpy Implementation (faster)\n",
    "        else:\n",
    "            c_k = lstsq(H_tilde, n_r0 * e_1) # Using algorithms seen in classes (slower)\n",
    "        \n",
    "        \n",
    "        if show:\n",
    "            print(\"k:\", k)\n",
    "            print(\"H:\\n\", H)\n",
    "            print(\"H_t:\\n\", H_tilde)\n",
    "            print(\"e_1:\\n\", e_1)\n",
    "            print(\"c_k:\\n\", c_k)\n",
    "            print(\"Q_k:\\n\", Q[:,:s])\n",
    "            print()\n",
    "            \n",
    "        X[k+1] = X[0] + np.dot(Q[:, :s], c_k)  \n",
    "        \n",
    "        if np.linalg.norm(np.dot(A, X[k+1]) - b) < tol:\n",
    "            X = X[:k + 2] \n",
    "            break\n",
    "        \n",
    "    return X"
   ]
  },
  {
   "cell_type": "markdown",
   "metadata": {},
   "source": [
    "## Ejemplo 1\n",
    "\n",
    "Matriz $A$ aleatoria."
   ]
  },
  {
   "cell_type": "code",
   "execution_count": 7,
   "metadata": {},
   "outputs": [],
   "source": [
    "np.random.seed(1234567890)\n",
    "m = 50\n",
    "A_1 = np.random.rand(m, m)\n",
    "b_1 = np.dot(A_1, np.ones(m))"
   ]
  },
  {
   "cell_type": "markdown",
   "metadata": {},
   "source": [
    "#### Solver de ```numpy```"
   ]
  },
  {
   "cell_type": "code",
   "execution_count": 8,
   "metadata": {},
   "outputs": [
    {
     "data": {
      "text/plain": [
       "array([1., 1., 1., 1., 1., 1., 1., 1., 1., 1., 1., 1., 1., 1., 1., 1., 1.,\n",
       "       1., 1., 1., 1., 1., 1., 1., 1., 1., 1., 1., 1., 1., 1., 1., 1., 1.,\n",
       "       1., 1., 1., 1., 1., 1., 1., 1., 1., 1., 1., 1., 1., 1., 1., 1.])"
      ]
     },
     "execution_count": 8,
     "metadata": {},
     "output_type": "execute_result"
    }
   ],
   "source": [
    "x_1 = np.linalg.solve(A_1, b_1)\n",
    "x_1"
   ]
  },
  {
   "cell_type": "markdown",
   "metadata": {},
   "source": [
    "#### Implementación"
   ]
  },
  {
   "cell_type": "code",
   "execution_count": 9,
   "metadata": {
    "scrolled": false
   },
   "outputs": [
    {
     "data": {
      "text/plain": [
       "array([1., 1., 1., 1., 1., 1., 1., 1., 1., 1., 1., 1., 1., 1., 1., 1., 1.,\n",
       "       1., 1., 1., 1., 1., 1., 1., 1., 1., 1., 1., 1., 1., 1., 1., 1., 1.,\n",
       "       1., 1., 1., 1., 1., 1., 1., 1., 1., 1., 1., 1., 1., 1., 1., 1.])"
      ]
     },
     "execution_count": 9,
     "metadata": {},
     "output_type": "execute_result"
    }
   ],
   "source": [
    "x_g_1 = GMRES(A_1, b_1, tol=1e-10)\n",
    "x_g_1[-1]"
   ]
  },
  {
   "cell_type": "markdown",
   "metadata": {},
   "source": [
    "#### GMRES ```scipy```"
   ]
  },
  {
   "cell_type": "code",
   "execution_count": 10,
   "metadata": {},
   "outputs": [
    {
     "data": {
      "text/plain": [
       "array([1.19763667, 1.15258581, 0.75789253, 0.98707487, 1.10148399,\n",
       "       0.92463966, 1.01559199, 1.13767641, 1.00459424, 1.17393247,\n",
       "       0.90477812, 0.94783382, 0.98404039, 1.15778863, 0.94996579,\n",
       "       0.98817646, 1.16153322, 0.94501359, 1.0144308 , 1.06213658,\n",
       "       1.12572779, 0.92815843, 0.95481232, 0.83542311, 1.00947238,\n",
       "       0.97835678, 0.95642767, 0.93572698, 0.9990528 , 1.08851003,\n",
       "       0.78950694, 0.94941065, 0.79857037, 1.11264603, 1.13777757,\n",
       "       0.97964287, 1.00943078, 1.00065634, 0.76325745, 1.04798721,\n",
       "       1.21140939, 1.07522482, 0.83799066, 0.98403268, 1.08818604,\n",
       "       1.01637778, 0.97685978, 0.87574449, 0.94158985, 0.9825196 ])"
      ]
     },
     "execution_count": 10,
     "metadata": {},
     "output_type": "execute_result"
    }
   ],
   "source": [
    "x_s_1, _ = gmres(A_1, b_1)\n",
    "x_s_1"
   ]
  },
  {
   "cell_type": "markdown",
   "metadata": {},
   "source": [
    "#### Convergencia"
   ]
  },
  {
   "cell_type": "code",
   "execution_count": 11,
   "metadata": {},
   "outputs": [],
   "source": [
    "b_e_1 = np.array([back_error(x_i, A_1, b_1) for x_i in x_g_1])\n",
    "err_1 = error(x_1, x_g_1)"
   ]
  },
  {
   "cell_type": "code",
   "execution_count": 12,
   "metadata": {},
   "outputs": [
    {
     "data": {
      "image/png": "[encoded data removed]",
      "text/plain": [
       "<Figure size 864x432 with 1 Axes>"
      ]
     },
     "metadata": {
      "needs_background": "light"
     },
     "output_type": "display_data"
    }
   ],
   "source": [
    "plot(err_1, b_e_1)"
   ]
  },
  {
   "cell_type": "markdown",
   "metadata": {},
   "source": [
    "¿Podemos Mejorar la convergencia? Intentemos utilizando *GMRES* con reinicio."
   ]
  },
  {
   "cell_type": "code",
   "execution_count": 13,
   "metadata": {
    "scrolled": false
   },
   "outputs": [],
   "source": [
    "p = 20\n",
    "M = 5\n",
    "X_r = np.zeros(((M * p), m))\n",
    "x_0_ = None\n",
    "for r in range(M):\n",
    "    x_g_1_a = GMRES(A_1, b_1, x_0=x_0_, max_iter=p, tol=1e-16)\n",
    "    X_r[r * p: (r + 1) * p] = x_g_1_a[1:]\n",
    "    x_0_ = x_g_1_a[-1]"
   ]
  },
  {
   "cell_type": "code",
   "execution_count": 14,
   "metadata": {
    "scrolled": false
   },
   "outputs": [],
   "source": [
    "b_e_1_a = np.array([back_error(x_i, A_1, b_1) for x_i in X_r])\n",
    "err_1_a = error(x_1, X_r)"
   ]
  },
  {
   "cell_type": "code",
   "execution_count": 15,
   "metadata": {},
   "outputs": [
    {
     "data": {
      "image/png": "[encoded data removed]",
      "text/plain": [
       "<Figure size 864x432 with 1 Axes>"
      ]
     },
     "metadata": {
      "needs_background": "light"
     },
     "output_type": "display_data"
    }
   ],
   "source": [
    "plot(err_1_a, b_e_1_a)"
   ]
  },
  {
   "cell_type": "markdown",
   "metadata": {},
   "source": [
    "¿Problema? Quizás la matriz $A$ es mal condicionada."
   ]
  },
  {
   "cell_type": "code",
   "execution_count": 16,
   "metadata": {},
   "outputs": [
    {
     "data": {
      "text/plain": [
       "1976.6502616108346"
      ]
     },
     "execution_count": 16,
     "metadata": {},
     "output_type": "execute_result"
    }
   ],
   "source": [
    "np.linalg.cond(A_1)"
   ]
  },
  {
   "cell_type": "markdown",
   "metadata": {},
   "source": [
    "## Ejemplo 2\n",
    "\n",
    "Modifiquemos levemente nuestra matriz $A$"
   ]
  },
  {
   "cell_type": "code",
   "execution_count": 17,
   "metadata": {},
   "outputs": [],
   "source": [
    "A_2 = A_1 + m * np.eye(m) \n",
    "b_2 = np.dot(A_2, np.ones(m))"
   ]
  },
  {
   "cell_type": "markdown",
   "metadata": {},
   "source": [
    "#### Solver de ```numpy```"
   ]
  },
  {
   "cell_type": "code",
   "execution_count": 18,
   "metadata": {},
   "outputs": [
    {
     "data": {
      "text/plain": [
       "array([1., 1., 1., 1., 1., 1., 1., 1., 1., 1., 1., 1., 1., 1., 1., 1., 1.,\n",
       "       1., 1., 1., 1., 1., 1., 1., 1., 1., 1., 1., 1., 1., 1., 1., 1., 1.,\n",
       "       1., 1., 1., 1., 1., 1., 1., 1., 1., 1., 1., 1., 1., 1., 1., 1.])"
      ]
     },
     "execution_count": 18,
     "metadata": {},
     "output_type": "execute_result"
    }
   ],
   "source": [
    "x_2 = np.linalg.solve(A_2, b_2)\n",
    "x_2"
   ]
  },
  {
   "cell_type": "markdown",
   "metadata": {},
   "source": [
    "#### Implementación"
   ]
  },
  {
   "cell_type": "code",
   "execution_count": 19,
   "metadata": {
    "scrolled": false
   },
   "outputs": [
    {
     "data": {
      "text/plain": [
       "array([1., 1., 1., 1., 1., 1., 1., 1., 1., 1., 1., 1., 1., 1., 1., 1., 1.,\n",
       "       1., 1., 1., 1., 1., 1., 1., 1., 1., 1., 1., 1., 1., 1., 1., 1., 1.,\n",
       "       1., 1., 1., 1., 1., 1., 1., 1., 1., 1., 1., 1., 1., 1., 1., 1.])"
      ]
     },
     "execution_count": 19,
     "metadata": {},
     "output_type": "execute_result"
    }
   ],
   "source": [
    "x_g_2 = GMRES(A_2, b_2, tol=1e-10)\n",
    "x_g_2[-1]"
   ]
  },
  {
   "cell_type": "markdown",
   "metadata": {},
   "source": [
    "#### GMRES ```scipy```"
   ]
  },
  {
   "cell_type": "code",
   "execution_count": 20,
   "metadata": {},
   "outputs": [
    {
     "data": {
      "text/plain": [
       "array([1.00000283, 0.99999891, 0.99999816, 1.00000288, 0.99999952,\n",
       "       1.00000131, 0.99999789, 0.99999908, 1.00000076, 0.9999992 ,\n",
       "       0.99999774, 0.99999935, 1.00000072, 0.99999843, 0.99999799,\n",
       "       0.99999967, 1.00000151, 0.99999965, 1.00000197, 0.99999941,\n",
       "       1.00000173, 1.00000211, 1.00000044, 1.00000144, 0.99999903,\n",
       "       0.99999915, 0.99999907, 1.0000025 , 1.0000014 , 0.99999941,\n",
       "       0.99999976, 1.00000038, 0.99999592, 0.99999985, 1.00000254,\n",
       "       1.00000003, 0.99999703, 0.99999811, 1.00000046, 0.99999981,\n",
       "       0.99999927, 0.99999954, 0.99999972, 1.00000031, 1.00000321,\n",
       "       1.00000122, 0.99999899, 1.00000174, 0.99999856, 1.00000003])"
      ]
     },
     "execution_count": 20,
     "metadata": {},
     "output_type": "execute_result"
    }
   ],
   "source": [
    "x_s_2, _ = gmres(A_2, b_2)\n",
    "x_s_2"
   ]
  },
  {
   "cell_type": "code",
   "execution_count": 21,
   "metadata": {},
   "outputs": [],
   "source": [
    "b_e_2 = np.array([back_error(x_i, A_2, b_2) for x_i in x_g_2])\n",
    "err_2 = error(x_2, x_g_2)"
   ]
  },
  {
   "cell_type": "code",
   "execution_count": 22,
   "metadata": {},
   "outputs": [
    {
     "data": {
      "image/png": "[encoded data removed]",
      "text/plain": [
       "<Figure size 864x432 with 1 Axes>"
      ]
     },
     "metadata": {
      "needs_background": "light"
     },
     "output_type": "display_data"
    }
   ],
   "source": [
    "plot(b_e_2, err_2)"
   ]
  },
  {
   "cell_type": "markdown",
   "metadata": {},
   "source": [
    "## Ejemplo 3: Evitar construir $A$ explícitamente\n",
    "\n",
    "Supongamos necesitamos resolver el sistema $A\\mathbf{x}=\\mathbf{b}$, con $A\\in\\mathbb{R}^{n\\times n}$ tridiagonal, y $\\mathbf{b}\\in\\mathbb{R}^n$. ¿Necesitamos calcular el producto matriz vector $A\\mathbf{v}$ para $\\mathbf{v}\\in\\mathbb{R}^n$ cualquiera?\n",
    "\n",
    "La estructura de $A$ tridiagonal es:\n",
    "\\begin{equation}\n",
    "    A=\n",
    "    \\begin{bmatrix}\n",
    "        a_{1} & b_{1}\\\\\n",
    "        c_{1}& a_{2} & b_{2}\\\\\n",
    "        &c_{2}&\\ddots &\\ddots \\\\\n",
    "        & & \\ddots & \\ddots &b_{n-1}\\\\\n",
    "        & & & c_{n-1} & a_{n}\n",
    "    \\end{bmatrix}\n",
    "\\end{equation}"
   ]
  },
  {
   "cell_type": "markdown",
   "metadata": {},
   "source": [
    "### Construcción $A$ tridiagonal"
   ]
  },
  {
   "cell_type": "code",
   "execution_count": 23,
   "metadata": {},
   "outputs": [],
   "source": [
    "def buildA(n):\n",
    "    np.random.seed(1234)\n",
    "    # Random arrays to fill diagonals\n",
    "    a_ = np.random.rand(n)\n",
    "    b_ = np.random.rand(n-1)\n",
    "    c_ = np.random.rand(n-1)\n",
    "    # Temporal matrices to add diagonals\n",
    "    a_tmp = np.zeros((n, n))\n",
    "    b_tmp = np.zeros_like(a_tmp)\n",
    "    c_tmp = np.zeros_like(a_tmp)\n",
    "    # Diagonals\n",
    "    a_tmp = a_ * np.eye(n) # Main diagonal\n",
    "    b_tmp[:-1,1:] = b_ * np.eye(n-1) # Above diagonal\n",
    "    c_tmp[1:,:-1] = c_ * np.eye(n-1) # Below diagonal \n",
    "\n",
    "    # Build A\n",
    "    A = a_tmp + b_tmp + c_tmp\n",
    "    \n",
    "    del a_tmp, b_tmp, c_tmp\n",
    "    \n",
    "    return A"
   ]
  },
  {
   "cell_type": "code",
   "execution_count": 24,
   "metadata": {},
   "outputs": [],
   "source": [
    "n = 5\n",
    "A = buildA(n)"
   ]
  },
  {
   "cell_type": "code",
   "execution_count": 25,
   "metadata": {},
   "outputs": [
    {
     "name": "stdout",
     "output_type": "stream",
     "text": [
      "[[0.19151945 0.27259261 0.         0.         0.        ]\n",
      " [0.87593263 0.62210877 0.27646426 0.         0.        ]\n",
      " [0.         0.35781727 0.43772774 0.80187218 0.        ]\n",
      " [0.         0.         0.50099513 0.78535858 0.95813935]\n",
      " [0.         0.         0.         0.68346294 0.77997581]]\n"
     ]
    }
   ],
   "source": [
    "# Just show when A is small...\n",
    "if n < 7:\n",
    "    print(A)"
   ]
  },
  {
   "cell_type": "markdown",
   "metadata": {},
   "source": [
    "### Construcción ```afun(v)```\n",
    "\n",
    "Con esta función queremos calcular el producto matriz vector $A\\mathbf{v}$ sin necesidad de ocupar todos los coeficientes de $A$. Dado que la matriz tiene muchas entradas nulas evitamos aplicar el algoritmo completo de multiplicación matriz-vector."
   ]
  },
  {
   "cell_type": "code",
   "execution_count": 26,
   "metadata": {},
   "outputs": [],
   "source": [
    "def buildAfun(A, v):\n",
    "    # Get matrix diagonals\n",
    "    a = np.diag(A)\n",
    "    b = np.diag(A, 1)\n",
    "    c = np.diag(A, -1)\n",
    "    \n",
    "    # Vector size\n",
    "    n = v.shape[0]\n",
    "    u = np.zeros(n) # Output vector\n",
    "    \n",
    "    u[0] = a[0] * v[0] + b[0] * v[1] # First element of u\n",
    "    u[-1] = c[-1] * v[-2] + a[-1] * v[-1] # Last element of u\n",
    "    for i in range(1, n-1):\n",
    "        u[i] = c[i-1] * v[i-1] + a[i] * v[i] + b[i] * v[i+1] # Inside u...\n",
    "    return u"
   ]
  },
  {
   "cell_type": "markdown",
   "metadata": {},
   "source": [
    "Probemos el tiempo de cómputo multiplicando por un vector aleatorio."
   ]
  },
  {
   "cell_type": "code",
   "execution_count": 27,
   "metadata": {},
   "outputs": [],
   "source": [
    "n_test = 10000 # For large n we can see the difference in computational time\n",
    "A_test = buildA(n_test)\n",
    "v = np.random.rand(n_test)\n",
    "afun_test = lambda v: buildAfun(A_test, v)"
   ]
  },
  {
   "cell_type": "code",
   "execution_count": 28,
   "metadata": {},
   "outputs": [
    {
     "name": "stdout",
     "output_type": "stream",
     "text": [
      "52 ms ± 1.22 ms per loop (mean ± std. dev. of 7 runs, 1 loop each)\n"
     ]
    }
   ],
   "source": [
    "%timeit np.dot(A_test, v)"
   ]
  },
  {
   "cell_type": "code",
   "execution_count": 29,
   "metadata": {},
   "outputs": [
    {
     "name": "stdout",
     "output_type": "stream",
     "text": [
      "22.1 ms ± 688 µs per loop (mean ± std. dev. of 7 runs, 10 loops each)\n"
     ]
    }
   ],
   "source": [
    "%timeit afun_test(v)"
   ]
  },
  {
   "cell_type": "code",
   "execution_count": 30,
   "metadata": {},
   "outputs": [
    {
     "name": "stdout",
     "output_type": "stream",
     "text": [
      "4.8266229755959866e-15\n"
     ]
    }
   ],
   "source": [
    "Av_1 = np.dot(A_test, v)\n",
    "Av_2 = afun_test(v)\n",
    "print(np.linalg.norm(Av_1- Av_2))"
   ]
  },
  {
   "cell_type": "markdown",
   "metadata": {},
   "source": [
    "Notamos que calcular el producto punto es mucho más costoso que utilizar nuestra función. Luego vemos que el resultado de ambos $A\\mathbf{v}$ es similar. Importante que la diferencia de tiempo computacional se aprecia para valores de $n$ grandes, ya que ```numpy``` ya tiene considerablemente optimizado el producto matriz-vector."
   ]
  },
  {
   "cell_type": "markdown",
   "metadata": {},
   "source": [
    "### \"Matrix-free\" GMRES\n",
    "\n",
    "Modificamos nuestro algoritmo para que no calcule el producto matriz-vector y utilizamos nuestra ```afun(v)```."
   ]
  },
  {
   "cell_type": "code",
   "execution_count": 31,
   "metadata": {},
   "outputs": [],
   "source": [
    "def GMRES2(fun, b, x_0=None, tol=1e-10, max_iter=100, show=False, np_ls=False):\n",
    "    m = b.shape[0]\n",
    "    M = np.min([m, max_iter])\n",
    "    X = np.zeros((M + 1, m))\n",
    "    if x_0 is not None:\n",
    "        X[0] = x_0\n",
    "    \n",
    "    r_0 = b - fun(X[0])\n",
    "    n_r0 = np.linalg.norm(r_0)\n",
    "    Q = np.zeros((m, m))\n",
    "    H = np.zeros((m, m))\n",
    "    Q[:, 0] = r_0 / n_r0\n",
    "\n",
    "    for k in range(M):\n",
    "        \n",
    "        # Arnoldi Iteration\n",
    "        y = fun(Q[:, k])\n",
    "        for j in np.arange(k+1):\n",
    "            H[j, k] = np.dot(Q[:,j], y)\n",
    "            y = y - H[j, k] * Q[:,j]\n",
    "        \n",
    "        # Build H matrix and fill Q_k\n",
    "        if k + 1 < m: \n",
    "            H[k+1, k] = np.linalg.norm(y)\n",
    "            \n",
    "            if np.abs(H[k+1, k]) > 1e-16:\n",
    "                Q[:, k+1] = y / H[k+1, k]  \n",
    "\n",
    "            e_1 = np.zeros((k + 1) + 1)        \n",
    "            e_1[0] = 1\n",
    "            H_tilde = H[:(k + 1) + 1, :k + 1]\n",
    "            s = k + 1\n",
    "        else: # When we use all Krylov subspace\n",
    "            H_tilde = H[:k + 1, :k + 1]\n",
    "            s = m + 1\n",
    "            \n",
    "        # Solving the 'SMALL' least squares problem. \n",
    "        if np_ls: \n",
    "            c_k, _, _, _ = np.linalg.lstsq(H_tilde, n_r0 * e_1, rcond=None) # Using Numpy Implementation\n",
    "        else:\n",
    "            c_k = lstsq(H_tilde, n_r0 * e_1) # Using algorithms seen in classes\n",
    "        \n",
    "        \n",
    "        if show:\n",
    "            print(\"k:\", k)\n",
    "            print(\"H:\\n\", H)\n",
    "            print(\"H_t:\\n\", H_tilde)\n",
    "            print(\"e_1:\\n\", e_1)\n",
    "            print(\"c_k:\\n\", c_k)\n",
    "            print(\"Q_k:\\n\", Q[:,:s])\n",
    "            print()\n",
    "            \n",
    "        X[k+1] = X[0] + np.dot(Q[:, :s], c_k)  \n",
    "        \n",
    "        if np.linalg.norm(fun(X[k+1]) - b) < tol:\n",
    "            X = X[:k + 2] \n",
    "            break\n",
    "        \n",
    "    return X"
   ]
  },
  {
   "cell_type": "code",
   "execution_count": 32,
   "metadata": {},
   "outputs": [],
   "source": [
    "n = 100\n",
    "A_3 = buildA(n)\n",
    "b_3 = np.dot(A_3, np.arange(1, n+1))\n",
    "afun = lambda v: buildAfun(A_3, v)"
   ]
  },
  {
   "cell_type": "code",
   "execution_count": 33,
   "metadata": {},
   "outputs": [],
   "source": [
    "x_3 = GMRES(A_3, b_3, np_ls=True, max_iter=n)"
   ]
  },
  {
   "cell_type": "code",
   "execution_count": 34,
   "metadata": {},
   "outputs": [
    {
     "data": {
      "text/plain": [
       "array([  1.,   2.,   3.,   4.,   5.,   6.,   7.,   8.,   9.,  10.,  11.,\n",
       "        12.,  13.,  14.,  15.,  16.,  17.,  18.,  19.,  20.,  21.,  22.,\n",
       "        23.,  24.,  25.,  26.,  27.,  28.,  29.,  30.,  31.,  32.,  33.,\n",
       "        34.,  35.,  36.,  37.,  38.,  39.,  40.,  41.,  42.,  43.,  44.,\n",
       "        45.,  46.,  47.,  48.,  49.,  50.,  51.,  52.,  53.,  54.,  55.,\n",
       "        56.,  57.,  58.,  59.,  60.,  61.,  62.,  63.,  64.,  65.,  66.,\n",
       "        67.,  68.,  69.,  70.,  71.,  72.,  73.,  74.,  75.,  76.,  77.,\n",
       "        78.,  79.,  80.,  81.,  82.,  83.,  84.,  85.,  86.,  87.,  88.,\n",
       "        89.,  90.,  91.,  92.,  93.,  94.,  95.,  96.,  97.,  98.,  99.,\n",
       "       100.])"
      ]
     },
     "execution_count": 34,
     "metadata": {},
     "output_type": "execute_result"
    }
   ],
   "source": [
    "x_3[-1]"
   ]
  },
  {
   "cell_type": "code",
   "execution_count": 35,
   "metadata": {},
   "outputs": [],
   "source": [
    "x_3 = GMRES2(afun, b_3, np_ls=True, max_iter=n)"
   ]
  },
  {
   "cell_type": "code",
   "execution_count": 36,
   "metadata": {},
   "outputs": [
    {
     "data": {
      "text/plain": [
       "array([  1.,   2.,   3.,   4.,   5.,   6.,   7.,   8.,   9.,  10.,  11.,\n",
       "        12.,  13.,  14.,  15.,  16.,  17.,  18.,  19.,  20.,  21.,  22.,\n",
       "        23.,  24.,  25.,  26.,  27.,  28.,  29.,  30.,  31.,  32.,  33.,\n",
       "        34.,  35.,  36.,  37.,  38.,  39.,  40.,  41.,  42.,  43.,  44.,\n",
       "        45.,  46.,  47.,  48.,  49.,  50.,  51.,  52.,  53.,  54.,  55.,\n",
       "        56.,  57.,  58.,  59.,  60.,  61.,  62.,  63.,  64.,  65.,  66.,\n",
       "        67.,  68.,  69.,  70.,  71.,  72.,  73.,  74.,  75.,  76.,  77.,\n",
       "        78.,  79.,  80.,  81.,  82.,  83.,  84.,  85.,  86.,  87.,  88.,\n",
       "        89.,  90.,  91.,  92.,  93.,  94.,  95.,  96.,  97.,  98.,  99.,\n",
       "       100.])"
      ]
     },
     "execution_count": 36,
     "metadata": {},
     "output_type": "execute_result"
    }
   ],
   "source": [
    "x_3[-1]"
   ]
  },
  {
   "cell_type": "markdown",
   "metadata": {},
   "source": [
    "Notar que en ambos casos obtenemos la solución, pero el impacto de ```afun(v)``` se ve cuando tenemos sistemas de ecuaciones muy grandes."
   ]
  },
  {
   "cell_type": "markdown",
   "metadata": {},
   "source": [
    "## Comentarios"
   ]
  },
  {
   "cell_type": "markdown",
   "metadata": {},
   "source": [
    "Recordar que en cada iteración la complejidad de nuestro algoritmo es la complejidad del producto matriz-vector $O(m^2)$ más la resolución del problema de mínimos cuadrados $O(k^3)$ si utilizamos $QR$ por ejemplo. Se omite la obtención de $h_{j,k}$ ya que es un producto punto, es decir, $O(m)$. De acuerdo a [3] podemos reducir la complejidad del problema de mínimos cuadrados aprovechando la estructura de $\\tilde{H}_k$ de manera que la mayor parte del costo computacional se encuentra en resolver $\\hat{R}\\,\\mathbf{x}=\\hat{Q}^*\\mathbf{b}$, que sería $O(k^2)$. \n",
    "\n",
    "Ahora, nuestro algoritmo tiene como complejidad $k\\left(O(m^2) + O(k^2)\\right)$, donde el peor caso es $k=m$, o sea obtenemos una complejidad de $O(m^3)$ similar a $PA=LU$ por ejemplo. El objetivo es resolver el problema cuando $k<m$, es decir, con complejidad $O(k^3)$. Notar que el uso de ```afun(v)``` nos ayuda a evitar el costo de la multiplicación matriz-vector."
   ]
  },
  {
   "cell_type": "markdown",
   "metadata": {},
   "source": [
    "---"
   ]
  },
  {
   "cell_type": "markdown",
   "metadata": {},
   "source": [
    "## Ejercicio 4: Ecuación de Sylvester\n",
    "\n",
    "La ecuación de Sylvester es una ecuación matricial de la forma:\n",
    "\\begin{equation}\n",
    "    A\\,X + X\\,B = C,\n",
    "\\end{equation}\n",
    "\n",
    "donde $A, B, C \\in \\mathbb{R}^{n \\times n}$ son matrices conocidas y $X\\in \\mathbb{R}^{n \\times n}$ nuestra matriz incógnita. \n",
    "\n",
    "Utilicemos un método iterativo para resolverlo. Algoritmo obtenido de [4].\n",
    "\n",
    "### Idea 1\n",
    "\\begin{equation}\n",
    "    \\begin{split}\n",
    "        A\\,X + X\\,B & = C \\\\\n",
    "        A\\,X & = C - X\\,B \n",
    "    \\end{split}\n",
    "\\end{equation}\n",
    "\n",
    "Luego iteramos $A\\,X_{i+1} = C - X_i\\,B$, con $X_0$ una estimación inicial.\n",
    "\n",
    "### Idea 2\n",
    "\\begin{equation}\n",
    "    \\begin{split}\n",
    "        A\\,X + X\\,B & = C \\\\\n",
    "        X\\,B & = C - A\\,X \\\\\n",
    "        (X\\,B)^T & = (C - A\\,X)^T  \\\\\n",
    "        B^TX^T &= (C - A\\,X)^T \n",
    "    \\end{split}\n",
    "\\end{equation}\n",
    "\n",
    "Luego iteramos $B^T\\,X^T_{i+1} = (C - A\\,X_i)^T$, con $X_0$ una estimación inicial."
   ]
  },
  {
   "cell_type": "code",
   "execution_count": 37,
   "metadata": {},
   "outputs": [],
   "source": [
    "np.random.seed(2468)\n",
    "n = 10\n",
    "A_4 = np.random.rand(n, n) + n * np.eye(n)\n",
    "B_4 = np.random.rand(n, n)\n",
    "C_4 = np.random.rand(n, n)"
   ]
  },
  {
   "cell_type": "code",
   "execution_count": 38,
   "metadata": {},
   "outputs": [],
   "source": [
    "def iterativeSylvester(A, B, C, m, alg=1, tol=1e-10):\n",
    "    X0 = np.zeros_like(A)\n",
    "    X1 = np.zeros_like(A)\n",
    "    if alg == 1: # Algorithm 1\n",
    "        for i in range(m):\n",
    "            X1 = np.linalg.solve(A, C - np.dot(X0, B))\n",
    "            X0 = X1\n",
    "            if np.linalg.norm(np.dot(A, X1) + np.dot(X1, B) - C) < tol:\n",
    "                break\n",
    "        return X1\n",
    "    elif alg == 2: # Algorithm 2\n",
    "        for i in range(m):\n",
    "            X1 = np.linalg.solve(B.T, (C - np.dot(A, X0)).T).T\n",
    "            X0 = X1\n",
    "            if np.linalg.norm(np.dot(A, X1) + np.dot(X1, B) - C) < tol:\n",
    "                break\n",
    "        return X1"
   ]
  },
  {
   "cell_type": "markdown",
   "metadata": {},
   "source": [
    "### Propuesta 1"
   ]
  },
  {
   "cell_type": "code",
   "execution_count": 39,
   "metadata": {},
   "outputs": [],
   "source": [
    "X_1 = iterativeSylvester(A_4, B_4, C_4, 70)"
   ]
  },
  {
   "cell_type": "code",
   "execution_count": 40,
   "metadata": {},
   "outputs": [
    {
     "data": {
      "text/plain": [
       "6.53279812709292e-11"
      ]
     },
     "execution_count": 40,
     "metadata": {},
     "output_type": "execute_result"
    }
   ],
   "source": [
    "np.linalg.norm(np.dot(A_4, X_1) + np.dot(X_1, B_4) - C_4)"
   ]
  },
  {
   "cell_type": "markdown",
   "metadata": {},
   "source": [
    "### Propuesta 2"
   ]
  },
  {
   "cell_type": "code",
   "execution_count": 41,
   "metadata": {},
   "outputs": [],
   "source": [
    "X_2 = iterativeSylvester(A_4, B_4, C_4, 10, 2)"
   ]
  },
  {
   "cell_type": "code",
   "execution_count": 42,
   "metadata": {},
   "outputs": [
    {
     "data": {
      "text/plain": [
       "2.5849271783041154e+22"
      ]
     },
     "execution_count": 42,
     "metadata": {},
     "output_type": "execute_result"
    }
   ],
   "source": [
    "np.linalg.norm(np.dot(A_4, X_2) + np.dot(X_2, B_4) - C_4)"
   ]
  },
  {
   "cell_type": "markdown",
   "metadata": {},
   "source": [
    "### Propuesta 3\n",
    "\n",
    "Utilizando GMRES. En este enfoque, vectorizamos la matriz $C$ para resolver un problema $A\\,\\mathbf{x}=\\mathbf{b}$ donde $\\mathbf{b}=\\operatorname{vec}(C)$. Además, nuestro \"producto matriz vector\", será $AX+XB$. "
   ]
  },
  {
   "cell_type": "code",
   "execution_count": 43,
   "metadata": {},
   "outputs": [],
   "source": [
    "def AXBX(x, A, B):\n",
    "    X = np.reshape(x, A.shape) # Get flattened version of x and reshape to get X\n",
    "    out = np.dot(A, X) + np.dot(X, B) # Out \"matrix-vector\" multiplication\n",
    "    return out.flatten()\n",
    "\n",
    "Ax = lambda x: AXBX(x, A_4, B_4)"
   ]
  },
  {
   "cell_type": "markdown",
   "metadata": {},
   "source": [
    "#### Resolviendo con GMRES implementado"
   ]
  },
  {
   "cell_type": "code",
   "execution_count": 44,
   "metadata": {},
   "outputs": [],
   "source": [
    "x_u = GMRES2(Ax, C_4.flatten(), np_ls=True, max_iter=n ** 2) # C.flatten() is vec(C)...\n",
    "X_3_u = np.reshape(x_u[-1], A_4.shape)"
   ]
  },
  {
   "cell_type": "code",
   "execution_count": 45,
   "metadata": {},
   "outputs": [
    {
     "data": {
      "text/plain": [
       "2.626608384452874e-11"
      ]
     },
     "execution_count": 45,
     "metadata": {},
     "output_type": "execute_result"
    }
   ],
   "source": [
    "np.linalg.norm(np.dot(A_4, X_3_u) + np.dot(X_3_u, B_4) - C_4)"
   ]
  },
  {
   "cell_type": "markdown",
   "metadata": {},
   "source": [
    "#### Resolviendo con GMRES de ```scipy```"
   ]
  },
  {
   "cell_type": "code",
   "execution_count": 46,
   "metadata": {},
   "outputs": [],
   "source": [
    "# This is required by Scipy GMRES... It's just a funcion to compute matrix-vector multiplication\n",
    "afun2 = LinearOperator((n ** 2, n ** 2), matvec = Ax) \n",
    "x_s, exitCode = gmres(afun2, C_4.flatten(), tol=1e-10)\n",
    "X_3_s = np.reshape(x_s, A_4.shape)"
   ]
  },
  {
   "cell_type": "code",
   "execution_count": 47,
   "metadata": {},
   "outputs": [
    {
     "data": {
      "text/plain": [
       "1.6638877930818026e-10"
      ]
     },
     "execution_count": 47,
     "metadata": {},
     "output_type": "execute_result"
    }
   ],
   "source": [
    "np.linalg.norm(np.dot(A_4, X_3_s) + np.dot(X_3_s, B_4) - C_4)"
   ]
  },
  {
   "cell_type": "markdown",
   "metadata": {},
   "source": [
    "### Solución del problema"
   ]
  },
  {
   "cell_type": "code",
   "execution_count": 48,
   "metadata": {},
   "outputs": [],
   "source": [
    "X = spla.solve_sylvester(A_4, B_4, C_4)"
   ]
  },
  {
   "cell_type": "code",
   "execution_count": 49,
   "metadata": {},
   "outputs": [
    {
     "name": "stdout",
     "output_type": "stream",
     "text": [
      "Propuesta 1:  4.689803856203944e-12\n",
      "Propuesta 2:  1.690995795460254e+21\n",
      "Propuesta 3a: 1.6368741557609354e-11\n",
      "Propuesta 3b: 2.5798177172434354e-12\n"
     ]
    }
   ],
   "source": [
    "print(\"Propuesta 1: \", np.linalg.norm(X_1 - X))\n",
    "print(\"Propuesta 2: \", np.linalg.norm(X_2 - X)) \n",
    "print(\"Propuesta 3a:\", np.linalg.norm(X_3_s - X))\n",
    "print(\"Propuesta 3b:\", np.linalg.norm(X_3_u - X))"
   ]
  },
  {
   "cell_type": "markdown",
   "metadata": {},
   "source": [
    "La propuesta 2 no converge. \n",
    "El objetivo del ejercicio es conectar una iteración de punto fijo con una ecuación matricial."
   ]
  },
  {
   "cell_type": "markdown",
   "metadata": {},
   "source": [
    "# Referencias\n",
    "* [1] https://github.com/tclaudioe/Scientific-Computing/blob/master/SC1/10_GMRes.ipynb\n",
    "* [2] https://docs.scipy.org/doc/scipy/reference/generated/scipy.sparse.linalg.gmres.html\n",
    "* [3] Trefethen, L. N., & Bau III, D. (1997). Numerical linear algebra (Vol. 50). SIAM.\n",
    "* [4] https://github.com/tclaudioe/Scientific-Computing/blob/master/SC1/Bonus%20-%20Sylvester%20Equation%20with%20GMRes%20.ipynb"
   ]
  }
 ],
 "metadata": {
  "kernelspec": {
   "display_name": "Python 3.7.7 64-bit ('cc': conda)",
   "language": "python",
   "name": "python37764bitcccondaf9be1bff0edc45b89bc5baae44dcd3f4"
  },
  "language_info": {
   "codemirror_mode": {
    "name": "ipython",
    "version": 3
   },
   "file_extension": ".py",
   "mimetype": "text/x-python",
   "name": "python",
   "nbconvert_exporter": "python",
   "pygments_lexer": "ipython3",
   "version": "3.7.7"
  }
 },
 "nbformat": 4,
 "nbformat_minor": 4
}
