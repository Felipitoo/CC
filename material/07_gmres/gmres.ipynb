{
 "cells": [
  {
   "cell_type": "markdown",
   "metadata": {},
   "source": [
    "# GMRES\n",
    "\n",
    "## Ejemplos"
   ]
  },
  {
   "cell_type": "code",
   "execution_count": 1,
   "metadata": {},
   "outputs": [],
   "source": [
    "import numpy as np\n",
    "import scipy.linalg as spla\n",
    "from scipy.sparse.linalg import gmres\n",
    "import matplotlib.pyplot as plt"
   ]
  },
  {
   "cell_type": "markdown",
   "metadata": {},
   "source": [
    "### Implementación $QR$ reducido"
   ]
  },
  {
   "cell_type": "code",
   "execution_count": 2,
   "metadata": {},
   "outputs": [],
   "source": [
    "def QR(A, modified=True):\n",
    "    m, n = A.shape\n",
    "    Q = np.zeros((m, n))\n",
    "    R = np.zeros((n, n))\n",
    "    # Gram-Schmidt orthogonalization\n",
    "    for j in range(n):\n",
    "        y = A[:, j]\n",
    "        if modified:\n",
    "            for i in range(j):\n",
    "                R[i, j] = np.dot(Q[:, i], y)\n",
    "                y = y - R[i, j] * Q[:, i]\n",
    "        else:\n",
    "            for i in range(j):\n",
    "                R[i, j] = np.dot(Q[:, i], A[:, j])\n",
    "                y = y - R[i, j] * Q[:, i]\n",
    "        R[j, j] = np.linalg.norm(y)\n",
    "        Q[:, j] = y / R[j, j]\n",
    "    return Q, R"
   ]
  },
  {
   "cell_type": "markdown",
   "metadata": {},
   "source": [
    "### Mínimos Cuadrados"
   ]
  },
  {
   "cell_type": "code",
   "execution_count": 3,
   "metadata": {},
   "outputs": [],
   "source": [
    "def lstsq(A, b, qr=True):\n",
    "    if qr:\n",
    "        Q, R = QR(A) # QR reduced\n",
    "        x = spla.solve_triangular(R, np.dot(Q.T, b)) # Solve Rx=Q^*b\n",
    "    else:\n",
    "        x = np.linalg.solve(np.dot(A.T, A), np.dot(A.T, b)) # Solve A^*Ax=A^*b\n",
    "    return x"
   ]
  },
  {
   "cell_type": "markdown",
   "metadata": {},
   "source": [
    "### Implementación GMRES\n",
    "\n",
    "Versión modificada de [1]."
   ]
  },
  {
   "cell_type": "code",
   "execution_count": 4,
   "metadata": {},
   "outputs": [],
   "source": [
    "def GMRES(A, b, x_0=None, tol=1e-10, max_iter=100, show=False, np_ls=False):\n",
    "    m = b.shape[0]\n",
    "    \n",
    "    M = np.min([m, max_iter])\n",
    "    \n",
    "    X = np.zeros((M + 1, m))\n",
    "    if x_0 is not None:\n",
    "        X[0] = x_0\n",
    "    \n",
    "    r_0 = b - np.dot(A, X[0])\n",
    "    n_r0 = np.linalg.norm(r_0)\n",
    "    \n",
    "    Q = np.zeros((m, m))\n",
    "    H = np.zeros((m, m))\n",
    "    \n",
    "    Q[:, 0] = r_0 / n_r0\n",
    "\n",
    "    for k in range(M):\n",
    "        \n",
    "        # Arnoldi Iteration\n",
    "        y = np.dot(A, Q[:, k])\n",
    "        for j in np.arange(k+1):\n",
    "            H[j, k] = np.dot(Q[:,j], y)\n",
    "            y = y - H[j, k] * Q[:,j]\n",
    "        \n",
    "        # Build H matrix and fill Q_k\n",
    "        if k + 1 < m: \n",
    "            H[k+1, k] = np.linalg.norm(y)\n",
    "            \n",
    "            if np.abs(H[k+1, k]) > 1e-16:\n",
    "                Q[:, k+1] = y / H[k+1, k]  \n",
    "\n",
    "            e_1 = np.zeros((k + 1) + 1)        \n",
    "            e_1[0] = 1\n",
    "            H_tilde = H[:(k + 1) + 1, :k + 1]\n",
    "            s = k + 1\n",
    "        else: # When we use all Krylov subspace\n",
    "            H_tilde = H[:k + 1, :k + 1]\n",
    "            s = m + 1\n",
    "            \n",
    "        # Solving the 'SMALL' least squares problem. \n",
    "        if np_ls: \n",
    "            c_k, _, _, _ = np.linalg.lstsq(H_tilde, n_r0 * e_1, rcond=None) # Using Numpy Implementation\n",
    "        else:\n",
    "            c_k = lstsq(H_tilde, n_r0 * e_1) # Using algorithms seen in classes\n",
    "        \n",
    "        \n",
    "        if show:\n",
    "            print(\"k:\", k)\n",
    "            print(\"H:\\n\", H)\n",
    "            print(\"H_t:\\n\", H_tilde)\n",
    "            print(\"e_1:\\n\", e_1)\n",
    "            print(\"c_k:\\n\", c_k)\n",
    "            print(\"Q_k:\\n\", Q[:,:s])\n",
    "            print()\n",
    "            \n",
    "        X[k+1] = X[0] + np.dot(Q[:, :s], c_k)  \n",
    "        \n",
    "        if np.linalg.norm(np.dot(A, X[k+1]) - b) < tol:\n",
    "            X = X[:k + 2] \n",
    "            break\n",
    "        \n",
    "    return X"
   ]
  },
  {
   "cell_type": "code",
   "execution_count": 5,
   "metadata": {},
   "outputs": [],
   "source": [
    "np.random.seed(1234567890)\n",
    "m = 50\n",
    "A = np.random.rand(m, m)\n",
    "A += m * np.eye(m) \n",
    "b = np.dot(A, np.ones(m))"
   ]
  },
  {
   "cell_type": "markdown",
   "metadata": {},
   "source": [
    "#### Solver de ```numpy```"
   ]
  },
  {
   "cell_type": "code",
   "execution_count": 6,
   "metadata": {},
   "outputs": [
    {
     "data": {
      "text/plain": [
       "array([1., 1., 1., 1., 1., 1., 1., 1., 1., 1., 1., 1., 1., 1., 1., 1., 1.,\n",
       "       1., 1., 1., 1., 1., 1., 1., 1., 1., 1., 1., 1., 1., 1., 1., 1., 1.,\n",
       "       1., 1., 1., 1., 1., 1., 1., 1., 1., 1., 1., 1., 1., 1., 1., 1.])"
      ]
     },
     "execution_count": 6,
     "metadata": {},
     "output_type": "execute_result"
    }
   ],
   "source": [
    "x = np.linalg.solve(A, b)\n",
    "x"
   ]
  },
  {
   "cell_type": "markdown",
   "metadata": {},
   "source": [
    "#### Implementación"
   ]
  },
  {
   "cell_type": "code",
   "execution_count": 7,
   "metadata": {
    "scrolled": false
   },
   "outputs": [
    {
     "data": {
      "text/plain": [
       "array([1., 1., 1., 1., 1., 1., 1., 1., 1., 1., 1., 1., 1., 1., 1., 1., 1.,\n",
       "       1., 1., 1., 1., 1., 1., 1., 1., 1., 1., 1., 1., 1., 1., 1., 1., 1.,\n",
       "       1., 1., 1., 1., 1., 1., 1., 1., 1., 1., 1., 1., 1., 1., 1., 1.])"
      ]
     },
     "execution_count": 7,
     "metadata": {},
     "output_type": "execute_result"
    }
   ],
   "source": [
    "x_g = GMRES(A, b, tol=1e-10)\n",
    "x_g[-1]"
   ]
  },
  {
   "cell_type": "markdown",
   "metadata": {},
   "source": [
    "#### GMRES ```scipy```"
   ]
  },
  {
   "cell_type": "code",
   "execution_count": 8,
   "metadata": {},
   "outputs": [
    {
     "data": {
      "text/plain": [
       "array([1.00000283, 0.99999891, 0.99999816, 1.00000288, 0.99999952,\n",
       "       1.00000131, 0.99999789, 0.99999908, 1.00000076, 0.9999992 ,\n",
       "       0.99999774, 0.99999935, 1.00000072, 0.99999843, 0.99999799,\n",
       "       0.99999967, 1.00000151, 0.99999965, 1.00000197, 0.99999941,\n",
       "       1.00000173, 1.00000211, 1.00000044, 1.00000144, 0.99999903,\n",
       "       0.99999915, 0.99999907, 1.0000025 , 1.0000014 , 0.99999941,\n",
       "       0.99999976, 1.00000038, 0.99999592, 0.99999985, 1.00000254,\n",
       "       1.00000003, 0.99999703, 0.99999811, 1.00000046, 0.99999981,\n",
       "       0.99999927, 0.99999954, 0.99999972, 1.00000031, 1.00000321,\n",
       "       1.00000122, 0.99999899, 1.00000174, 0.99999856, 1.00000003])"
      ]
     },
     "execution_count": 8,
     "metadata": {},
     "output_type": "execute_result"
    }
   ],
   "source": [
    "x_s, _ = gmres(A, b)\n",
    "x_s"
   ]
  },
  {
   "cell_type": "markdown",
   "metadata": {},
   "source": [
    "### Convergencia"
   ]
  },
  {
   "cell_type": "code",
   "execution_count": 9,
   "metadata": {},
   "outputs": [],
   "source": [
    "error = lambda x, x_a: np.linalg.norm(x - x_a, ord=2, axis=1) / np.linalg.norm(x)\n",
    "back_error = lambda x, A, b: np.linalg.norm(b - np.dot(A, x), ord=2) / np.linalg.norm(b)"
   ]
  },
  {
   "cell_type": "code",
   "execution_count": 10,
   "metadata": {},
   "outputs": [],
   "source": [
    "b_e = np.array([back_error(x_i, A, b) for x_i in x_g[1:]])\n",
    "err = error(x, x_g[1:])"
   ]
  },
  {
   "cell_type": "code",
   "execution_count": 11,
   "metadata": {},
   "outputs": [
    {
     "data": {
      "image/png": "[encoded data removed]",
      "text/plain": [
       "<Figure size 864x432 with 1 Axes>"
      ]
     },
     "metadata": {
      "needs_background": "light"
     },
     "output_type": "display_data"
    }
   ],
   "source": [
    "Ni_e = np.arange(err.shape[-1])\n",
    "Ni_b = np.arange(b_e.shape[-1])\n",
    "plt.figure(figsize=(12, 6))\n",
    "plt.plot(Ni_e, err, 'bo', label=r'$||\\mathbf{x} - \\mathbf{x}_a||_2/||\\mathbf{x}||_2$')\n",
    "plt.plot(Ni_b, b_e, 'rx', label=r'$||\\mathbf{b} - A\\,\\mathbf{x}||_2/||\\mathbf{b}||_2$')\n",
    "plt.yscale('log')\n",
    "plt.xlabel('# Iterations')\n",
    "plt.ylabel('Error')\n",
    "plt.legend()\n",
    "plt.grid(True)\n",
    "plt.show()"
   ]
  },
  {
   "cell_type": "markdown",
   "metadata": {},
   "source": [
    "## Referencias\n",
    "* [1] https://github.com/tclaudioe/Scientific-Computing/blob/master/SC1/10_GMRes.ipynb\n",
    "* [2] https://docs.scipy.org/doc/scipy/reference/generated/scipy.sparse.linalg.gmres.html"
   ]
  }
 ],
 "metadata": {
  "kernelspec": {
   "display_name": "Python 3.7.7 64-bit ('cc': conda)",
   "language": "python",
   "name": "python37764bitcccondaf9be1bff0edc45b89bc5baae44dcd3f4"
  },
  "language_info": {
   "codemirror_mode": {
    "name": "ipython",
    "version": 3
   },
   "file_extension": ".py",
   "mimetype": "text/x-python",
   "name": "python",
   "nbconvert_exporter": "python",
   "pygments_lexer": "ipython3",
   "version": "3.7.7"
  }
 },
 "nbformat": 4,
 "nbformat_minor": 4
}
