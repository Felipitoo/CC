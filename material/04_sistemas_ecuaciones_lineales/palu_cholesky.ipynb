{
 "cells": [
  {
   "cell_type": "markdown",
   "metadata": {},
   "source": [
    "# Sistema de Ecuaciones Lineales\n",
    "## Factorización PALU y Cholesky"
   ]
  },
  {
   "cell_type": "code",
   "execution_count": 1,
   "metadata": {},
   "outputs": [],
   "source": [
    "import numpy as np\n",
    "import matplotlib.pyplot as plt\n",
    "import sympy as sym\n",
    "from scipy import linalg as spla\n",
    "from scipy import sparse as scsp\n",
    "from time import time"
   ]
  },
  {
   "cell_type": "markdown",
   "metadata": {},
   "source": [
    "## Número de Condición"
   ]
  },
  {
   "cell_type": "markdown",
   "metadata": {},
   "source": [
    "### Matriz de Hilbert\n",
    "\n",
    "Matriz cuadrada simétrica y positiva definida, cuyas entradas se definen como:\n",
    "\\begin{equation}\n",
    "    H_{ij} = \\frac{1}{i+j-1}\n",
    "\\end{equation}\n",
    "\n",
    "Por ejemplo, la matriz $H$ de $5\\times 5$ es\n",
    "\\begin{equation}\n",
    "     H=\n",
    "     \\begin{bmatrix}\n",
    "         1 & \\frac {1}{2} & \\frac {1}{3} & \\frac {1}{4} & \\frac {1}{5}\\\\\n",
    "         \\frac {1}{2} & \\frac {1}{3} & \\frac {1}{4} & \\frac {1}{5} & \\frac {1}{6}\\\\\n",
    "         \\frac {1}{3} & \\frac {1}{4} & \\frac {1}{5} & \\frac {1}{6} & \\frac {1}{7}\\\\\n",
    "         \\frac {1}{4} & \\frac {1}{5} & \\frac {1}{6} & \\frac {1}{7} & \\frac {1}{8}\\\\\n",
    "         \\frac {1}{5} & \\frac {1}{6} & \\frac {1}{7} & \\frac {1}{8} & \\frac {1}{9}\n",
    "     \\end{bmatrix}\n",
    "\\end{equation}"
   ]
  },
  {
   "cell_type": "code",
   "execution_count": 2,
   "metadata": {},
   "outputs": [],
   "source": [
    "n = 5\n",
    "H = spla.hilbert(n)"
   ]
  },
  {
   "cell_type": "markdown",
   "metadata": {},
   "source": [
    "¿Simétrica?"
   ]
  },
  {
   "cell_type": "code",
   "execution_count": 3,
   "metadata": {},
   "outputs": [
    {
     "data": {
      "text/plain": [
       "True"
      ]
     },
     "execution_count": 3,
     "metadata": {},
     "output_type": "execute_result"
    }
   ],
   "source": [
    "np.all(H == H.T)"
   ]
  },
  {
   "cell_type": "markdown",
   "metadata": {},
   "source": [
    "¿Definida positiva?"
   ]
  },
  {
   "cell_type": "code",
   "execution_count": 4,
   "metadata": {},
   "outputs": [
    {
     "data": {
      "text/plain": [
       "True"
      ]
     },
     "execution_count": 4,
     "metadata": {},
     "output_type": "execute_result"
    }
   ],
   "source": [
    "np.all(np.linalg.eigvals(H) > 0)"
   ]
  },
  {
   "cell_type": "markdown",
   "metadata": {},
   "source": [
    "Cuidado ver lo que pasa para valores de $n$ grandes."
   ]
  },
  {
   "cell_type": "markdown",
   "metadata": {},
   "source": [
    "Número de condición $\\kappa(A)$"
   ]
  },
  {
   "cell_type": "code",
   "execution_count": 5,
   "metadata": {},
   "outputs": [
    {
     "data": {
      "text/plain": [
       "(476607.25024100044, 476607.2502420452)"
      ]
     },
     "execution_count": 5,
     "metadata": {},
     "output_type": "execute_result"
    }
   ],
   "source": [
    "np.linalg.cond(H), np.max(np.abs(np.linalg.eigvals(H)))/np.min(np.abs(np.linalg.eigvals(H)))"
   ]
  },
  {
   "cell_type": "markdown",
   "metadata": {},
   "source": [
    "En teoría esta matriz es simétrica y definida positiva, en la práctica para $n$ grandes no se cumple la ultima propiedad. Además es una matriz mal condicionada. ¿Qué pasará si debemos resolver un sistema de ecuaciones lineales con esta matriz?"
   ]
  },
  {
   "cell_type": "markdown",
   "metadata": {},
   "source": [
    "# Matriz definida positiva "
   ]
  },
  {
   "cell_type": "markdown",
   "metadata": {},
   "source": [
    "Una manera de comprobar si una matriz es definida positiva es calcular los valores propios y comprobar que todos estos sean positivos. Veamos el caso para $n=2$."
   ]
  },
  {
   "cell_type": "code",
   "execution_count": 6,
   "metadata": {},
   "outputs": [
    {
     "name": "stdout",
     "output_type": "stream",
     "text": [
      "[1.0486246  1.63377355]\n",
      "[ True  True]\n"
     ]
    }
   ],
   "source": [
    "np.random.seed(2)\n",
    "n = 2\n",
    "A = np.random.rand(n, n)\n",
    "A = np.dot(A, A.T) + np.eye(n)\n",
    "eigenvalues = np.linalg.eig(A)[0]\n",
    "print(eigenvalues)\n",
    "print(eigenvalues > 0)"
   ]
  },
  {
   "cell_type": "markdown",
   "metadata": {},
   "source": [
    "La otra forma es comprobar $\\mathbf{x}^{T} A \\mathbf{x} > 0$, $\\mathbf{x}\\neq\\mathbf{0}$, para eso podemos hacer uso de simpy:"
   ]
  },
  {
   "cell_type": "code",
   "execution_count": 7,
   "metadata": {},
   "outputs": [
    {
     "data": {
      "text/latex": [
       "$\\displaystyle 1.49163442510266 \\left(0.798294611703302 x^{2} + 0.336458187477782 x y + 1.0 y^{2}\\right)$"
      ],
      "text/plain": [
       "1.49163442510266*(0.798294611703302*x**2 + 0.336458187477782*x*y + 1.0*y**2)"
      ]
     },
     "execution_count": 7,
     "metadata": {},
     "output_type": "execute_result"
    }
   ],
   "source": [
    "x, y = sym.symbols('x y')\n",
    "x = np.array([x,y])\n",
    "f = sym.factor(sym.expand(np.dot(np.dot(x,A),x)))\n",
    "fl = sym.lambdify(x, f)\n",
    "f"
   ]
  },
  {
   "cell_type": "markdown",
   "metadata": {},
   "source": [
    "Si analizamos el polinomio anterior tenemos:\n",
    "\n",
    "\\begin{equation}\n",
    "    \\begin{split}\n",
    "        0.798294611703302 x^{2} + 0.336458187477782 xy + y^2 & \\\\\n",
    "        0.798294611703302 x^{2} + 0.336458187477782 xy + y^2 + 0.028301027980208573x^2 - 0.028301027980208573x^2 & \\\\\n",
    "        0.7699935837230933 x^{2} + (0.168229093738891x + y)^{2} &\n",
    "    \\end{split}\n",
    "\\end{equation}"
   ]
  },
  {
   "cell_type": "markdown",
   "metadata": {},
   "source": [
    "El polinomio es positivo para cualquier valor de $x,y$, entonces estamos en presencia de una matriz definida positiva"
   ]
  },
  {
   "cell_type": "markdown",
   "metadata": {},
   "source": [
    "Otra idea, pero que podría ser más complicado para $\\mathbb{R}^{n}$ con $n>3$, es utilizar el criterio de la segunda derivada (en este caso parcial)."
   ]
  },
  {
   "cell_type": "code",
   "execution_count": 8,
   "metadata": {},
   "outputs": [],
   "source": [
    "fx = sym.diff(f, x[0]) \n",
    "fy = sym.diff(f, x[1])\n",
    "fxy = sym.diff(fx, x[1])\n",
    "fyx = sym.diff(fy, x[0])\n",
    "fxx = sym.diff(fx, x[0])\n",
    "fyy = sym.diff(fy, x[1])\n",
    "fxxl = sym.lambdify(x, fxx)\n",
    "fxyl = sym.lambdify(x, fxy)\n",
    "fyyl = sym.lambdify(x, fyy)\n",
    "D = lambda a, b: fxxl(a, b) * fyyl(a, b) - (fxyl(a, b)) ** 2   "
   ]
  },
  {
   "cell_type": "code",
   "execution_count": 9,
   "metadata": {},
   "outputs": [
    {
     "data": {
      "text/plain": [
       "(2.38152744838122*x + 0.501872615049506*y,\n",
       " 0.501872615049506*x + 2.98326885020533*y)"
      ]
     },
     "execution_count": 9,
     "metadata": {},
     "output_type": "execute_result"
    }
   ],
   "source": [
    "fx, fy"
   ]
  },
  {
   "cell_type": "code",
   "execution_count": 10,
   "metadata": {},
   "outputs": [
    {
     "data": {
      "text/plain": [
       "{y: 0.0, x: 0.0}"
      ]
     },
     "execution_count": 10,
     "metadata": {},
     "output_type": "execute_result"
    }
   ],
   "source": [
    "sym.solve([fx, fy])"
   ]
  },
  {
   "cell_type": "code",
   "execution_count": 11,
   "metadata": {},
   "outputs": [
    {
     "data": {
      "text/plain": [
       "(6.852860530928045, 2.38152744838122)"
      ]
     },
     "execution_count": 11,
     "metadata": {},
     "output_type": "execute_result"
    }
   ],
   "source": [
    "D(0, 0), fxxl(0, 0)"
   ]
  },
  {
   "cell_type": "code",
   "execution_count": 12,
   "metadata": {},
   "outputs": [
    {
     "data": {
      "text/plain": [
       "0.0"
      ]
     },
     "execution_count": 12,
     "metadata": {},
     "output_type": "execute_result"
    }
   ],
   "source": [
    "fl(0,0)"
   ]
  },
  {
   "cell_type": "markdown",
   "metadata": {},
   "source": [
    "La función tienen un mínimo en $(x,y)=(0,0)$ pero por definición no nos interesa ese punto, así que la función efectivamente es positiva. Por lo tanto $A$ es definida positiva."
   ]
  },
  {
   "cell_type": "markdown",
   "metadata": {},
   "source": [
    "# Complejidad temporal y espacial"
   ]
  },
  {
   "cell_type": "markdown",
   "metadata": {},
   "source": [
    "Estimación del tamaño del arreglo en [MB]"
   ]
  },
  {
   "cell_type": "code",
   "execution_count": 13,
   "metadata": {},
   "outputs": [],
   "source": [
    "size = lambda a: a.nbytes * 1e-6"
   ]
  },
  {
   "cell_type": "code",
   "execution_count": 14,
   "metadata": {},
   "outputs": [],
   "source": [
    "Ne = 10 # Repetición de experimentos\n",
    "Nf = 10 \n",
    "N = 2 ** np.arange(7, Nf + 1) # N = [2^7, 2^{10}]\n",
    "Nn = N.shape[-1] \n",
    "# Para tiempos\n",
    "times_palu = np.zeros(Nn)\n",
    "times_chol = np.zeros(Nn)\n",
    "# Para espacio\n",
    "storage_palu = np.zeros(Nn)\n",
    "storage_chol = np.zeros(Nn)"
   ]
  },
  {
   "cell_type": "markdown",
   "metadata": {},
   "source": [
    "## Experimentos"
   ]
  },
  {
   "cell_type": "code",
   "execution_count": 15,
   "metadata": {},
   "outputs": [],
   "source": [
    "for i in range(Nn):\n",
    "    n = N[i]\n",
    "    A = np.random.rand(n, n)\n",
    "    A = np.dot(A, A.T) + np.eye(n)\n",
    "    # Time PALU\n",
    "    start_time= time()\n",
    "    for j in range(Ne):\n",
    "        P, L, U = spla.lu(A)\n",
    "    end_time = time()\n",
    "    storage_palu[i] = size(P) + size(L) + size(U)\n",
    "    times_palu[i] = (end_time - start_time) / Ne\n",
    "    # Time Cholesky\n",
    "    start_time = time()\n",
    "    for j in range(Ne):\n",
    "        R = np.linalg.cholesky(A) # R corresponde a R^T \n",
    "    end_time = time()\n",
    "    times_chol[i] = (end_time - start_time) / Ne\n",
    "    # Storage\n",
    "    storage_chol[i] = size(R)"
   ]
  },
  {
   "cell_type": "markdown",
   "metadata": {},
   "source": [
    "## Análisis de tiempo computacional"
   ]
  },
  {
   "cell_type": "code",
   "execution_count": 16,
   "metadata": {},
   "outputs": [
    {
     "data": {
      "image/png": "[encoded data removed]",
      "text/plain": [
       "<Figure size 864x432 with 1 Axes>"
      ]
     },
     "metadata": {
      "needs_background": "light"
     },
     "output_type": "display_data"
    }
   ],
   "source": [
    "plt.figure(figsize=(12, 6))\n",
    "plt.plot(N, times_palu, 'bd', label=\"PALU\")\n",
    "plt.plot(N, times_chol, 'go', label=\"Cholesky\")\n",
    "# Deben adaptar el coeficiente que acompaña a N**k según los tiempos que obtengan en su computador\n",
    "plt.plot(N, 1e-8 * N ** 2, 'g--', label=r\"$O(n^2)$\") \n",
    "plt.plot(N, 1e-10 * N ** 3, 'r--', label=r\"$O(n^3)$\")\n",
    "plt.grid(True)\n",
    "plt.yscale('log')\n",
    "plt.xscale('log')\n",
    "plt.xlabel(r\"$n$\")\n",
    "plt.ylabel(\"Time [s]\")\n",
    "plt.legend()\n",
    "plt.show()"
   ]
  },
  {
   "cell_type": "markdown",
   "metadata": {},
   "source": [
    "Los algoritmos tienen una complejidad que tiende a $O(n^3)$. Dado que hay optimizaciones en las bibliotecas, pueden ver exponentes menores a $3$. En teoría el análisis debería funcionar para $n\\to\\infty$."
   ]
  },
  {
   "cell_type": "markdown",
   "metadata": {},
   "source": [
    "## Análisis de memoria"
   ]
  },
  {
   "cell_type": "code",
   "execution_count": null,
   "metadata": {},
   "outputs": [],
   "source": [
    "plt.figure(figsize=(12, 6))\n",
    "plt.plot(N, storage_palu, 'bd', label=\"PALU\")\n",
    "plt.plot(N, storage_chol, 'go', label=\"Cholesky\")\n",
    "plt.plot(N, 1.5e-5 * N ** 2, 'g-', label=r\"$O(n^2)$\")\n",
    "plt.grid(True)\n",
    "plt.yscale('log')\n",
    "plt.xscale('log')\n",
    "plt.xlabel(r\"$n$\")\n",
    "plt.ylabel(\"Size [GB]\")\n",
    "plt.legend()\n",
    "plt.show()"
   ]
  },
  {
   "cell_type": "markdown",
   "metadata": {},
   "source": [
    "Si guardamos todos los elementos de las matrices, el espacio utlizado debería ser del orden $\\sim n^2$. ¿Existirá una manera de ahorrar espacio?"
   ]
  },
  {
   "cell_type": "markdown",
   "metadata": {},
   "source": [
    "# Alternativas de almacenamiento"
   ]
  },
  {
   "cell_type": "markdown",
   "metadata": {},
   "source": [
    "En el caso de $PALU$ debemos almacenar $P$, $L$ y $U$ $\\sim 3n^2$. Con Cholesky solo debemos almacenar $\\sim n^2$.\n",
    "Dado que hay muchos elementos iguales a $0$, podríamos almacenar de manera eficiente solo los valores distintos de $0$. Las matrices que tienen muchos valores que son $0$ se conocen como **Sparse Matrix**, *Matriz dispersa o rala* en español. $L$, $U$ y $R$ son matrices triangulares, y $P$ solo tiene $n$ elementos distintos de $0$.\n",
    "\n",
    "Una matriz triangular, tiene $\\displaystyle n^2 - \\sum_{i=1}^{n-1}i=n^2 - \\frac{n(n-1)}{2}=\\frac{n^2+ n}{2}$ elementos. Es decir, con una representación *dispersa*, $PALU$ requiere mantener $n^2 + 2n$ elementos mientras que Cholesky solo requiere $\\displaystyle \\frac{n^2+ n}{2}$."
   ]
  },
  {
   "cell_type": "markdown",
   "metadata": {},
   "source": [
    "## Almacenamiento *Sparse*\n",
    "\n",
    "### Coordinate list (COO)\n",
    "\n",
    "Se almacena una lista de tuplas con $(fila, columna, valor)$.\n",
    "\n",
    "### Compressed sparse row (CSR)\n",
    "\n",
    "La matriz se almacena por fila. Se mantienen 3 arreglos, $valores$, $indice\\_columnas$, $puntero\\_fila$. El primer arreglo guarda los valores no nulos, el segundo guarda el índice de la columna donde se encuentra el coeficiente y el último indica qué parte del primer y segundo arreglo corresponde a cada fila.\n",
    "\n",
    "### Compressed sparse column (CSC)\n",
    "\n",
    "Análogo al anterior pero se almacena por columnas. Además el segundo arreglo mantiene el $indice\\_filas$ y el tercero $puntero\\_columna$."
   ]
  },
  {
   "cell_type": "markdown",
   "metadata": {},
   "source": [
    "## Ejemplo"
   ]
  },
  {
   "cell_type": "code",
   "execution_count": null,
   "metadata": {},
   "outputs": [],
   "source": [
    "M = np.array([[1, 0, 3, 0], [0, 1, 8, 0], [0, 0, 0, 0], [0, 1, 0, 1]])"
   ]
  },
  {
   "cell_type": "code",
   "execution_count": null,
   "metadata": {},
   "outputs": [],
   "source": [
    "M"
   ]
  },
  {
   "cell_type": "markdown",
   "metadata": {},
   "source": [
    "### COO"
   ]
  },
  {
   "cell_type": "code",
   "execution_count": null,
   "metadata": {},
   "outputs": [],
   "source": [
    "M_coo = scsp.coo_matrix(M)"
   ]
  },
  {
   "cell_type": "code",
   "execution_count": null,
   "metadata": {},
   "outputs": [],
   "source": [
    "print(\"Datos:\", M_coo.data)\n",
    "print(\"Indice filas:\", M_coo.row)\n",
    "print(\"Indice columnas:\", M_coo.col)"
   ]
  },
  {
   "cell_type": "markdown",
   "metadata": {},
   "source": [
    "### CSR"
   ]
  },
  {
   "cell_type": "code",
   "execution_count": null,
   "metadata": {},
   "outputs": [],
   "source": [
    "M_csr = scsp.csr_matrix(M)"
   ]
  },
  {
   "cell_type": "code",
   "execution_count": null,
   "metadata": {},
   "outputs": [],
   "source": [
    "print(\"Datos:\", M_csr.data)\n",
    "print(\"Indice columnas:\", M_csr.indices)\n",
    "print(\"Puntero filas:\", M_csr.indptr)"
   ]
  },
  {
   "cell_type": "code",
   "execution_count": null,
   "metadata": {},
   "outputs": [],
   "source": [
    "for i in range(M_csr.indptr.shape[-1]-1):\n",
    "    print(\"Los elementos de la fila %d, se encuentran entre las posiciones [%d, %d) del arreglo de indices\" % (i, M_csr.indptr[i], M_csr.indptr[i+1]))"
   ]
  },
  {
   "cell_type": "markdown",
   "metadata": {},
   "source": [
    "### CSC"
   ]
  },
  {
   "cell_type": "code",
   "execution_count": null,
   "metadata": {},
   "outputs": [],
   "source": [
    "M_csc = scsp.csc_matrix(M)"
   ]
  },
  {
   "cell_type": "code",
   "execution_count": null,
   "metadata": {},
   "outputs": [],
   "source": [
    "print(\"Datos:\", M_csc.data)\n",
    "print(\"Indice filas:\", M_csc.indices)\n",
    "print(\"Puntero columnas:\", M_csc.indptr)"
   ]
  },
  {
   "cell_type": "code",
   "execution_count": null,
   "metadata": {},
   "outputs": [],
   "source": [
    "for i in range(M_csc.indptr.shape[-1]-1):\n",
    "    print(\"Los elementos de la columna %d, se encuentran entre las posiciones [%d, %d) del arreglo de indices\" % (i, M_csc.indptr[i], M_csc.indptr[i+1]))"
   ]
  },
  {
   "cell_type": "markdown",
   "metadata": {},
   "source": [
    "Los formatos *CSR* y *CSC* necesitan almacenar $2nz+n+1$ elementos distintos de $0$ ($nz$)."
   ]
  },
  {
   "cell_type": "markdown",
   "metadata": {},
   "source": [
    "## Matrices generadas por los métodos de factorización"
   ]
  },
  {
   "cell_type": "code",
   "execution_count": null,
   "metadata": {},
   "outputs": [],
   "source": [
    "# Para la visualización de las matrices.\n",
    "def plotMatrix(M):\n",
    "    # Solo para ver coeficientes distintos de 0, se muestra la magnitud -> log(|M+eps|), eps para evitar el log(0)\n",
    "    plt.imshow(np.log(np.abs(M+1e-16))) \n",
    "    plt.show()"
   ]
  },
  {
   "cell_type": "code",
   "execution_count": null,
   "metadata": {},
   "outputs": [],
   "source": [
    "plotMatrix(A)"
   ]
  },
  {
   "cell_type": "markdown",
   "metadata": {},
   "source": [
    "## PALU"
   ]
  },
  {
   "cell_type": "code",
   "execution_count": null,
   "metadata": {},
   "outputs": [],
   "source": [
    "plotMatrix(P); plotMatrix(L); plotMatrix(U)"
   ]
  },
  {
   "cell_type": "markdown",
   "metadata": {},
   "source": [
    "### Matrices densas"
   ]
  },
  {
   "cell_type": "code",
   "execution_count": null,
   "metadata": {},
   "outputs": [],
   "source": [
    "palu_dense = size(P) + size(L) + size(U)\n",
    "palu_dense"
   ]
  },
  {
   "cell_type": "markdown",
   "metadata": {},
   "source": [
    "### Matrices dispersas"
   ]
  },
  {
   "cell_type": "markdown",
   "metadata": {},
   "source": [
    "#### Formato Coordenadas"
   ]
  },
  {
   "cell_type": "code",
   "execution_count": null,
   "metadata": {},
   "outputs": [],
   "source": [
    "Pc = scsp.coo_matrix(P)\n",
    "Lc = scsp.coo_matrix(L)\n",
    "Uc = scsp.coo_matrix(U)"
   ]
  },
  {
   "cell_type": "code",
   "execution_count": null,
   "metadata": {},
   "outputs": [],
   "source": [
    "palu_sparse_co = size(Pc.data) + size(Pc.row) + size(Pc.col) + size(Lc.data) + size(Lc.row) + size(Lc.col) + size(Uc.data) + size(Uc.row) + size(Uc.col)\n",
    "palu_sparse_co"
   ]
  },
  {
   "cell_type": "markdown",
   "metadata": {},
   "source": [
    "#### Formato Comprimido"
   ]
  },
  {
   "cell_type": "code",
   "execution_count": null,
   "metadata": {},
   "outputs": [],
   "source": [
    "Psr = scsp.csr_matrix(P)\n",
    "Lsr = scsp.csr_matrix(L)\n",
    "Usr = scsp.csr_matrix(U)\n",
    "Psc = scsp.csc_matrix(P)\n",
    "Lsc = scsp.csc_matrix(L)\n",
    "Usc = scsp.csc_matrix(U)"
   ]
  },
  {
   "cell_type": "code",
   "execution_count": null,
   "metadata": {},
   "outputs": [],
   "source": [
    "palu_sparse_r = size(Psr.data) + size(Psr.indices) + size(Psr.indptr) + size(Lsr.data) + size(Lsr.indices) + size(Lsr.indptr) + size(Usr.data) + size(Usr.indices) + size(Usr.indptr)\n",
    "palu_sparse_r"
   ]
  },
  {
   "cell_type": "code",
   "execution_count": null,
   "metadata": {},
   "outputs": [],
   "source": [
    "len(Psr.data)"
   ]
  },
  {
   "cell_type": "code",
   "execution_count": null,
   "metadata": {},
   "outputs": [],
   "source": [
    "palu_sparse_c = size(Psc.data) + size(Psc.indices) + size(Psc.indptr) + size(Lsc.data) + size(Lsc.indices) + size(Lsc.indptr) + size(Usc.data) + size(Usc.indices) + size(Usc.indptr)\n",
    "palu_sparse_c"
   ]
  },
  {
   "cell_type": "markdown",
   "metadata": {},
   "source": [
    "% memoria matrices *densas* vs *dispersas* utilizando coordenadas"
   ]
  },
  {
   "cell_type": "code",
   "execution_count": null,
   "metadata": {},
   "outputs": [],
   "source": [
    "palu_sparse_co / palu_dense"
   ]
  },
  {
   "cell_type": "markdown",
   "metadata": {},
   "source": [
    "% memoria matrices *densas* vs *dispersas* utilizando formato comprimido"
   ]
  },
  {
   "cell_type": "code",
   "execution_count": null,
   "metadata": {},
   "outputs": [],
   "source": [
    "palu_sparse_r / palu_dense"
   ]
  },
  {
   "cell_type": "markdown",
   "metadata": {},
   "source": [
    "## Cholesky"
   ]
  },
  {
   "cell_type": "code",
   "execution_count": null,
   "metadata": {},
   "outputs": [],
   "source": [
    "plotMatrix(R)"
   ]
  },
  {
   "cell_type": "markdown",
   "metadata": {},
   "source": [
    "### Matriz densa"
   ]
  },
  {
   "cell_type": "code",
   "execution_count": null,
   "metadata": {},
   "outputs": [],
   "source": [
    "cholesky_dense = size(R)\n",
    "cholesky_dense"
   ]
  },
  {
   "cell_type": "markdown",
   "metadata": {},
   "source": [
    "### Matriz dispersa"
   ]
  },
  {
   "cell_type": "markdown",
   "metadata": {},
   "source": [
    "#### Formato Coordenadas"
   ]
  },
  {
   "cell_type": "code",
   "execution_count": null,
   "metadata": {},
   "outputs": [],
   "source": [
    "Rc = scsp.coo_matrix(R)"
   ]
  },
  {
   "cell_type": "markdown",
   "metadata": {},
   "source": [
    "#### Formato Comprimido"
   ]
  },
  {
   "cell_type": "code",
   "execution_count": null,
   "metadata": {},
   "outputs": [],
   "source": [
    "Rsr = scsp.csr_matrix(R)"
   ]
  },
  {
   "cell_type": "code",
   "execution_count": null,
   "metadata": {},
   "outputs": [],
   "source": [
    "Rsc = scsp.csc_matrix(R)"
   ]
  },
  {
   "cell_type": "markdown",
   "metadata": {},
   "source": [
    "Tamaño utilizando representación *sparse*"
   ]
  },
  {
   "cell_type": "code",
   "execution_count": null,
   "metadata": {},
   "outputs": [],
   "source": [
    "cholesky_sparse_co = size(Rc.data) + size(Rc.row) + size(Rc.col)\n",
    "cholesky_sparse_co"
   ]
  },
  {
   "cell_type": "code",
   "execution_count": null,
   "metadata": {},
   "outputs": [],
   "source": [
    "cholesky_sparse_r = size(Rsr.data) + size(Rsr.indices) + size(Rsr.indptr)\n",
    "cholesky_sparse_r"
   ]
  },
  {
   "cell_type": "code",
   "execution_count": null,
   "metadata": {},
   "outputs": [],
   "source": [
    "cholesky_sparse_c = size(Rsc.data) + size(Rsc.indices) + size(Rsc.indptr)\n",
    "cholesky_sparse_c"
   ]
  },
  {
   "cell_type": "markdown",
   "metadata": {},
   "source": [
    "% de memoria utilizando representación *dispersa* formato coordenadas"
   ]
  },
  {
   "cell_type": "code",
   "execution_count": null,
   "metadata": {},
   "outputs": [],
   "source": [
    "cholesky_sparse_co / cholesky_dense"
   ]
  },
  {
   "cell_type": "markdown",
   "metadata": {},
   "source": [
    "% memoria utilizando representación *dispersa* comprimida."
   ]
  },
  {
   "cell_type": "code",
   "execution_count": null,
   "metadata": {},
   "outputs": [],
   "source": [
    "cholesky_sparse_r / cholesky_dense"
   ]
  },
  {
   "cell_type": "markdown",
   "metadata": {},
   "source": [
    "### Comparación\n",
    "\n",
    "Si analizamos teóricamente la memoria que podemos ahorrar para ambos tipos de factorizaciones utilizando la representación *sparse* tenemos:\n",
    "\n",
    "* $PALU$: \n",
    "\\begin{equation}\n",
    "    \\frac{\\text{Representación dispersa}}{\\text{Representación densa}}=\n",
    "    \\frac{n^2 + 2n}{3n^2} = \\frac{n+2}{3n} = \\frac{1}{3} + \\frac{2}{3n} \n",
    "    \\implies \\lim_{n\\to\\infty} \\left(\\frac{1}{3} + \\frac{2}{3n}\\right) = \\dfrac{1}{3}\n",
    "\\end{equation}\n",
    "\n",
    "* Cholesky\n",
    "\\begin{equation}\n",
    "    \\frac{\\text{Representación dispersa}}{\\text{Representación densa}}=\n",
    "    \\frac{\\frac{n^2 + n}{2}}{n^2} = \\frac{n+1}{2n} = \\frac{1}{2} + \\frac{1}{2n} \n",
    "    \\implies \\lim_{n\\to\\infty} \\left(\\frac{1}{2} + \\frac{1}{2n}\\right) = \\dfrac{1}{2}\n",
    "\\end{equation}\n",
    "\n",
    "Notar que esto es válido solo si almacenamos los coeficientes distintos de $0$. En la práctica estas representaciones deben guardar información adicional sobre la posición de los elementos, entre otros."
   ]
  },
  {
   "cell_type": "markdown",
   "metadata": {},
   "source": [
    "Caso $PALU$ (considerando valores no nulos)"
   ]
  },
  {
   "cell_type": "code",
   "execution_count": null,
   "metadata": {},
   "outputs": [],
   "source": [
    "(Pc.data.shape[-1] + Lc.data.shape[-1] + Uc.data.shape[-1]) / (3 * N[-1] ** 2)"
   ]
  },
  {
   "cell_type": "markdown",
   "metadata": {},
   "source": [
    "Caso Cholesky (considerando valores no nulos)"
   ]
  },
  {
   "cell_type": "code",
   "execution_count": null,
   "metadata": {},
   "outputs": [],
   "source": [
    "Rc.data.shape[-1] / N[-1] ** 2"
   ]
  },
  {
   "cell_type": "markdown",
   "metadata": {},
   "source": [
    "Se hace énfasis en que este análisis solo compara los valores de coeficientes, pero no se incluye el tamaño de las estructuras adicionales que requieren estas representaciones."
   ]
  },
  {
   "cell_type": "markdown",
   "metadata": {},
   "source": [
    "## Resolución sistema de ecuaciones"
   ]
  },
  {
   "cell_type": "markdown",
   "metadata": {},
   "source": [
    "### Sistema de ecuaciones lineales\n",
    "\n",
    "\\begin{equation}\n",
    "  A \\mathbf{x} = \\mathbf{b}\n",
    "\\end{equation}\n",
    "\n",
    "### Resolución utilizando $PA=LU$\n",
    "\n",
    "\\begin{equation}\n",
    "  \\begin{split}\n",
    "    A\\, \\mathbf{x} & = \\mathbf{b} \\\\\n",
    "    PA\\, \\mathbf{x} & = P\\,\\mathbf{b} \\\\\n",
    "    LU\\, \\mathbf{x} & = P\\, \\mathbf{b} \\\\\n",
    "    L\\, \\mathbf{c} & = P\\, \\mathbf{b}\n",
    "  \\end{split}\n",
    "\\end{equation}\n",
    "\n",
    "Algoritmo:\n",
    "1. Obtener descomposición PALU: $PA=LU$ \n",
    "2. Resolver para $\\mathbf{c}$: $L\\,\\mathbf{c} = P\\, \\mathbf{b}$\n",
    "3. Resolver para $\\mathbf{x}$: $U\\,\\mathbf{x} = \\mathbf{c}$\n",
    "4. Retornar $\\mathbf{x}$\n",
    "\n",
    "### Resolución utilizando Cholesky\n",
    "\n",
    "\\begin{equation}\n",
    "  \\begin{split}\n",
    "    A \\, \\mathbf{x} & = \\mathbf{b} \\\\\n",
    "    R^T\\,R \\,\\mathbf{x} & = \\mathbf{b}\n",
    "  \\end{split}\n",
    "\\end{equation}\n",
    "\n",
    "Algoritmo:\n",
    "1. Obtener descomposición de Cholesky: $A=R^T\\,R$\n",
    "2. Resolver para $\\mathbf{c}$: $R^T\\mathbf{c} = \\mathbf{b}$\n",
    "3. Resolver para $\\mathbf{x}$: $R\\,\\mathbf{x} = \\mathbf{c}$\n",
    "4. Retornar $\\mathbf{x}$"
   ]
  },
  {
   "cell_type": "markdown",
   "metadata": {},
   "source": [
    "## Ejemplo"
   ]
  },
  {
   "cell_type": "markdown",
   "metadata": {},
   "source": [
    "¿Cómo se resuelven sistemas utilizando las factorizaciones $PA=LU$ y Cholesky?"
   ]
  },
  {
   "cell_type": "code",
   "execution_count": null,
   "metadata": {},
   "outputs": [],
   "source": [
    "n = 100 # Probar con distintos valores de n\n",
    "A = np.random.rand(n, n)\n",
    "A = np.dot(A, A.T) + np.eye(n)\n",
    "# Luego de probar con la matriz A simétrica y definida positiva, probar con la matriz de Hilbert...\n",
    "#A = spla.hilbert(n) "
   ]
  },
  {
   "cell_type": "code",
   "execution_count": null,
   "metadata": {},
   "outputs": [],
   "source": [
    "np.linalg.cond(A)"
   ]
  },
  {
   "cell_type": "code",
   "execution_count": null,
   "metadata": {},
   "outputs": [],
   "source": [
    "x = np.arange(1, n+1) # Solucion \n",
    "b = np.dot(A, x)"
   ]
  },
  {
   "cell_type": "code",
   "execution_count": null,
   "metadata": {},
   "outputs": [],
   "source": [
    "#x"
   ]
  },
  {
   "cell_type": "code",
   "execution_count": null,
   "metadata": {},
   "outputs": [],
   "source": [
    "np.all(A == A.T)"
   ]
  },
  {
   "cell_type": "code",
   "execution_count": null,
   "metadata": {},
   "outputs": [],
   "source": [
    "np.all(np.linalg.eigvals(A) > 0)"
   ]
  },
  {
   "cell_type": "code",
   "execution_count": null,
   "metadata": {},
   "outputs": [],
   "source": [
    "x_n = np.linalg.solve(A, b) "
   ]
  },
  {
   "cell_type": "markdown",
   "metadata": {},
   "source": [
    "### $PA=LU$"
   ]
  },
  {
   "cell_type": "code",
   "execution_count": null,
   "metadata": {},
   "outputs": [],
   "source": [
    "P, L, U = spla.lu(A)\n",
    "Pb = np.dot(P.T, b) # Permutacion \n",
    "c = spla.solve_triangular(L, Pb, lower=True) # Lc = Pb\n",
    "x_p = spla.solve_triangular(U, c) # Ux = c"
   ]
  },
  {
   "cell_type": "code",
   "execution_count": null,
   "metadata": {},
   "outputs": [],
   "source": [
    "np.linalg.norm(np.dot(P, np.dot(L, U)) - A) # Verificar que PLU = A"
   ]
  },
  {
   "cell_type": "markdown",
   "metadata": {},
   "source": [
    "### Cholesky"
   ]
  },
  {
   "cell_type": "code",
   "execution_count": null,
   "metadata": {},
   "outputs": [],
   "source": [
    "R = np.linalg.cholesky(A) # Entrega R^T de acuerdo a nuestras diapositivas\n",
    "c = spla.solve_triangular(R, b, lower=True) # R^Tc = b\n",
    "x_c = spla.solve_triangular(R.T, c) # Rx = c"
   ]
  },
  {
   "cell_type": "code",
   "execution_count": null,
   "metadata": {},
   "outputs": [],
   "source": [
    "np.linalg.norm(np.dot(R, R.T) - A) # Veridiar que R^TR = A"
   ]
  },
  {
   "cell_type": "code",
   "execution_count": null,
   "metadata": {},
   "outputs": [],
   "source": [
    "# Descomentar para ver soluciones\n",
    "#print(x_n)\n",
    "#print(x_p)\n",
    "#print(x_c) "
   ]
  },
  {
   "cell_type": "markdown",
   "metadata": {},
   "source": [
    "## Backward y Forward Error"
   ]
  },
  {
   "cell_type": "markdown",
   "metadata": {},
   "source": [
    "Analizar el error de las soluciones..."
   ]
  },
  {
   "cell_type": "code",
   "execution_count": null,
   "metadata": {},
   "outputs": [],
   "source": [
    "backwardError = lambda A, x_c, b: np.linalg.norm(b - np.dot(A, x_c), np.inf)\n",
    "forwardError  = lambda x, x_c: np.linalg.norm(x - x_c, np.inf)"
   ]
  },
  {
   "cell_type": "code",
   "execution_count": null,
   "metadata": {},
   "outputs": [],
   "source": [
    "backwardError(A, x_n, b), forwardError(x, x_n) # Solver de NumPy"
   ]
  },
  {
   "cell_type": "code",
   "execution_count": null,
   "metadata": {},
   "outputs": [],
   "source": [
    "backwardError(A, x_p, b), forwardError(x, x_p) # PALU"
   ]
  },
  {
   "cell_type": "code",
   "execution_count": null,
   "metadata": {},
   "outputs": [],
   "source": [
    "backwardError(A, x_c, b), forwardError(x, x_c) # Cholesky"
   ]
  }
 ],
 "metadata": {
  "kernelspec": {
   "display_name": "Python 3.7.7 64-bit ('cc': conda)",
   "language": "python",
   "name": "python37764bitcccondaf9be1bff0edc45b89bc5baae44dcd3f4"
  },
  "language_info": {
   "codemirror_mode": {
    "name": "ipython",
    "version": 3
   },
   "file_extension": ".py",
   "mimetype": "text/x-python",
   "name": "python",
   "nbconvert_exporter": "python",
   "pygments_lexer": "ipython3",
   "version": "3.7.7"
  }
 },
 "nbformat": 4,
 "nbformat_minor": 4
}
