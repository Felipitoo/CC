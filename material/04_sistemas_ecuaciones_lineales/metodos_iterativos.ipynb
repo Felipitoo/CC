{
 "cells": [
  {
   "cell_type": "markdown",
   "metadata": {},
   "source": [
    "# Métodos Iterativos para sistemas de ecuaciones lineales"
   ]
  },
  {
   "cell_type": "code",
   "execution_count": 1,
   "metadata": {},
   "outputs": [],
   "source": [
    "import numpy as np\n",
    "from scipy.linalg import solve_triangular\n",
    "import matplotlib.pyplot as plt\n",
    "from time import time"
   ]
  },
  {
   "cell_type": "code",
   "execution_count": 2,
   "metadata": {},
   "outputs": [],
   "source": [
    "def jacobi(A, b, n_iter=50, x_0=None):\n",
    "    \"\"\"\n",
    "    Solve Ax=b using Jacobi method\n",
    "    \n",
    "    Parameters\n",
    "    -----------\n",
    "    A      : (n, n) array\n",
    "             A matrix \n",
    "    b      : (n, ) array\n",
    "             RHS vector\n",
    "    n_iter : int\n",
    "             Number of iterations\n",
    "    x_0    : (n, ) array\n",
    "             Initual guess\n",
    "    \n",
    "    Returns\n",
    "    -------\n",
    "    X      : (n_iter + 1, n) array\n",
    "             Matrix with approximation at each iteration\n",
    "    \"\"\"\n",
    "    n = A.shape[0] # Matrix size\n",
    "    X = np.zeros((n_iter + 1, n)) # Matrix with solution at each iteration\n",
    "    # Initial guess\n",
    "    if x_0 is not None:\n",
    "        X[0] = x_0\n",
    "    D = np.diag(A) # Diagonal of A (only keep a vector with diagonal)\n",
    "    # Inverse of D. Compute reciprocal of vector elements and then fill diagonal matrix\n",
    "    D_inv = np.diag(1 / D) # This avoid inverse computation \"O(n) instead O(n^3)\"\n",
    "    LU = (A - np.diag(D)) # A - D = L + U (here D is a matrix) - Rembember LU != LU of PA=LU or A=LU\n",
    "    # Jacobi iteration\n",
    "    for k in range(n_iter):\n",
    "        X[k+1] = np.dot(D_inv, (b - np.dot(LU, X[k])))\n",
    "    return X"
   ]
  },
  {
   "cell_type": "code",
   "execution_count": 3,
   "metadata": {},
   "outputs": [],
   "source": [
    "def gaussSeidel(A, b, n_iter=50, x_0=None):\n",
    "    \"\"\"\n",
    "    Solve Ax=b using Gauss-Seidel method\n",
    "    \n",
    "    Parameters\n",
    "    -----------\n",
    "    A      : (n, n) array\n",
    "             A matrix \n",
    "    b      : (n, ) array\n",
    "             RHS vector\n",
    "    n_iter : int\n",
    "             Number of iterations\n",
    "    x_0    : (n, ) array\n",
    "             Initual guess\n",
    "    \n",
    "    Returns\n",
    "    -------\n",
    "    X      : (n_iter + 1, n) array\n",
    "             Matrix with approximation at each iteration\n",
    "    \"\"\"\n",
    "    n = A.shape[0] # Matrix size\n",
    "    X = np.zeros((n_iter + 1, n)) # Matrix with solution at each iteration\n",
    "    # Initial guess\n",
    "    if x_0 is not None:\n",
    "        X[0] = x_0\n",
    "    LD = np.tril(A) # Get lower triangle with main diagonal (L + D)\n",
    "    U = A - LD # Upper triangle \n",
    "    # Gauss-Seidel iteration\n",
    "    for k in range(n_iter):\n",
    "        X[k+1] = solve_triangular(LD, b - np.dot(U, X[k]), lower=True)\n",
    "    return X"
   ]
  },
  {
   "cell_type": "code",
   "execution_count": 4,
   "metadata": {},
   "outputs": [],
   "source": [
    "def SOR(A, b, w=1.05, n_iter=50, x_0=None):\n",
    "    \"\"\"\n",
    "    Solve Ax=b using SOR(w) method\n",
    "    \n",
    "    Parameters\n",
    "    -----------\n",
    "    A      : (n, n) array\n",
    "             A matrix \n",
    "    b      : (n, ) array\n",
    "             RHS vector\n",
    "    w      : float \n",
    "             Omega parameter\n",
    "    n_iter : int\n",
    "             Number of iterations\n",
    "    x_0    : (n, ) array\n",
    "             Initual guess\n",
    "    \n",
    "    Returns\n",
    "    -------\n",
    "    X      : (n_iter + 1, n) array\n",
    "             Matrix with approximation at each iteration\n",
    "    \"\"\"\n",
    "    n = A.shape[0] # Matrix size\n",
    "    X = np.zeros((n_iter + 1, n)) # Matrix with solution at each iteration\n",
    "    # Initial guess\n",
    "    if x_0 is not None:\n",
    "        X[0] = x_0\n",
    "    L = np.tril(A, k=-1) # Get lower triangle \n",
    "    U = np.triu(A, k=1) # Get Upper triangle \n",
    "    D = A - U - L\n",
    "    # SOR\n",
    "    for k in range(n_iter):\n",
    "        X[k+1] = solve_triangular(w * L + D, w * b + np.dot((1 - w) * D - w * U, X[k]), lower=True)\n",
    "    return X"
   ]
  },
  {
   "cell_type": "code",
   "execution_count": 5,
   "metadata": {},
   "outputs": [],
   "source": [
    "def error(X, x):\n",
    "    \"\"\"\n",
    "    Compute error of approximation at each iteration\n",
    "    \n",
    "    Parameters\n",
    "    ----------\n",
    "    X       : (m, n) array\n",
    "             Matrix with approximation at each iteration\n",
    "    x       : (n, ) array\n",
    "             Solution of system \n",
    "             \n",
    "    Returns\n",
    "    -------\n",
    "    X_err   : (m, ) array\n",
    "             Error vector\n",
    "    \"\"\"\n",
    "    X_err = np.linalg.norm(X - x, axis=1, ord=np.inf)\n",
    "    return X_err"
   ]
  },
  {
   "cell_type": "markdown",
   "metadata": {},
   "source": [
    "# Ejemplo Apunte"
   ]
  },
  {
   "cell_type": "markdown",
   "metadata": {},
   "source": [
    "Resolver\n",
    "\n",
    "\\begin{equation}\n",
    "    \\begin{split}\n",
    "        u + 3v & = -1 \\\\\n",
    "        5u + 4v & = 6\n",
    "    \\end{split}\n",
    "\\end{equation}\n",
    "\n",
    "Primero, lo expresamos de forma matricial:\n",
    "\\begin{equation}\n",
    "    \\begin{bmatrix}\n",
    "        5 & 4 \\\\\n",
    "        1 & 3\n",
    "    \\end{bmatrix} \n",
    "    \\begin{bmatrix} u \\\\ v \\end{bmatrix}\n",
    "    =\n",
    "    \\begin{bmatrix} 6 \\\\ -1 \\end{bmatrix}.\n",
    "\\end{equation}\n",
    "\n",
    "Notar que se intercambiaron filas para asegurar que $A$ sea **estrictamente diagonal dominante**. Comprobemos que se llega a la solución (o cerca) en la iteración que se indica."
   ]
  },
  {
   "cell_type": "code",
   "execution_count": 6,
   "metadata": {},
   "outputs": [],
   "source": [
    "A_ap = np.array([[5, 4], [1, 3]])\n",
    "b_ap = np.array([6, -1])"
   ]
  },
  {
   "cell_type": "markdown",
   "metadata": {},
   "source": [
    "## Solución Analítica"
   ]
  },
  {
   "cell_type": "code",
   "execution_count": 7,
   "metadata": {},
   "outputs": [
    {
     "data": {
      "text/plain": [
       "array([ 2., -1.])"
      ]
     },
     "execution_count": 7,
     "metadata": {},
     "output_type": "execute_result"
    }
   ],
   "source": [
    "x_ap = np.linalg.solve(A_ap, b_ap)\n",
    "x_ap"
   ]
  },
  {
   "cell_type": "markdown",
   "metadata": {},
   "source": [
    "## Jacobi"
   ]
  },
  {
   "cell_type": "code",
   "execution_count": 8,
   "metadata": {},
   "outputs": [
    {
     "data": {
      "text/plain": [
       "array([ 2., -1.])"
      ]
     },
     "execution_count": 8,
     "metadata": {},
     "output_type": "execute_result"
    }
   ],
   "source": [
    "x_ap_j = jacobi(A_ap, b_ap, 50)\n",
    "x_ap_j[-1]"
   ]
  },
  {
   "cell_type": "markdown",
   "metadata": {},
   "source": [
    "## Gauss-Seidel"
   ]
  },
  {
   "cell_type": "code",
   "execution_count": 9,
   "metadata": {},
   "outputs": [
    {
     "data": {
      "text/plain": [
       "array([ 2., -1.])"
      ]
     },
     "execution_count": 9,
     "metadata": {},
     "output_type": "execute_result"
    }
   ],
   "source": [
    "x_ap_g = gaussSeidel(A_ap, b_ap, 17)\n",
    "x_ap_g[-1]"
   ]
  },
  {
   "cell_type": "markdown",
   "metadata": {},
   "source": [
    "## SOR($\\omega$)"
   ]
  },
  {
   "cell_type": "code",
   "execution_count": 10,
   "metadata": {},
   "outputs": [
    {
     "data": {
      "text/plain": [
       "array([ 2., -1.])"
      ]
     },
     "execution_count": 10,
     "metadata": {},
     "output_type": "execute_result"
    }
   ],
   "source": [
    "x_ap_s = SOR(A_ap, b_ap, 1.09, 9)\n",
    "x_ap_s[-1]"
   ]
  },
  {
   "cell_type": "markdown",
   "metadata": {},
   "source": [
    "Efectivamente *SOR* obtiene la solución en menos iteraciones."
   ]
  },
  {
   "cell_type": "markdown",
   "metadata": {},
   "source": [
    "# Otro ejemplo"
   ]
  },
  {
   "cell_type": "code",
   "execution_count": 11,
   "metadata": {},
   "outputs": [],
   "source": [
    "A_2 = np.array([\n",
    "        [3, -1, 0, 0, 0, 0.5],\n",
    "        [-1, 3, -1, 0, 0.5, 0],\n",
    "        [0, -1, 3, -1, 0, 0],\n",
    "        [0, 0, -1, 3, -1, 0],\n",
    "        [0, 0.5, 0, -1, 3, -1],\n",
    "        [0.5, 0, 0, 0, -1, 3]\n",
    "])\n",
    "b_2 = np.array([2.5, 1.5, 1., 1., 1.5, 2.5])"
   ]
  },
  {
   "cell_type": "markdown",
   "metadata": {},
   "source": [
    "## Solución de referencia"
   ]
  },
  {
   "cell_type": "code",
   "execution_count": 12,
   "metadata": {},
   "outputs": [
    {
     "data": {
      "text/plain": [
       "array([1., 1., 1., 1., 1., 1.])"
      ]
     },
     "execution_count": 12,
     "metadata": {},
     "output_type": "execute_result"
    }
   ],
   "source": [
    "x_2 = np.linalg.solve(A_2, b_2)\n",
    "x_2"
   ]
  },
  {
   "cell_type": "markdown",
   "metadata": {},
   "source": [
    "## Jacobi"
   ]
  },
  {
   "cell_type": "code",
   "execution_count": 13,
   "metadata": {},
   "outputs": [
    {
     "data": {
      "text/plain": [
       "array([1., 1., 1., 1., 1., 1.])"
      ]
     },
     "execution_count": 13,
     "metadata": {},
     "output_type": "execute_result"
    }
   ],
   "source": [
    "X_2_jac = jacobi(A_2, b_2)\n",
    "X_2_jac[-1]"
   ]
  },
  {
   "cell_type": "markdown",
   "metadata": {},
   "source": [
    "## Gauss-Seidel"
   ]
  },
  {
   "cell_type": "code",
   "execution_count": 14,
   "metadata": {},
   "outputs": [
    {
     "data": {
      "text/plain": [
       "array([1., 1., 1., 1., 1., 1.])"
      ]
     },
     "execution_count": 14,
     "metadata": {},
     "output_type": "execute_result"
    }
   ],
   "source": [
    "X_2_gss = gaussSeidel(A_2, b_2)\n",
    "X_2_gss[-1]"
   ]
  },
  {
   "cell_type": "markdown",
   "metadata": {},
   "source": [
    "## SOR($\\omega$)"
   ]
  },
  {
   "cell_type": "code",
   "execution_count": 15,
   "metadata": {},
   "outputs": [],
   "source": [
    "def error(X, x):\n",
    "    return np.linalg.norm(X - x, axis=1, ord=np.inf)"
   ]
  },
  {
   "cell_type": "markdown",
   "metadata": {},
   "source": [
    "Podemos buscar el parámetro $\\omega$, analizando el error para un par de iteraciones"
   ]
  },
  {
   "cell_type": "code",
   "execution_count": 16,
   "metadata": {},
   "outputs": [
    {
     "name": "stdout",
     "output_type": "stream",
     "text": [
      "i: 0 \t w: 1.000000 \t error: 0.013793\n",
      "i: 1 \t w: 1.015789 \t error: 0.012247\n",
      "i: 2 \t w: 1.031579 \t error: 0.010732\n",
      "i: 3 \t w: 1.047368 \t error: 0.009437\n",
      "i: 4 \t w: 1.063158 \t error: 0.008973\n",
      "i: 5 \t w: 1.078947 \t error: 0.008508\n",
      "i: 6 \t w: 1.094737 \t error: 0.008036\n",
      "i: 7 \t w: 1.110526 \t error: 0.007551\n",
      "i: 8 \t w: 1.126316 \t error: 0.007048\n",
      "i: 9 \t w: 1.142105 \t error: 0.006524\n",
      "i: 10 \t w: 1.157895 \t error: 0.005972\n",
      "i: 11 \t w: 1.173684 \t error: 0.005390\n",
      "i: 12 \t w: 1.189474 \t error: 0.004774\n",
      "i: 13 \t w: 1.205263 \t error: 0.006131\n",
      "i: 14 \t w: 1.221053 \t error: 0.007827\n",
      "i: 15 \t w: 1.236842 \t error: 0.009566\n",
      "i: 16 \t w: 1.252632 \t error: 0.011351\n",
      "i: 17 \t w: 1.268421 \t error: 0.013182\n",
      "i: 18 \t w: 1.284211 \t error: 0.015062\n",
      "i: 19 \t w: 1.300000 \t error: 0.016993\n"
     ]
    }
   ],
   "source": [
    "n_w = 20\n",
    "sor_err_2 = np.zeros(n_w)\n",
    "w_s = np.linspace(1, 1.3, n_w)\n",
    "for i in range(n_w):\n",
    "    X_sor_tmp = SOR(A_2, b_2, w_s[i], 5)\n",
    "    err_tmp_2 = error(X_sor_tmp, x_2)\n",
    "    sor_err_2[i] = err_tmp_2[-1]\n",
    "    print(\"i: %d \\t w: %f \\t error: %f\" % (i, w_s[i], sor_err_2[i]))"
   ]
  },
  {
   "cell_type": "code",
   "execution_count": 17,
   "metadata": {},
   "outputs": [
    {
     "data": {
      "image/png": "[encoded data removed]",
      "text/plain": [
       "<Figure size 432x288 with 1 Axes>"
      ]
     },
     "metadata": {
      "needs_background": "light"
     },
     "output_type": "display_data"
    }
   ],
   "source": [
    "plt.plot(w_s, sor_err_2, 'bd')\n",
    "plt.yscale('log')\n",
    "plt.grid(True)\n",
    "plt.show()"
   ]
  },
  {
   "cell_type": "markdown",
   "metadata": {},
   "source": [
    "Mirando los valores del gráfico obtenemos que $\\omega=1.189474$"
   ]
  },
  {
   "cell_type": "code",
   "execution_count": 18,
   "metadata": {},
   "outputs": [
    {
     "data": {
      "text/plain": [
       "array([1., 1., 1., 1., 1., 1.])"
      ]
     },
     "execution_count": 18,
     "metadata": {},
     "output_type": "execute_result"
    }
   ],
   "source": [
    "min_pos_2 = np.argmin(sor_err_2)\n",
    "X_2_sor = SOR(A_2, b_2, w_s[min_pos_2])\n",
    "X_2_sor[-1]"
   ]
  },
  {
   "cell_type": "markdown",
   "metadata": {},
   "source": [
    "## Convergencia de métodos"
   ]
  },
  {
   "cell_type": "code",
   "execution_count": 19,
   "metadata": {},
   "outputs": [],
   "source": [
    "# Error\n",
    "e_jac = error(X_2_jac, x_2)\n",
    "e_gss = error(X_2_gss, x_2)\n",
    "e_sor = error(X_2_sor, x_2)"
   ]
  },
  {
   "cell_type": "code",
   "execution_count": 20,
   "metadata": {},
   "outputs": [
    {
     "data": {
      "image/png": "[encoded data removed]",
      "text/plain": [
       "<Figure size 432x288 with 1 Axes>"
      ]
     },
     "metadata": {
      "needs_background": "light"
     },
     "output_type": "display_data"
    }
   ],
   "source": [
    "n_jac = np.arange(e_jac.shape[-1])\n",
    "n_gss = np.arange(e_gss.shape[-1])\n",
    "n_sor = np.arange(e_sor.shape[-1])\n",
    "plt.plot(n_jac, e_jac, 'ro', label=\"Jacobi\")\n",
    "plt.plot(n_gss, e_gss, 'bo', label=\"Gauss-Seidel\")\n",
    "plt.plot(n_sor, e_sor, 'go', label=\"SOR\")\n",
    "plt.yscale('log')\n",
    "plt.grid(True)\n",
    "plt.legend()\n",
    "plt.show()"
   ]
  },
  {
   "cell_type": "markdown",
   "metadata": {},
   "source": [
    "# Ejemplo aleatorio"
   ]
  },
  {
   "cell_type": "code",
   "execution_count": 21,
   "metadata": {},
   "outputs": [],
   "source": [
    "def ddMatrix(n):\n",
    "    \"\"\"\n",
    "    Randomly generates an n x n strictly diagonally dominant matrix A.\n",
    "    \n",
    "    Parameters\n",
    "    ----------\n",
    "    n       : int \n",
    "              Matrix size\n",
    "    \n",
    "    Returns\n",
    "    -------\n",
    "    A       : (n, n) array\n",
    "             Strictly diagonally dominant matrix\n",
    "    \"\"\"\n",
    "    A = np.random.random((n,n))\n",
    "    deltas = 0.5 * np.random.random(n)\n",
    "    row_sum = A.sum(axis=1) - np.diag(A)\n",
    "    np.fill_diagonal(A, row_sum+deltas)\n",
    "    return A"
   ]
  },
  {
   "cell_type": "code",
   "execution_count": 22,
   "metadata": {},
   "outputs": [],
   "source": [
    "n = 50\n",
    "A_r = ddMatrix(n)\n",
    "b_r = np.random.rand(n)"
   ]
  },
  {
   "cell_type": "markdown",
   "metadata": {},
   "source": [
    "## Solución Analítica"
   ]
  },
  {
   "cell_type": "code",
   "execution_count": 23,
   "metadata": {},
   "outputs": [],
   "source": [
    "x_r = np.linalg.solve(A_r, b_r)"
   ]
  },
  {
   "cell_type": "markdown",
   "metadata": {},
   "source": [
    "## Jacobi"
   ]
  },
  {
   "cell_type": "code",
   "execution_count": 24,
   "metadata": {},
   "outputs": [],
   "source": [
    "X_r_jac = jacobi(A_r, b_r, n_iter=100)"
   ]
  },
  {
   "cell_type": "markdown",
   "metadata": {},
   "source": [
    "## Gauss-Seidel"
   ]
  },
  {
   "cell_type": "code",
   "execution_count": 25,
   "metadata": {},
   "outputs": [],
   "source": [
    "X_r_gss = gaussSeidel(A_r, b_r, n_iter=50)"
   ]
  },
  {
   "cell_type": "markdown",
   "metadata": {},
   "source": [
    "## SOR($\\omega$)"
   ]
  },
  {
   "cell_type": "markdown",
   "metadata": {},
   "source": [
    "Para buscar $\\omega$ de *SOR*, se realiza un par de iteraciones y se analiza el error. Vamos a elegir el que tenga menor error..."
   ]
  },
  {
   "cell_type": "code",
   "execution_count": 26,
   "metadata": {},
   "outputs": [
    {
     "name": "stdout",
     "output_type": "stream",
     "text": [
      "i: 0 \t w: 1.000000 \t error: 0.000014\n",
      "i: 1 \t w: 1.015789 \t error: 0.000016\n",
      "i: 2 \t w: 1.031579 \t error: 0.000019\n",
      "i: 3 \t w: 1.047368 \t error: 0.000027\n",
      "i: 4 \t w: 1.063158 \t error: 0.000038\n",
      "i: 5 \t w: 1.078947 \t error: 0.000049\n",
      "i: 6 \t w: 1.094737 \t error: 0.000063\n",
      "i: 7 \t w: 1.110526 \t error: 0.000078\n",
      "i: 8 \t w: 1.126316 \t error: 0.000101\n",
      "i: 9 \t w: 1.142105 \t error: 0.000126\n",
      "i: 10 \t w: 1.157895 \t error: 0.000155\n",
      "i: 11 \t w: 1.173684 \t error: 0.000188\n",
      "i: 12 \t w: 1.189474 \t error: 0.000226\n",
      "i: 13 \t w: 1.205263 \t error: 0.000267\n",
      "i: 14 \t w: 1.221053 \t error: 0.000314\n",
      "i: 15 \t w: 1.236842 \t error: 0.000365\n",
      "i: 16 \t w: 1.252632 \t error: 0.000423\n",
      "i: 17 \t w: 1.268421 \t error: 0.000486\n",
      "i: 18 \t w: 1.284211 \t error: 0.000555\n",
      "i: 19 \t w: 1.300000 \t error: 0.000631\n"
     ]
    }
   ],
   "source": [
    "n_w = 20\n",
    "w_s = np.linspace(1, 1.3, n_w)\n",
    "sor_err_r = np.zeros(n_w)\n",
    "for i in range(n_w):\n",
    "    X_sor_tmp = SOR(A_r, b_r, w_s[i], 5)\n",
    "    sor_err_r[i] = np.linalg.norm(X_sor_tmp[-1] - x_r, np.inf)\n",
    "    print(\"i: %d \\t w: %f \\t error: %f\" % (i, w_s[i], sor_err_r[i]))"
   ]
  },
  {
   "cell_type": "code",
   "execution_count": 27,
   "metadata": {},
   "outputs": [],
   "source": [
    "min_pos_r = np.argmin(sor_err_r)\n",
    "X_r_sor = SOR(A_r, b_r, w_s[min_pos_r], n_iter=50)"
   ]
  },
  {
   "cell_type": "markdown",
   "metadata": {},
   "source": [
    "## Comparación de Error"
   ]
  },
  {
   "cell_type": "code",
   "execution_count": 28,
   "metadata": {},
   "outputs": [],
   "source": [
    "e_r_jac = error(X_r_jac, x_r)\n",
    "e_r_gss = error(X_r_gss, x_r)\n",
    "e_r_sor = error(X_r_sor, x_r)"
   ]
  },
  {
   "cell_type": "code",
   "execution_count": 29,
   "metadata": {},
   "outputs": [
    {
     "data": {
      "image/png": "[encoded data removed]",
      "text/plain": [
       "<Figure size 432x288 with 1 Axes>"
      ]
     },
     "metadata": {
      "needs_background": "light"
     },
     "output_type": "display_data"
    }
   ],
   "source": [
    "n_r_jac = np.arange(e_r_jac.shape[-1])\n",
    "n_r_gss = np.arange(e_r_gss.shape[-1])\n",
    "n_r_sor = np.arange(e_r_sor.shape[-1])\n",
    "plt.plot(n_r_jac, e_r_jac, 'ro', label=\"Jacobi\")\n",
    "plt.plot(n_r_gss, e_r_gss, 'bo', label=\"Gauss-Seidel\")\n",
    "plt.plot(n_r_sor, e_r_sor, 'go', label=\"SOR\")\n",
    "plt.yscale('log')\n",
    "plt.grid(True)\n",
    "plt.legend()\n",
    "plt.show()"
   ]
  },
  {
   "cell_type": "markdown",
   "metadata": {},
   "source": [
    "Para analizar la convergencia de los métodos vamos a utilizar el *radio espectral* $\\rho(A)$."
   ]
  },
  {
   "cell_type": "code",
   "execution_count": 30,
   "metadata": {},
   "outputs": [],
   "source": [
    "def spectralRadius(A):\n",
    "    \"\"\"\n",
    "    Compute spectral radius of A\n",
    "    \n",
    "    Parameters\n",
    "    ----------\n",
    "    A       : (n, n) array\n",
    "             A Matrix\n",
    "    \n",
    "    Returns\n",
    "    -------\n",
    "    rho     : float\n",
    "             Spectral radius\n",
    "    \n",
    "    \"\"\"\n",
    "    ev = np.linalg.eigvals(A) # Compute eigenvalues\n",
    "    rho = np.max(np.abs(ev)) # Largest eigenvalue in magnitude\n",
    "    return rho"
   ]
  },
  {
   "cell_type": "code",
   "execution_count": 31,
   "metadata": {},
   "outputs": [],
   "source": [
    "L = np.tril(A_r, k=-1)\n",
    "U = np.triu(A_r, k=1)\n",
    "D = A_r - L - U"
   ]
  },
  {
   "cell_type": "code",
   "execution_count": 32,
   "metadata": {},
   "outputs": [],
   "source": [
    "M_r_jac = np.dot(np.linalg.inv(D), L + U)\n",
    "M_r_gss = np.dot(np.linalg.inv(L + D), U)"
   ]
  },
  {
   "cell_type": "code",
   "execution_count": 33,
   "metadata": {},
   "outputs": [
    {
     "name": "stdout",
     "output_type": "stream",
     "text": [
      "0.989112355268985 0.21169440485989235\n"
     ]
    }
   ],
   "source": [
    "sr_jac = spectralRadius(M_r_jac)\n",
    "sr_gss = spectralRadius(M_r_gss)\n",
    "print(sr_jac, sr_gss)"
   ]
  },
  {
   "cell_type": "markdown",
   "metadata": {},
   "source": [
    "En este caso vemos que *Gauss-Seidel* converge mucho más rápido que Jacobi."
   ]
  },
  {
   "cell_type": "markdown",
   "metadata": {},
   "source": [
    "# Teorema de los círculos de Gershgorin"
   ]
  },
  {
   "cell_type": "code",
   "execution_count": 34,
   "metadata": {},
   "outputs": [],
   "source": [
    "def diskGershgorin(A):\n",
    "    \"\"\"\n",
    "    Compute Gershgorin disks.\n",
    "    \n",
    "    Parameters\n",
    "    ----------\n",
    "    A       : (n, n) array\n",
    "              Matrix\n",
    "    \n",
    "    Returns\n",
    "    -------\n",
    "    disks   : (n, 2) array\n",
    "             Gershgorin disks. \n",
    "             First column is the center = |a_{ii}| and second column is radius = \\sum_{i\\neq j} |a_{ij}|.\n",
    "    \"\"\"\n",
    "    n = A.shape[0]\n",
    "    disks = np.zeros((n, 2)) # First column is center and second is radius\n",
    "    for i in range(n):\n",
    "        c = A[i, i] # Center \n",
    "        R = np.sum(np.abs(A[i])) - np.abs(c) # Sum of absolute values of rows without diagonal\n",
    "        disks[i, 0] = c\n",
    "        disks[i, 1] = R\n",
    "    return disks"
   ]
  },
  {
   "cell_type": "code",
   "execution_count": 35,
   "metadata": {},
   "outputs": [],
   "source": [
    "def circles(disks):\n",
    "    \"\"\"\n",
    "    Return circles.\n",
    "    \n",
    "    Parameters\n",
    "    ----------\n",
    "    disks   : (n, 2) array\n",
    "             Gershgorin disks. \n",
    "    \n",
    "    Returns\n",
    "    -------\n",
    "    C       : (n, 100, 2) array\n",
    "             Circles to plot.\n",
    "             \n",
    "    \"\"\"\n",
    "    n = disks.shape[0]\n",
    "    N = 100\n",
    "    theta = np.linspace(0, 2*np.pi, N)\n",
    "    C = np.zeros((n, N, 2))\n",
    "    for i in range(n):\n",
    "        C[i, :, 0] = disks[i, 0] + disks[i, 1] * np.cos(theta)\n",
    "        C[i, :, 1] = disks[i, 1] * np.sin(theta)\n",
    "    return C"
   ]
  },
  {
   "cell_type": "code",
   "execution_count": 36,
   "metadata": {},
   "outputs": [],
   "source": [
    "def plotCircles(A):\n",
    "    \"\"\"\n",
    "    Plot Gershgorin disks and eigenvalues of A.\n",
    "    \n",
    "    Parameters\n",
    "    ----------\n",
    "    A       : (n, n) array\n",
    "              Matrix\n",
    "    \n",
    "    Returns\n",
    "    -------\n",
    "    None\n",
    "    \"\"\"\n",
    "    disks = diskGershgorin(A)\n",
    "    circs = circles(disks)\n",
    "    ev = np.linalg.eigvals(A)\n",
    "    for i in range(disks.shape[0]):\n",
    "        plt.fill(circs[i, :, 0], circs[i, :, 1], alpha=.5)\n",
    "        plt.plot(ev[i], 0, 'bo')\n",
    "    plt.grid(True)\n",
    "    plt.axis('equal')\n",
    "    plt.show()"
   ]
  },
  {
   "cell_type": "code",
   "execution_count": 37,
   "metadata": {},
   "outputs": [],
   "source": [
    "A1 = np.array([\n",
    "    [8, 1, 0],\n",
    "    [1, 4, 0.1],\n",
    "    [0, 0.1, 1]\n",
    "])"
   ]
  },
  {
   "cell_type": "code",
   "execution_count": 38,
   "metadata": {},
   "outputs": [],
   "source": [
    "A2 = np.array([\n",
    "    [10, -1, 0, 1],\n",
    "    [0.2, 8, 0.2, 0.2],\n",
    "    [1, 1, 2, 1],\n",
    "    [-1, -1, -1, -11]\n",
    "])"
   ]
  },
  {
   "cell_type": "code",
   "execution_count": 39,
   "metadata": {},
   "outputs": [
    {
     "data": {
      "image/png": "[encoded data removed]",
      "text/plain": [
       "<Figure size 432x288 with 1 Axes>"
      ]
     },
     "metadata": {
      "needs_background": "light"
     },
     "output_type": "display_data"
    }
   ],
   "source": [
    "plotCircles(A1)"
   ]
  },
  {
   "cell_type": "code",
   "execution_count": 40,
   "metadata": {},
   "outputs": [
    {
     "data": {
      "image/png": "[encoded data removed]",
      "text/plain": [
       "<Figure size 432x288 with 1 Axes>"
      ]
     },
     "metadata": {
      "needs_background": "light"
     },
     "output_type": "display_data"
    }
   ],
   "source": [
    "plotCircles(A2)"
   ]
  },
  {
   "cell_type": "markdown",
   "metadata": {},
   "source": [
    "## Comentario sobre convergencia\n",
    "\n",
    "Para un método iterativo de la forma $\\mathbf{x}_{k+1}=M\\mathbf{x}_k + \\mathbf{\\hat{b}}$, podemos usar el *radio espectral* $\\rho(M)$ y así estudiar la convergencia del método. Esto implica resolver el problema\n",
    "\\begin{equation}\n",
    "    M\\mathbf{v} = \\lambda \\mathbf{v},\n",
    "\\end{equation}\n",
    "\n",
    "para obtener los valores de $\\lambda$, con una complejidad aproximada de $\\sim  O(n^3)$. Si utilizamos el *Teorema de los círculos de Gershgorin*, podríamos obtener una *cota* de los valores propios con aproximadamente $\\sim O(n^2)$ operaciones."
   ]
  },
  {
   "cell_type": "markdown",
   "metadata": {},
   "source": [
    "# Complejidad"
   ]
  },
  {
   "cell_type": "markdown",
   "metadata": {},
   "source": [
    "Para ver los tiempos de cómputo y comparar el número de iteraciones, utilizaremos la tercera forma de representar los métodos."
   ]
  },
  {
   "cell_type": "code",
   "execution_count": 41,
   "metadata": {},
   "outputs": [],
   "source": [
    "def jacobi2(A, b, n_iter=50, tol=1e-8, x_0=None):\n",
    "    \"\"\"\n",
    "    Solve Ax=b using Jacobi method\n",
    "    \n",
    "    Parameters\n",
    "    -----------\n",
    "    A      : (n, n) array\n",
    "             A matrix \n",
    "    b      : (n, ) array\n",
    "             RHS vector\n",
    "    n_iter : int\n",
    "             Number of iterations\n",
    "    tol    : float\n",
    "             Tolerance\n",
    "    x_0    : (n, ) array\n",
    "             Initual guess\n",
    "    \n",
    "    Returns\n",
    "    -------\n",
    "    X      : (n_iter + 1, n) array\n",
    "             Matrix with approximation at each iteration\n",
    "    \"\"\"\n",
    "    n = A.shape[0] # Matrix size\n",
    "    X = np.zeros((n_iter + 1, n)) # Matrix with solution at each iteration\n",
    "    # Initial guess\n",
    "    if x_0 is not None:\n",
    "        X[0] = x_0\n",
    "    D = np.diag(A) # Diagonal of A (only keep a vector with diagonal)\n",
    "    D_inv = np.diag(1 / D) # Inverse of D\n",
    "    r = b - np.dot(A, X[0]) # Residual vector\n",
    "    # Jacobi iteration\n",
    "    for k in range(n_iter):\n",
    "        X[k+1] = X[k] + np.dot(D_inv, r)\n",
    "        r = b - np.dot(A, X[k+1]) # Update residual\n",
    "        if np.linalg.norm(r) < tol: # Stop criteria\n",
    "            X = X[:k+2]\n",
    "            break\n",
    "    return X"
   ]
  },
  {
   "cell_type": "code",
   "execution_count": 42,
   "metadata": {},
   "outputs": [],
   "source": [
    "def gaussSeidel2(A, b, n_iter=50, tol=1e-8, x_0=None):\n",
    "    \"\"\"\n",
    "    Solve Ax=b using Gauss-Seidel method\n",
    "    \n",
    "    Parameters\n",
    "    -----------\n",
    "    A      : (n, n) array\n",
    "             A matrix \n",
    "    b      : (n, ) array\n",
    "             RHS vector\n",
    "    n_iter : int\n",
    "             Number of iterations\n",
    "    tol    : float\n",
    "             Tolerance\n",
    "    x_0    : (n, ) array\n",
    "             Initual guess\n",
    "    \n",
    "    Returns\n",
    "    -------\n",
    "    X      : (n_iter + 1, n) array\n",
    "             Matrix with approximation at each iteration\n",
    "    \"\"\"\n",
    "    n = A.shape[0] # Matrix size\n",
    "    X = np.zeros((n_iter + 1, n)) # Matrix with solution at each iteration\n",
    "    # Initial guess\n",
    "    if x_0 is not None:\n",
    "        X[0] = x_0\n",
    "    LD = np.tril(A) # Get lower triangle (L + D)\n",
    "    # Get inverse in O(n^2) instead of np.linalg.inv(LD) O(n^3)\n",
    "    LD_inv = solve_triangular(LD, np.eye(n), lower=True) \n",
    "    r = b - np.dot(A, X[0]) # Residual\n",
    "    # Gauss-Seidel iteration\n",
    "    for k in range(n_iter):\n",
    "        X[k+1] = X[k] + np.dot(LD_inv, r)\n",
    "        r = b - np.dot(A, X[k+1]) # Residual update\n",
    "        if np.linalg.norm(r) < tol: # Stop criteria\n",
    "            X = X[:k+2]\n",
    "            break\n",
    "    return X"
   ]
  },
  {
   "cell_type": "code",
   "execution_count": 43,
   "metadata": {},
   "outputs": [],
   "source": [
    "def SOR2(A, b, w=1.05, n_iter=50, tol=1e-8, x_0=None):\n",
    "    \"\"\"\n",
    "    Solve Ax=b using SOR(w) method\n",
    "    \n",
    "    Parameters\n",
    "    -----------\n",
    "    A      : (n, n) array\n",
    "             A matrix \n",
    "    b      : (n, ) array\n",
    "             RHS vector\n",
    "    w      : w\n",
    "             Omega parameter.\n",
    "    n_iter : int\n",
    "             Number of iterations\n",
    "    tol    : float\n",
    "             Tolerance\n",
    "    x_0    : (n, ) array\n",
    "             Initual guess\n",
    "    \n",
    "    Returns\n",
    "    -------\n",
    "    X      : (n_iter + 1, n) array\n",
    "             Matrix with approximation at each iteration\n",
    "    \"\"\"\n",
    "    n = A.shape[0] # Matrix size\n",
    "    X = np.zeros((n_iter + 1, n)) # Matrix with solution at each iteration\n",
    "    # Initial guess\n",
    "    if x_0 is not None:\n",
    "        X[0] = x_0\n",
    "    L = np.tril(A, k=-1) # Get lower triangle \n",
    "    Dw = np.diag(np.diag(A) / w)\n",
    "    # Get inverse in O(n^2) instead of np.linalg.inv(L+Dw) O(n^3)\n",
    "    LDw_inv = solve_triangular(L+Dw, np.eye(n), lower=True) \n",
    "    r = b - np.dot(A, X[0]) # Residual\n",
    "    # SOR iteration\n",
    "    for k in range(n_iter):\n",
    "        X[k+1] = X[k] + np.dot(LDw_inv, r)\n",
    "        r = b - np.dot(A, X[k+1]) # Residual update\n",
    "        if np.linalg.norm(r) < tol: # Stop criteria\n",
    "            X = X[:k+2]\n",
    "            break\n",
    "    return X"
   ]
  },
  {
   "cell_type": "markdown",
   "metadata": {},
   "source": [
    "A continuación se resuelven sistemas parra distintos valores de $n$, y calculamos los tiempos."
   ]
  },
  {
   "cell_type": "code",
   "execution_count": 44,
   "metadata": {},
   "outputs": [],
   "source": [
    "Ne = 5 # Number of experiments\n",
    "N = 2 ** np.arange(7, 10) # N = [2^7, 2^{10}]\n",
    "Nn = N.shape[-1] \n",
    "# For times\n",
    "times_jac = np.zeros(Nn)\n",
    "times_gss = np.zeros(Nn)\n",
    "times_sor = np.zeros(Nn)"
   ]
  },
  {
   "cell_type": "code",
   "execution_count": 45,
   "metadata": {},
   "outputs": [],
   "source": [
    "for i in range(Nn):\n",
    "    n = N[i]\n",
    "    A = ddMatrix(n)\n",
    "    b = np.random.random(n)\n",
    "    # Time Jacobi\n",
    "    start_time= time()\n",
    "    for j in range(Ne):\n",
    "        x = jacobi2(A, b)\n",
    "    end_time = time()\n",
    "    times_jac[i] = (end_time - start_time) / Ne\n",
    "    # Time G-S\n",
    "    start_time = time()\n",
    "    for j in range(Ne):\n",
    "        x = gaussSeidel2(A, b)\n",
    "    end_time = time()\n",
    "    times_gss[i] = (end_time - start_time) / Ne\n",
    "    # Time SOR\n",
    "    start_time = time()\n",
    "    for j in range(Ne):\n",
    "        x = SOR2(A, b)\n",
    "    end_time = time()\n",
    "    times_sor[i] = (end_time - start_time) / Ne"
   ]
  },
  {
   "cell_type": "code",
   "execution_count": 46,
   "metadata": {},
   "outputs": [
    {
     "data": {
      "image/png": "[encoded data removed]",
      "text/plain": [
       "<Figure size 864x432 with 1 Axes>"
      ]
     },
     "metadata": {
      "needs_background": "light"
     },
     "output_type": "display_data"
    }
   ],
   "source": [
    "plt.figure(figsize=(12, 6))\n",
    "plt.plot(N, times_jac, 'rx', label=\"Jacobi\")\n",
    "plt.plot(N, times_gss, 'bd', label=\"Gauss-Seidel\")\n",
    "plt.plot(N, times_sor, 'go', label=\"SOR\")\n",
    "# Deben adaptar el coeficiente que acompaña a N**k según los tiempos que obtengan en su computador\n",
    "plt.plot(N, 1e-7 * N ** 2, 'g--', label=r\"$O(n^2)$\") \n",
    "plt.plot(N, 1e-8 * N ** 3, 'r--', label=r\"$O(n^3)$\")\n",
    "plt.grid(True)\n",
    "plt.yscale('log')\n",
    "plt.xscale('log')\n",
    "plt.xlabel(r\"$n$\")\n",
    "plt.ylabel(\"Time [s]\")\n",
    "plt.legend()\n",
    "plt.show()"
   ]
  },
  {
   "cell_type": "markdown",
   "metadata": {},
   "source": [
    "Del gráfico podemos confirmar que la complejidad de estos métodos es $\\sim I n^2$, donde $I$ es el número de iteraciones. El valor de $I$ puede ser diferente en cada método."
   ]
  },
  {
   "cell_type": "markdown",
   "metadata": {},
   "source": [
    "# Referencias\n",
    "\n",
    "* Sauer, T. (2006). Numerical Analysis Pearson Addison Wesley.\n",
    "* https://github.com/tclaudioe/Scientific-Computing/tree/master/SC1/05_linear_systems_of_equations.ipynb"
   ]
  },
  {
   "cell_type": "code",
   "execution_count": null,
   "metadata": {},
   "outputs": [],
   "source": []
  }
 ],
 "metadata": {
  "kernelspec": {
   "display_name": "Python 3.7.7 64-bit ('cc': conda)",
   "language": "python",
   "name": "python37764bitcccondaf9be1bff0edc45b89bc5baae44dcd3f4"
  },
  "language_info": {
   "codemirror_mode": {
    "name": "ipython",
    "version": 3
   },
   "file_extension": ".py",
   "mimetype": "text/x-python",
   "name": "python",
   "nbconvert_exporter": "python",
   "pygments_lexer": "ipython3",
   "version": "3.7.7"
  }
 },
 "nbformat": 4,
 "nbformat_minor": 4
}
