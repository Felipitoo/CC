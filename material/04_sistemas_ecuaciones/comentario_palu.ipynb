{
 "cells": [
  {
   "cell_type": "markdown",
   "metadata": {},
   "source": [
    "# $PA = LU$\n",
    "\n",
    "Problema: $A\\,\\mathbf{x}=\\mathbf{b}$\n",
    "\n",
    "Algoritmo:\n",
    "1. Descomposición $PA=LU$. \n",
    "2. Multiplicar por $P$ en la igualdad, $PA\\,\\mathbf{x}=P\\,\\mathbf{b}$\n",
    "3. Reemplazar $LU\\mathbf{x}=P\\,\\mathbf{b}$\n",
    "4. Resolver $L\\,\\mathbf{y}=P\\mathbf{b}$\n",
    "5. Resolver $U\\,\\mathbf{x}=\\mathbf{y}$"
   ]
  },
  {
   "cell_type": "code",
   "execution_count": 1,
   "metadata": {},
   "outputs": [],
   "source": [
    "import numpy as np\n",
    "import scipy.linalg as spla"
   ]
  },
  {
   "cell_type": "markdown",
   "metadata": {},
   "source": [
    "### Ejemplo matriz aleatoria"
   ]
  },
  {
   "cell_type": "code",
   "execution_count": 2,
   "metadata": {},
   "outputs": [],
   "source": [
    "n = 100\n",
    "A = np.random.rand(n, n)\n",
    "b = np.dot(A, np.ones(n))"
   ]
  },
  {
   "cell_type": "markdown",
   "metadata": {},
   "source": [
    "### Descomposición"
   ]
  },
  {
   "cell_type": "code",
   "execution_count": 3,
   "metadata": {},
   "outputs": [],
   "source": [
    "P, L, U = spla.lu(A)"
   ]
  },
  {
   "cell_type": "code",
   "execution_count": 4,
   "metadata": {},
   "outputs": [
    {
     "data": {
      "text/plain": [
       "2.3219143083042495e-14"
      ]
     },
     "execution_count": 4,
     "metadata": {},
     "output_type": "execute_result"
    }
   ],
   "source": [
    "np.linalg.norm(A - np.dot(P, np.dot(L, U)))"
   ]
  },
  {
   "cell_type": "markdown",
   "metadata": {},
   "source": [
    "Efectivamente podemos recuperar $A$."
   ]
  },
  {
   "cell_type": "markdown",
   "metadata": {},
   "source": [
    "## ```scipy```\n",
    "\n",
    "Problema: $A\\,\\mathbf{x}=\\mathbf{b}$\n",
    "\n",
    "```scipy```entrega $A=PLU$, por lo que hay que hacer una leve modificación.\n",
    "\n",
    "Algoritmo:\n",
    "1. Descomposición $A=PLU$. \n",
    "2. Reemplazar $PLU\\,\\mathbf{x}=\\mathbf{b}$\n",
    "3. Multiplicar por $P^{-1}$ por la izquierda en la igualdad $LU\\,\\mathbf{x}=P^{-1}\\mathbf{b}$. Como $P$ es una matriz ortonormal, entonces $P^{T}=P^{-1}$ y por lo tanto $LU\\,\\mathbf{x}=P^{T}\\mathbf{b}$.\n",
    "4. Resolver $L\\,\\mathbf{y}=P^T\\mathbf{b}$\n",
    "5. Resolver $U\\,\\mathbf{x}=\\mathbf{y}$"
   ]
  },
  {
   "cell_type": "code",
   "execution_count": 5,
   "metadata": {},
   "outputs": [],
   "source": [
    "y = spla.solve_triangular(L, np.dot(P.T, b), lower=True)"
   ]
  },
  {
   "cell_type": "code",
   "execution_count": 6,
   "metadata": {},
   "outputs": [],
   "source": [
    "x = spla.solve_triangular(U, y)"
   ]
  },
  {
   "cell_type": "code",
   "execution_count": 7,
   "metadata": {},
   "outputs": [
    {
     "data": {
      "text/plain": [
       "0.0"
      ]
     },
     "execution_count": 7,
     "metadata": {},
     "output_type": "execute_result"
    }
   ],
   "source": [
    "np.linalg.norm(x - np.linalg.solve(A, b))"
   ]
  },
  {
   "cell_type": "markdown",
   "metadata": {},
   "source": [
    "### ¿$P\\,P^T=I?$"
   ]
  },
  {
   "cell_type": "code",
   "execution_count": 8,
   "metadata": {},
   "outputs": [
    {
     "data": {
      "text/plain": [
       "0.0"
      ]
     },
     "execution_count": 8,
     "metadata": {},
     "output_type": "execute_result"
    }
   ],
   "source": [
    "np.linalg.norm(np.dot(P, P.T) - np.eye(n))"
   ]
  },
  {
   "cell_type": "markdown",
   "metadata": {},
   "source": [
    "## Comentarios\n",
    "\n",
    "Es preferible utilizar $P^T$ sobre $P^{-1}$ por el costo computacional :)"
   ]
  }
 ],
 "metadata": {
  "kernelspec": {
   "display_name": "Python 3.7.7 64-bit ('cc': conda)",
   "language": "python",
   "name": "python37764bitcccondaf9be1bff0edc45b89bc5baae44dcd3f4"
  },
  "language_info": {
   "codemirror_mode": {
    "name": "ipython",
    "version": 3
   },
   "file_extension": ".py",
   "mimetype": "text/x-python",
   "name": "python",
   "nbconvert_exporter": "python",
   "pygments_lexer": "ipython3",
   "version": "3.7.7"
  }
 },
 "nbformat": 4,
 "nbformat_minor": 4
}
