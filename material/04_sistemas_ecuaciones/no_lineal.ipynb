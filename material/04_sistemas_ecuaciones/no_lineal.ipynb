{
 "cells": [
  {
   "cell_type": "markdown",
   "metadata": {},
   "source": [
    "# Métodos para sistemas no lineales"
   ]
  },
  {
   "cell_type": "code",
   "execution_count": 1,
   "metadata": {},
   "outputs": [],
   "source": [
    "import numpy as np\n",
    "import matplotlib.pyplot as plt"
   ]
  },
  {
   "cell_type": "code",
   "execution_count": 2,
   "metadata": {},
   "outputs": [],
   "source": [
    "def newtonMultivariate(F, J, x_0, n, tol=1e-10):\n",
    "    x = np.zeros((n + 1, x_0.shape[0]))\n",
    "    x[0] = x_0\n",
    "    for k in range(n):\n",
    "        w = np.linalg.solve(J(*x[k]), -F(*x[k]))\n",
    "        x[k+1] = x[k] + w\n",
    "        if np.linalg.norm(F(*x[k+1])) < tol:\n",
    "            x = x[:k+2]\n",
    "            break\n",
    "    return x"
   ]
  },
  {
   "cell_type": "code",
   "execution_count": 3,
   "metadata": {},
   "outputs": [],
   "source": [
    "def broyden1(F, A_0, x_0, n, tol=1e-10):\n",
    "    x = np.zeros((n + 1, x_0.shape[0]))\n",
    "    x[0] = x_0\n",
    "    A_k = A_0\n",
    "    for k in range(n):\n",
    "        delta = np.linalg.solve(A_k, -F(*x[k]))\n",
    "        x[k+1] = x[k] + delta\n",
    "        Delta = F(*x[k+1]) - F(*x[k])\n",
    "        A_k = A_k + np.outer(Delta - np.dot(A_k, delta), delta) / np.dot(delta, delta)\n",
    "        if np.linalg.norm(F(*x[k+1])) < tol:\n",
    "            x = x[:k+2]\n",
    "            break\n",
    "    return x"
   ]
  },
  {
   "cell_type": "code",
   "execution_count": 4,
   "metadata": {},
   "outputs": [],
   "source": [
    "def broyden2(F, B_0, x_0, n, tol=1e-10):\n",
    "    x = np.zeros((n + 1, x_0.shape[0]))\n",
    "    x[0] = x_0\n",
    "    B_k = B_0\n",
    "    for k in range(n):\n",
    "        x[k+1] = x[k] - np.dot(B_k, F(*x[k]))\n",
    "        delta = x[k+1] - x[k]\n",
    "        Delta = F(*x[k+1]) - F(*x[k])\n",
    "        B_k = B_k + np.dot(np.outer(delta - np.dot(B_k, Delta), delta), B_k) / np.dot(delta, np.dot(B_k, Delta))\n",
    "        if np.linalg.norm(F(*x[k+1])) < tol:\n",
    "            x = x[:k+2]\n",
    "            break\n",
    "    return x"
   ]
  },
  {
   "cell_type": "code",
   "execution_count": 5,
   "metadata": {},
   "outputs": [],
   "source": [
    "def error(X, x):\n",
    "    err = np.linalg.norm(X - x, axis=1, ord=np.inf) / np.linalg.norm(x, np.inf) \n",
    "    return err"
   ]
  },
  {
   "cell_type": "code",
   "execution_count": 6,
   "metadata": {},
   "outputs": [],
   "source": [
    "def plotCompare(error_n, error_b1, error_b2):\n",
    "    iter_n = np.arange(error_n.shape[0])\n",
    "    iter_b1 = np.arange(error_b1.shape[0])\n",
    "    iter_b2 = np.arange(error_b2.shape[0])\n",
    "    plt.figure(figsize=(12, 6))\n",
    "    plt.plot(iter_n, error_n, 'go',label=\"Newton\")\n",
    "    plt.plot(iter_b1, error_b1, 'rs', label=\"Broyden 1\")\n",
    "    plt.plot(iter_b2, error_b2, 'kd', label=\"Broyden 2\")\n",
    "    plt.xlabel(\"# Iteraciones\")\n",
    "    plt.ylabel(\"Error\")\n",
    "    plt.yscale('log')\n",
    "    plt.grid(True)\n",
    "    plt.legend()\n",
    "    plt.show()"
   ]
  },
  {
   "cell_type": "markdown",
   "metadata": {},
   "source": [
    "## Ejemplo de sistema de ecuaciones no lineales\n",
    "\n",
    "Resolver \n",
    "\\begin{equation}\n",
    "    \\begin{split}\n",
    "        y - x^3 & = 0 \\\\\n",
    "        x^2 + y^2 - 1 & = 0\n",
    "    \\end{split}\n",
    "\\end{equation}\n",
    "\n",
    "Se define $f_1(x,y)=y - x^3$, $f_2(x,y)=x^2 + y^2 - 1$,\n",
    "\\begin{equation}\n",
    "    \\mathbf{F}(x,y)=\n",
    "    \\begin{bmatrix}\n",
    "        f_1(x,y) \\\\ f_2(x,y)\n",
    "    \\end{bmatrix} = \n",
    "    \\begin{bmatrix}\n",
    "        y - x^3 \\\\\n",
    "        x^2 + y^2 - 1\n",
    "    \\end{bmatrix},\n",
    "\\end{equation}\n",
    "\n",
    "y \n",
    "\\begin{equation}\n",
    "    J_{\\mathbf{F}}(x,y)=\n",
    "    \\begin{bmatrix}\n",
    "        -3x^2 & 1 \\\\\n",
    "        2x & 2y\n",
    "    \\end{bmatrix}\n",
    "\\end{equation}\n",
    "\n",
    "La solución real de este sistema es: $x=\\pm 0.826031357654187$, $y=\\pm 0.826031357654187^3$."
   ]
  },
  {
   "cell_type": "code",
   "execution_count": 7,
   "metadata": {},
   "outputs": [],
   "source": [
    "F1 = lambda x, y: np.array([y - x ** 3, x ** 2 + y ** 2 - 1])\n",
    "J1 = lambda x, y: np.array([[-3 * x ** 2, 1], [2 * x, 2 * y]])\n",
    "x1_0 = np.array([1, 2])\n",
    "x_sol = np.array([0.826031357654187, 0.826031357654187**3])"
   ]
  },
  {
   "cell_type": "code",
   "execution_count": 8,
   "metadata": {},
   "outputs": [],
   "source": [
    "n1_n = 7\n",
    "x1_n = newtonMultivariate(F1, J1, x1_0, n1_n)"
   ]
  },
  {
   "cell_type": "code",
   "execution_count": 9,
   "metadata": {},
   "outputs": [],
   "source": [
    "A_0 = np.eye(x1_0.shape[0]) # J1(*x1_0)\n",
    "n1_b = 50\n",
    "x1_b1 = broyden1(F1, A_0, x1_0, n1_b)"
   ]
  },
  {
   "cell_type": "code",
   "execution_count": 10,
   "metadata": {},
   "outputs": [],
   "source": [
    "B_0 = np.eye(x1_0.shape[0]) # np.linalg.inv(J1(*x1_0))\n",
    "n1_b2 = 50\n",
    "x1_b2 = broyden2(F1, B_0, x1_0, n1_b2)"
   ]
  },
  {
   "cell_type": "code",
   "execution_count": 11,
   "metadata": {},
   "outputs": [
    {
     "data": {
      "image/png": "[encoded data removed]",
      "text/plain": [
       "<Figure size 864x432 with 1 Axes>"
      ]
     },
     "metadata": {
      "needs_background": "light"
     },
     "output_type": "display_data"
    }
   ],
   "source": [
    "error_n = error(x1_n, x_sol) \n",
    "error_b1 = error(x1_b1, x_sol) \n",
    "error_b2 = error(x1_b2, x_sol)\n",
    "plotCompare(error_n, error_b1, error_b2)"
   ]
  },
  {
   "cell_type": "markdown",
   "metadata": {},
   "source": [
    "## Ejemplo sistema de ecuaciones lineales\n",
    "\n",
    "Resolver \n",
    "\n",
    "\\begin{equation}\n",
    "    \\begin{split}\n",
    "        x - 8y - 2z & = 1 \\\\\n",
    "        x + y + 5z & = 4 \\\\\n",
    "        3x - y + z & = -2 \n",
    "    \\end{split}\n",
    "\\end{equation}\n",
    "\n",
    "Debemos llevarlo a la forma $\\mathbf{F}(\\mathbf{x})=\\mathbf{0}$, con $\\mathbf{x}=(x,y,z)$.\n",
    "\n",
    "\\begin{equation}\n",
    "    \\mathbf{F}(x,y,z)=\n",
    "    \\begin{bmatrix}\n",
    "        x - 8y - 2z - 1 \\\\\n",
    "        x + y + 5z - 4 \\\\\n",
    "        3x - y + z +2 \n",
    "    \\end{bmatrix},\n",
    "\\end{equation}\n",
    "\n",
    "y,\n",
    "\n",
    "\\begin{equation}\n",
    "    J_{\\mathbf{F}}(x,y,z) = \n",
    "    \\begin{bmatrix}\n",
    "        1 & -8 & -2 \\\\\n",
    "        1 & 1 & 5 \\\\\n",
    "        3 & -1 & 1\n",
    "    \\end{bmatrix}\n",
    "\\end{equation}"
   ]
  },
  {
   "cell_type": "code",
   "execution_count": 12,
   "metadata": {},
   "outputs": [],
   "source": [
    "F2 = lambda x, y, z: np.array([x - 8 * y - 2 * z - 1, x + y + 5 * z - 4, 3 * x - y + z + 2])\n",
    "J2 = lambda x, y, z: np.array([[1, -8, -2], [1, 1, 5], [3, -1, 1]])\n",
    "x2_0 = np.array([1, 3, 0])"
   ]
  },
  {
   "cell_type": "markdown",
   "metadata": {},
   "source": [
    "### Solución "
   ]
  },
  {
   "cell_type": "code",
   "execution_count": 13,
   "metadata": {},
   "outputs": [],
   "source": [
    "A = np.array([\n",
    "    [1, -8, -2],\n",
    "    [1, 1, 5],\n",
    "    [3, -1, 1]\n",
    "]) # Se parece a otra matriz?\n",
    "b = np.array([1, 4, -2])\n",
    "x_2 = np.linalg.solve(A, b)"
   ]
  },
  {
   "cell_type": "code",
   "execution_count": 14,
   "metadata": {},
   "outputs": [
    {
     "data": {
      "text/plain": [
       "array([-1.24489796, -0.57142857,  1.16326531])"
      ]
     },
     "execution_count": 14,
     "metadata": {},
     "output_type": "execute_result"
    }
   ],
   "source": [
    "x_2"
   ]
  },
  {
   "cell_type": "markdown",
   "metadata": {},
   "source": [
    "### Aproximación con Newton"
   ]
  },
  {
   "cell_type": "code",
   "execution_count": 15,
   "metadata": {},
   "outputs": [],
   "source": [
    "n2_n = 10\n",
    "x2_n = newtonMultivariate(F2, J2, x2_0, n2_n)"
   ]
  },
  {
   "cell_type": "code",
   "execution_count": 16,
   "metadata": {},
   "outputs": [
    {
     "data": {
      "text/plain": [
       "array([[ 1.        ,  3.        ,  0.        ],\n",
       "       [-1.24489796, -0.57142857,  1.16326531]])"
      ]
     },
     "execution_count": 16,
     "metadata": {},
     "output_type": "execute_result"
    }
   ],
   "source": [
    "x2_n"
   ]
  },
  {
   "cell_type": "code",
   "execution_count": 17,
   "metadata": {},
   "outputs": [
    {
     "data": {
      "text/plain": [
       "2.220446049250313e-16"
      ]
     },
     "execution_count": 17,
     "metadata": {},
     "output_type": "execute_result"
    }
   ],
   "source": [
    "np.linalg.norm(x2_n[-1] - x_2, np.inf)"
   ]
  },
  {
   "cell_type": "markdown",
   "metadata": {},
   "source": [
    "Notar que al tener un sistema de ecuaciones lineales y utilizar Newton en $\\mathbb{R}^n$ ocurre lo siguiente.\n",
    "\n",
    "\\begin{equation}\n",
    "    \\mathbf{F}(\\mathbf{x})= \n",
    "    \\begin{bmatrix}\n",
    "        a_{1,1}x_1 + a_{1, 2}x_2 + \\cdots a_{1, n}x_n - b_1 \\\\\n",
    "        a_{2,1}x_1 + a_{2, 2}x_2 + \\cdots a_{2, n}x_n - b_2 \\\\\n",
    "        \\quad \\vdots \\\\\n",
    "        a_{n,1}x_1 + a_{n, 2}x_2 + \\cdots a_{n, n}x_n - b_n \\\\\n",
    "    \\end{bmatrix} = \n",
    "    A\\mathbf{x}-\\mathbf{b}\n",
    "\\end{equation}\n",
    "\n",
    "y al calcular la matriz Jacobiana tenemos:\n",
    "\n",
    "\\begin{equation}\n",
    "    J_{\\mathbf{F}}(\\mathbf{x}) = \n",
    "    \\begin{bmatrix}\n",
    "        a_{1,1} & a_{1, 2} & \\cdots & a_{1, n} \\\\\n",
    "        \\vdots  & \\vdots   & \\vdots & \\vdots \\\\ \n",
    "        a_{n,1} & a_{n, 2} & \\cdots & a_{n, n} \n",
    "    \\end{bmatrix} = \n",
    "    A.\n",
    "\\end{equation}\n",
    "\n",
    "Al aplicar el algoritmo tenemos:\n",
    "\n",
    "\\begin{equation}\n",
    "    \\begin{split}\n",
    "        J_{\\mathbf{F}}(\\mathbf{x}_k)\\, \\mathbf{w} &= -\\mathbf{F}(\\mathbf{x}_k) \\\\\n",
    "        A\\,(\\mathbf{x}_{k+1}-\\mathbf{x}_{k}) & = \\mathbf{b} - A\\mathbf{x}_k \\\\\n",
    "        A\\,\\mathbf{x}_{k+1}-A\\,\\mathbf{x}_{k} & = \\mathbf{b} - A\\mathbf{x}_k \\\\\n",
    "        A\\,\\mathbf{x}_{k+1} & = \\mathbf{b}\n",
    "    \\end{split},\n",
    "\\end{equation}\n",
    "\n",
    "es decir, se resuelve el mismo sistema de ecuaciones lineales del cual estamos buscando solución en un paso."
   ]
  }
 ],
 "metadata": {
  "kernelspec": {
   "display_name": "Python 3",
   "language": "python",
   "name": "python3"
  },
  "language_info": {
   "codemirror_mode": {
    "name": "ipython",
    "version": 3
   },
   "file_extension": ".py",
   "mimetype": "text/x-python",
   "name": "python",
   "nbconvert_exporter": "python",
   "pygments_lexer": "ipython3",
   "version": "3.7.7"
  }
 },
 "nbformat": 4,
 "nbformat_minor": 4
}
