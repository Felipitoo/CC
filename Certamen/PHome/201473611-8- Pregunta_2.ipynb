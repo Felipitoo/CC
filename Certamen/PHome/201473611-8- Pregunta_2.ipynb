{
 "cells": [
  {
   "cell_type": "markdown",
   "metadata": {},
   "source": [
    "<center>\n",
    "    <img src=\"http://sct.inf.utfsm.cl/wp-content/uploads/2020/04/logo_di.png\" style=\"width:60%\">\n",
    "    <h1> INF285/ILI285 Computación Científica </h1>\n",
    "    <h1> COP-1</h1>\n",
    "</center>\n",
    "\n",
    "Nombre: Felipe Montero Concha\n",
    "\n",
    "Rol: 201473611-8"
   ]
  },
  {
   "cell_type": "markdown",
   "metadata": {},
   "source": [
    "# Pregunta 2"
   ]
  },
  {
   "cell_type": "markdown",
   "metadata": {},
   "source": [
    "## (a)"
   ]
  },
  {
   "cell_type": "code",
   "execution_count": 8,
   "metadata": {},
   "outputs": [
    {
     "name": "stdout",
     "output_type": "stream",
     "text": [
      "3.293410731460611e-08\n",
      "8.525970628203519e-08\n",
      "-0.8266713029052373\n",
      "1.3712885752351727\n"
     ]
    }
   ],
   "source": [
    "\n",
    "def bisection_raiz (f,a,b,tol):\n",
    "\n",
    "    while (b-a)/2 > tol:\n",
    "        c = (a+b)/2\n",
    "        if f(c)==0:\n",
    "            return c\n",
    "        if f(a)*f(c)<0:\n",
    "            b = c\n",
    "        else:\n",
    "            a = c\n",
    "\n",
    "    return c\n",
    "\n",
    "\n",
    "bomba_funcion = lambda x : (x**10 - 10**x)/x   # En x = 0 la función se indetermina\n",
    "\n",
    "raiz_negativa = bisection_raiz(bomba_funcion,-2,-0.000000001,0.5*10**-7)\n",
    "raiz_positiva = bisection_raiz(bomba_funcion,0.00000000001,2,0.5*10**-8)\n",
    "\n",
    "print(bomba_funcion(raiz_negativa))\n",
    "print(bomba_funcion(raiz_positiva))\n",
    "\n",
    "print(raiz_negativa)\n",
    "print(raiz_positiva)\n",
    "\n",
    "\n",
    "\n",
    "\n",
    "\n"
   ]
  },
  {
   "cell_type": "code",
   "execution_count": 7,
   "metadata": {},
   "outputs": [
    {
     "name": "stdout",
     "output_type": "stream",
     "text": [
      "011111111\n",
      "01100000\n"
     ]
    }
   ],
   "source": []
  },
  {
   "cell_type": "code",
   "execution_count": null,
   "metadata": {},
   "outputs": [],
   "source": []
  }
 ],
 "metadata": {
  "kernelspec": {
   "display_name": "Python 3",
   "language": "python",
   "name": "python3"
  },
  "language_info": {
   "codemirror_mode": {
    "name": "ipython",
    "version": 3
   },
   "file_extension": ".py",
   "mimetype": "text/x-python",
   "name": "python",
   "nbconvert_exporter": "python",
   "pygments_lexer": "ipython3",
   "version": "3.8.2"
  }
 },
 "nbformat": 4,
 "nbformat_minor": 4
}
