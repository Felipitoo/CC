{
 "cells": [
  {
   "cell_type": "markdown",
   "metadata": {},
   "source": [
    "<center>\n",
    "    <img src=\"http://sct.inf.utfsm.cl/wp-content/uploads/2020/04/logo_di.png\" style=\"width:60%\">\n",
    "    <h1> INF285/ILI285 Computación Científica </h1>\n",
    "    <h1> COP-1</h1>\n",
    "</center>\n",
    "\n",
    "Nombre: Felipe Montero Concha\n",
    "\n",
    "Rol: 201473611-8"
   ]
  },
  {
   "cell_type": "markdown",
   "metadata": {},
   "source": [
    "# Pregunta 1:"
   ]
  },
  {
   "cell_type": "markdown",
   "metadata": {},
   "source": [
    "## (a)"
   ]
  },
  {
   "cell_type": "markdown",
   "metadata": {},
   "source": [
    "Sabemos que epsilon machine entrega la información de un limite superior para saber que cuando uno realiza la operación:\n",
    "\n",
    "$$ \\epsilon_{mach} + 1 > 1 $$\n",
    "\n",
    "Es decir, define el numero más pequeño que al sumarlo el computador no redondea.\n",
    "\n",
    "Dado que se debe considerar el error medio para efectos de este ejercicio epsilon machine sera:\n",
    "\n",
    "$$ \\epsilon_{mach32bits} = \\frac{2^{-23}}{-2} $$\n",
    "\n",
    "\n",
    "Epsilon Machine para esta representación de 32 bits es:\n",
    "\n",
    "$$ \\epsilon_{mach32bits} = 2^{-24} $$\n",
    "\n",
    "Para saber el K:\n",
    "\n",
    "$$ K \\geq \\sqrt{\\frac{1}{\\epsilon_{mach32bits}}} $$\n",
    "\n",
    "\n",
    "Obteniendo:\n",
    "\n",
    "$$ K \\geq 4096 $$"
   ]
  },
  {
   "cell_type": "markdown",
   "metadata": {},
   "source": [
    "## (b)"
   ]
  },
  {
   "cell_type": "code",
   "execution_count": 12,
   "metadata": {},
   "outputs": [
    {
     "name": "stdout",
     "output_type": "stream",
     "text": [
      "[ 1.64472532 -3.68038574]\n"
     ]
    }
   ],
   "source": [
    "import numpy as np\n",
    "\n",
    "def serie_geo(K):\n",
    "    suma_serie = np.float32(0)\n",
    "    teorico = ((np.pi)**2)/6\n",
    "    for i in range(1,K+1):\n",
    "        valor = np.float32(1)/np.float32(i**2)\n",
    "        suma_serie = np.float32(suma_serie) + np.float32(valor)\n",
    "\n",
    "    log_10 = np.log10(abs(suma_serie-teorico))\n",
    "    return np.array([suma_serie,log_10])\n",
    "\n",
    "print(serie_geo(4096))\n",
    "        \n",
    "        "
   ]
  },
  {
   "cell_type": "markdown",
   "metadata": {},
   "source": [
    "## (c)"
   ]
  },
  {
   "cell_type": "code",
   "execution_count": 13,
   "metadata": {},
   "outputs": [
    {
     "data": {
      "text/plain": [
       "(1.6446899, -3.6123445452985994)"
      ]
     },
     "execution_count": 13,
     "metadata": {},
     "output_type": "execute_result"
    }
   ],
   "source": [
    "\n",
    "def serie_geo_reverse(K):\n",
    "    suma_serie = np.float32(0)\n",
    "    teorico = ((np.pi)**2)/6\n",
    "    rango = list(range(1,K+1))\n",
    "    rango.reverse()\n",
    "    for i in rango :\n",
    "        valor = np.float32(1)/np.float32(i**2)\n",
    "        suma_serie = np.float32(suma_serie) + np.float32(valor)\n",
    "\n",
    "    log_10 = np.log10(abs(suma_serie-teorico))\n",
    "    return (suma_serie,log_10)\n",
    "\n",
    "#Se uso K igual a 2900000\n",
    "serie_geo_reverse(4096)"
   ]
  },
  {
   "cell_type": "markdown",
   "metadata": {},
   "source": [
    "## (d)"
   ]
  },
  {
   "cell_type": "markdown",
   "metadata": {},
   "source": [
    "Al realizar el primer algortimo se comienza con un numero muy grande en comparación a los ultimos numero de la serie $$ 1 \n",
    "\\lll \\frac{1}{K^2} $$\n",
    "\n",
    "Por lo tanto la precision tiene una mayor tolerancia desde el principio.En cambio en el segundo caso, hay numeros tan pequeños (en exponente y mantisa), por lo tanto la representación comienza sumando ceros hasta que la representación de 32 bits logra evitar la perdida de precisión y dar una suma distinta a cero.\n",
    "\n",
    "Se puede concluir que para conseguir un error más chico que $$ 10^{-6} $$ se debe aumentar con 3 ordenes de magnitud el K originalmente buscado junto con encontrar que al sumar numeros de mayor magnitud se mantiene precisión sumando números más pequeños ,precisión que se pierde en el primero."
   ]
  },
  {
   "cell_type": "markdown",
   "metadata": {},
   "source": [
    "# Pregunta 2:"
   ]
  },
  {
   "cell_type": "markdown",
   "metadata": {},
   "source": [
    "## (a)"
   ]
  },
  {
   "cell_type": "code",
   "execution_count": 14,
   "metadata": {},
   "outputs": [
    {
     "name": "stdout",
     "output_type": "stream",
     "text": [
      "3.293410731460611e-08\n",
      "8.525970628203519e-08\n",
      "-0.8266713029052373\n",
      "1.3712885752351727\n"
     ]
    }
   ],
   "source": [
    "\n",
    "def bisection_raiz (f,a,b,tol):\n",
    "\n",
    "    while (b-a)/2 > tol:\n",
    "        c = (a+b)/2\n",
    "        if f(c)==0:\n",
    "            return c\n",
    "        if f(a)*f(c)<0:\n",
    "            b = c\n",
    "        else:\n",
    "            a = c\n",
    "\n",
    "    return c\n",
    "\n",
    "\n",
    "bomba_funcion = lambda x : (x**10 - 10**x)/x   # En x = 0 la función se indetermina\n",
    "\n",
    "raiz_negativa = bisection_raiz(bomba_funcion,-2,-0.000000001,0.5*10**-7)\n",
    "raiz_positiva = bisection_raiz(bomba_funcion,0.00000000001,2,0.5*10**-8)\n",
    "\n",
    "print(bomba_funcion(raiz_negativa))\n",
    "print(bomba_funcion(raiz_positiva))\n",
    "\n",
    "print(raiz_negativa)\n",
    "print(raiz_positiva)\n",
    "\n"
   ]
  },
  {
   "cell_type": "markdown",
   "metadata": {},
   "source": [
    "## (b)"
   ]
  },
  {
   "cell_type": "markdown",
   "metadata": {},
   "source": [
    "Mi rol es 201473611-8, por lo tanto la mantisa m queda con un valor igual a 8 y el exponente n queda con un valor igual a 9"
   ]
  },
  {
   "cell_type": "markdown",
   "metadata": {},
   "source": [
    "## (c)"
   ]
  },
  {
   "cell_type": "markdown",
   "metadata": {},
   "source": [
    "1. El primer entero no representable depende de : K que es el Bias y por lo tanto seria la mantisa con puros 1 y el exponente equivalente a $$ \\lceil \\sum_{i = 0}^{8}2^{-i} \\cdot 2^{8-1} \\lceil = 256 $$ \n",
    "\n",
    "2. El epsilon machine para la representación es :\n",
    "$$ \\epsilon_{mach} = 2^{-8} = 3.90625 \\cdot 10^{-3} $$\n",
    "\n",
    "3. El menor numero representable mayor a cero seria (en binario):\n",
    "\n",
    "$$ 0 000000000 00000001 $$\n",
    "\n",
    "4. El exponente se mueve entre [-254,257]\n"
   ]
  },
  {
   "cell_type": "markdown",
   "metadata": {},
   "source": [
    "## (d)"
   ]
  },
  {
   "cell_type": "markdown",
   "metadata": {},
   "source": [
    "Utilizando la libreria bitstring (codigo adjunto abajo) se sabe que el signo es 0, el exponente es 011111111 y la mantisa es 01100000"
   ]
  },
  {
   "cell_type": "code",
   "execution_count": 15,
   "metadata": {},
   "outputs": [
    {
     "name": "stdout",
     "output_type": "stream",
     "text": [
      "011111111\n",
      "01100000\n"
     ]
    }
   ],
   "source": [
    "import bitstring\n",
    "\n",
    "rep_bin = raiz_positiva + (2**-8)\n",
    "\n",
    "\n",
    "def f_new_rep(x,bits_mant):\n",
    "  # Algoritmo de representación de punto flotante modificada.\n",
    "    rep_IEEE = bitstring.BitArray(float= x, length = 64)\n",
    "    ceros_unos = rep_IEEE.bin\n",
    "\n",
    "    signo = ceros_unos[0]\n",
    "    exponente = ceros_unos[1:12]\n",
    "    mantisa = ceros_unos[12:]\n",
    "    \n",
    "    print(exponente[0:9])\n",
    "    \n",
    "    new_mantisa = mantisa[0:bits_mant]\n",
    "    check_mant = mantisa[bits_mant:53]\n",
    "    \n",
    "    if check_mant[0] == \"0\":\n",
    "        new_mantisa = new_mantisa\n",
    "    elif check_mant[0] == \"1\":\n",
    "        if \"1\" in check_mant[1:]:\n",
    "            new_mantisa = sumar_1_bin(new_mantisa)\n",
    "        elif \"1\" not in check_mant[1:]:\n",
    "            if new_mantisa[-1] == \"1\":\n",
    "                new_mantisa = sumar_1_bin(new_mantisa)\n",
    "    print(new_mantisa)\n",
    "    return  \n",
    "\n",
    "f_new_rep(rep_bin,8)"
   ]
  },
  {
   "cell_type": "code",
   "execution_count": null,
   "metadata": {},
   "outputs": [],
   "source": []
  }
 ],
 "metadata": {
  "kernelspec": {
   "display_name": "Python 3",
   "language": "python",
   "name": "python3"
  },
  "language_info": {
   "codemirror_mode": {
    "name": "ipython",
    "version": 3
   },
   "file_extension": ".py",
   "mimetype": "text/x-python",
   "name": "python",
   "nbconvert_exporter": "python",
   "pygments_lexer": "ipython3",
   "version": "3.8.2"
  }
 },
 "nbformat": 4,
 "nbformat_minor": 4
}
