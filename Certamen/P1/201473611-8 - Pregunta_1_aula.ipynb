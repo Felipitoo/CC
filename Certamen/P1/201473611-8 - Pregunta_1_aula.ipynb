{
 "cells": [
  {
   "cell_type": "markdown",
   "metadata": {},
   "source": [
    "<center>\n",
    "    <img src=\"http://sct.inf.utfsm.cl/wp-content/uploads/2020/04/logo_di.png\" style=\"width:60%\">\n",
    "    <h1> INF285/ILI285 Computación Científica </h1>\n",
    "    <h1> COP-1</h1>\n",
    "</center>\n",
    "\n",
    "Nombre: Felipe Montero Concha\n",
    "\n",
    "Rol: 201473611-8"
   ]
  },
  {
   "cell_type": "markdown",
   "metadata": {},
   "source": [
    "# Pregunta 1:"
   ]
  },
  {
   "cell_type": "markdown",
   "metadata": {},
   "source": [
    "## (b)"
   ]
  },
  {
   "cell_type": "code",
   "execution_count": 2,
   "metadata": {},
   "outputs": [
    {
     "name": "stdout",
     "output_type": "stream",
     "text": [
      "[ 1.64458239 -3.45385719]\n"
     ]
    }
   ],
   "source": [
    "import numpy as np\n",
    "\n",
    "def serie_geo(K):\n",
    "    suma_serie = np.float32(0)\n",
    "    teorico = ((np.pi)**2)/6\n",
    "    for i in range(1,K+1):\n",
    "        valor = np.float32(1)/np.float32(i**2)\n",
    "        suma_serie = np.float32(suma_serie) + np.float32(valor)\n",
    "\n",
    "    log_10 = np.log10(abs(suma_serie-teorico))\n",
    "    return np.array([suma_serie,log_10])\n",
    "\n",
    "print(serie_geo(2897))\n",
    "        \n",
    "        "
   ]
  },
  {
   "cell_type": "markdown",
   "metadata": {},
   "source": [
    "## (c)"
   ]
  },
  {
   "cell_type": "code",
   "execution_count": 3,
   "metadata": {},
   "outputs": [
    {
     "data": {
      "text/plain": [
       "(1.644589, -3.4620304358937326)"
      ]
     },
     "execution_count": 3,
     "metadata": {},
     "output_type": "execute_result"
    }
   ],
   "source": [
    "\n",
    "def serie_geo_reverse(K):\n",
    "    suma_serie = np.float32(0)\n",
    "    teorico = ((np.pi)**2)/6\n",
    "    rango = list(range(1,K+1))\n",
    "    rango.reverse()\n",
    "    for i in rango :\n",
    "        valor = np.float32(1)/np.float32(i**2)\n",
    "        suma_serie = np.float32(suma_serie) + np.float32(valor)\n",
    "\n",
    "    log_10 = np.log10(abs(suma_serie-teorico))\n",
    "    return (suma_serie,log_10)\n",
    "\n",
    "#Se uso K igual a 2900000\n",
    "serie_geo_reverse(2897)"
   ]
  },
  {
   "cell_type": "code",
   "execution_count": null,
   "metadata": {},
   "outputs": [],
   "source": []
  }
 ],
 "metadata": {
  "kernelspec": {
   "display_name": "Python 3",
   "language": "python",
   "name": "python3"
  },
  "language_info": {
   "codemirror_mode": {
    "name": "ipython",
    "version": 3
   },
   "file_extension": ".py",
   "mimetype": "text/x-python",
   "name": "python",
   "nbconvert_exporter": "python",
   "pygments_lexer": "ipython3",
   "version": "3.8.2"
  }
 },
 "nbformat": 4,
 "nbformat_minor": 4
}
