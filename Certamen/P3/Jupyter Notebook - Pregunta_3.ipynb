{
 "cells": [
  {
   "cell_type": "markdown",
   "metadata": {},
   "source": [
    "<center>\n",
    "    <img src=\"http://sct.inf.utfsm.cl/wp-content/uploads/2020/04/logo_di.png\" style=\"width:60%\">\n",
    "    <h1> INF285/ILI285 Computación Científica </h1>\n",
    "    <h1> COP-1</h1>\n",
    "</center>\n",
    "\n",
    "Nombre: Felipe Montero Concha\n",
    "\n",
    "Rol: 201473611-8"
   ]
  },
  {
   "cell_type": "markdown",
   "metadata": {},
   "source": [
    "# Pregunta 3:"
   ]
  },
  {
   "cell_type": "markdown",
   "metadata": {},
   "source": [
    "## (b)"
   ]
  },
  {
   "cell_type": "code",
   "execution_count": 36,
   "metadata": {},
   "outputs": [
    {
     "name": "stdout",
     "output_type": "stream",
     "text": [
      "5 | 0.7682035223 | 0.7682035223 | 0.00000000000044209081 | 0.0000008113 | 1.4887400964\n"
     ]
    },
    {
     "data": {
      "image/png": "[encoded data removed]",
      "text/plain": [
       "<Figure size 432x288 with 1 Axes>"
      ]
     },
     "metadata": {
      "needs_background": "light"
     },
     "output_type": "display_data"
    },
    {
     "name": "stdout",
     "output_type": "stream",
     "text": [
      "0.7682035222983601\n"
     ]
    }
   ],
   "source": [
    "import matplotlib.pyplot as plt\n",
    "import numpy as np\n",
    "\n",
    "\n",
    "def newton_mont(b,bp,bpp,g,gp,gpp,alpha,t0,n_iter):\n",
    "    rt = lambda x : alpha + bp(x)*x + (1/2)*g(x)*t**2\n",
    "    rtp = lambda x : bp(x) * x + b(x) + (1/2)*(gp(x)*x**2+2*x*g(x))\n",
    "    rtppp = lambda x : bpp(x)*x + 2*bp(x) + (1/2)*(gpp(x)*x**2+gp(x)*2*x+2*g(x)+gp(x)*2*x)\n",
    "        \n",
    "\n",
    "    error_i = float(\"inf\")\n",
    "    equis = []\n",
    "    eim = []\n",
    "    ei2 = []\n",
    "    x0 = t0\n",
    "    iteraciones = []\n",
    "    for i in range(0,n_iter):\n",
    "        \n",
    "        xi = x0 - (rtp(x0)/rtppp(x0))\n",
    "        if xi - x0 == 0:\n",
    "            print(\"%d | %.10f | %.10f | %.20f | %.10f | %.10f\" % \n",
    "              (i, x0, xi, error_i, error_i/e_minus1, error_i/(e_minus1**2)))\n",
    "            iteraciones.append(xi)\n",
    "            break\n",
    "        error_h = abs(xi-x0)/np.max([abs(xi),1e-12])\n",
    "        e_minus1 = error_i\n",
    "        error_i = abs(xi-x0)\n",
    "        x0 = xi\n",
    "        e_i_e_m = error_i/ e_minus1\n",
    "        error_i_e2 = error_i/ (e_minus1**2)\n",
    "        eim.append(e_i_e_m)\n",
    "        ei2.append(error_i_e2)\n",
    "        iteraciones.append(xi)\n",
    "    plt.plot(eim,\"r.-\", label = r\"ei_l\")\n",
    "    plt.plot(ei2,\"g.-\", label = r\"ei_c\")\n",
    "    plt.legend()\n",
    "    plt.show()\n",
    "    return iteraciones\n",
    "\n",
    "\n",
    "\n",
    "ba = lambda x : 2*np.sin(2*np.pi*x)+x**2\n",
    "\n",
    "gaa = lambda x : -x\n",
    "\n",
    "gap = lambda x : -1\n",
    "gapp = lambda x : 0\n",
    "\n",
    "bap = lambda x : 2*(x + 2*np.pi*np.cos(2*np.pi*x))\n",
    "bapp = lambda x : 2 - 8*(np.pi**2)*np.sin(2*np.pi*x)\n",
    "\n",
    "\n",
    "print(newton_mont(ba,bap,bapp,gaa,gap,gapp,14,1.5,30)[-1])\n",
    "\n",
    "\n",
    "\n",
    "def newton_mont(f,fp,x0,n_iter):\n",
    "    x = x0\n",
    "    errores = []\n",
    "    for i in range(0,n_iter):\n",
    "        c = x - f(x)/fp(x)\n",
    "        if i >= 1:\n",
    "            errores.append(abs(c - x))\n",
    "        x = c\n",
    "    equis = list(range(1,len(errores)+1))\n",
    "    plt.scatter(equis,errores)\n",
    "    plt.grid(True)\n",
    "    plt.plot(equis, errores)\n",
    "    plt.show()\n",
    "    return (x,errores)"
   ]
  },
  {
   "cell_type": "markdown",
   "metadata": {},
   "source": [
    "## (c)"
   ]
  },
  {
   "cell_type": "markdown",
   "metadata": {},
   "source": [
    "### 1."
   ]
  },
  {
   "cell_type": "code",
   "execution_count": 0,
   "metadata": {},
   "outputs": [],
   "source": []
  },
  {
   "cell_type": "markdown",
   "metadata": {},
   "source": [
    "### 2."
   ]
  },
  {
   "cell_type": "code",
   "execution_count": 0,
   "metadata": {},
   "outputs": [],
   "source": []
  },
  {
   "cell_type": "markdown",
   "metadata": {},
   "source": [
    "## (d)"
   ]
  },
  {
   "cell_type": "markdown",
   "metadata": {},
   "source": [
    "### 1."
   ]
  },
  {
   "cell_type": "code",
   "execution_count": 0,
   "metadata": {},
   "outputs": [],
   "source": []
  },
  {
   "cell_type": "markdown",
   "metadata": {},
   "source": [
    "### 2."
   ]
  },
  {
   "cell_type": "code",
   "execution_count": 0,
   "metadata": {},
   "outputs": [],
   "source": []
  }
 ],
 "metadata": {
  "kernelspec": {
   "display_name": "Python 3",
   "language": "python",
   "name": "python3"
  },
  "language_info": {
   "codemirror_mode": {
    "name": "ipython",
    "version": 3
   },
   "file_extension": ".py",
   "mimetype": "text/x-python",
   "name": "python",
   "nbconvert_exporter": "python",
   "pygments_lexer": "ipython3",
   "version": "3.8.2"
  }
 },
 "nbformat": 4,
 "nbformat_minor": 4
}
