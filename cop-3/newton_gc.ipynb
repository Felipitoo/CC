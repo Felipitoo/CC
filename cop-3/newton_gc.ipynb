{
 "cells": [
  {
   "cell_type": "markdown",
   "metadata": {},
   "source": [
    "<img src=\"http://sct.inf.utfsm.cl/wp-content/uploads/2020/04/logo_di.png\" style=\"width:60%\">\n",
    "\n",
    "<center>\n",
    "    <h1>ILI285/INF285 Computación Científica </h1>\n",
    "    <h1>Pauta Pregunta de \"Newton + Gradiente Conjugado\" - COP3</h1>\n",
    "</center>"
   ]
  },
  {
   "cell_type": "markdown",
   "metadata": {},
   "source": [
    "Necesitamos ajustar un conjunto de datos $D=\\{(x_1,y_1),(x_2,y_2), \\dots, (x_n, y_n)\\}$, con una Spline cúbica de un intervalo, es decir, $S(x)=a+bx+cx^2+dx^3$. Para esto requerimos minimizar la función $F(a,b,c,d)=\\displaystyle \\sum_{i=1}^n (y_i- S(x_i))^4=\\sum_{i=1}^n (y_i-a-bx_i-cx_i^2-dx_i^3)^4$. Esto significa que debemos obtener:\n",
    "\\begin{equation}\n",
    "    \\begin{split}\n",
    "        \\frac{\\partial F}{\\partial a} &= \\sum_{i=1}^n -4(y_i-a-bx_i-cx_i^2-dx_i^3)^3 = 0 \\\\\n",
    "        \\frac{\\partial F}{\\partial b} &= \\sum_{i=1}^n -4x_i(y_i-a-bx_i-cx_i^2-dx_i^3)^3 = 0 \\\\\n",
    "        \\frac{\\partial F}{\\partial c} &= \\sum_{i=1}^n -4x_i^2(y_i-a-bx_i-cx_i^2-dx_i^3)^3 = 0 \\\\\n",
    "        \\frac{\\partial F}{\\partial d} &= \\sum_{i=1}^n -4x_i^3(y_i-a-bx_i-cx_i^2-dx_i^3)^3 = 0 \\\\\n",
    "    \\end{split}\n",
    "\\end{equation}\n",
    "\n",
    "Notar que simplificando la expresión anterior y definiendo $\\mathbf{z}=(a,b,c,d)$ podemos llevar el resultado anterior al problema $\\mathbf{G}(\\mathbf{z})=\\mathbf{0}$, donde $\\mathbf{G}(\\mathbf{z})$ se define como:\n",
    "\n",
    "\\begin{equation}\n",
    "    \\mathbf{G}(\\mathbf{z}) = \n",
    "    \\begin{bmatrix}\n",
    "        \\displaystyle \\sum_{i=1}^n(y_i-a-bx_i-cx_i^2-dx_i^3)^3 \\\\\n",
    "        \\displaystyle \\sum_{i=1}^nx_i(y_i-a-bx_i-cx_i^2-dx_i^3)^3 \\\\\n",
    "        \\displaystyle \\sum_{i=1}^nx_i^2(y_i-a-bx_i-cx_i^2-dx_i^3)^3 \\\\\n",
    "        \\displaystyle \\sum_{i=1}^nx_i^3(y_i-a-bx_i-cx_i^2-dx_i^3)^3\n",
    "    \\end{bmatrix} =\n",
    "    \\begin{bmatrix}\n",
    "        0 \\\\ 0 \\\\ 0 \\\\ 0 \n",
    "    \\end{bmatrix}.\n",
    "\\end{equation}\n",
    "\n",
    "Para obtener el $\\mathbf{z}=(a,b,c,d)$ que minimiza $F$, modificaremos el método de Newton utilizando *Gradiente Conjugado* y así resolver el sistema de ecuaciones lineales que aparece en cada iteración. Si bien no sabemos de antemano si $J(\\mathbf{z})$ es simétrica y definida positiva, $J(\\mathbf{z})^TJ(\\mathbf{z})$ si lo es, por lo que el nuevo sistema que se resuelve dentro del método de Newton es:\n",
    "\\begin{equation}\n",
    "    J(\\mathbf{z}_i)^TJ(\\mathbf{z}_i) \\Delta \\mathbf{z}_i= -J(\\mathbf{z}_i)^T\\mathbf{G}(\\mathbf{z}_i).\n",
    "\\end{equation}\n",
    "\n",
    "¿Cuál es el valor del parámetro $p\\in\\{a, b, c, d\\}$ luego de $k\\in\\{2,3,4\\}$ iteraciones del método de Newton? \n",
    "\n",
    "Considere como *initial guess* el vector nulo tanto para el método del *Gradiente Conjugado* como para el *Método de Newton*. Además utilice como $10^{-10}$ como tolerancia para el método del *Gradiente Conjugado*."
   ]
  },
  {
   "cell_type": "markdown",
   "metadata": {},
   "source": [
    "# Solución propuesta"
   ]
  },
  {
   "cell_type": "code",
   "execution_count": 1,
   "metadata": {},
   "outputs": [],
   "source": [
    "import numpy as np\n",
    "import matplotlib.pyplot as plt\n",
    "from ipywidgets import interact\n",
    "import ipywidgets as widgets"
   ]
  },
  {
   "cell_type": "markdown",
   "metadata": {},
   "source": [
    "## Implementación Gradiente Conjugado"
   ]
  },
  {
   "cell_type": "code",
   "execution_count": 2,
   "metadata": {},
   "outputs": [],
   "source": [
    "def conjugateGradient(A, b, x_0=None, n=None, tol=1e-10):\n",
    "    if n == None:\n",
    "        n = b.shape[-1]\n",
    "    X = np.zeros((n + 1, b.shape[0]))\n",
    "    R = np.zeros_like(X)\n",
    "    D = np.zeros_like(X)\n",
    "    if x_0 is not None:\n",
    "        X[0] = x_0\n",
    "    R[0] = b - np.dot(A, X[0])\n",
    "    D[0] = R[0]\n",
    "    for k in range(n):\n",
    "        a_k = np.dot(D[k], R[k]) / np.dot(D[k], np.dot(A, D[k]))\n",
    "        X[k+1] = X[k] + a_k * D[k]\n",
    "        R[k+1] = b - np.dot(A, X[k+1])\n",
    "        b_k = np.dot(D[k], np.dot(A, R[k+1])) / np.dot(D[k], np.dot(A, D[k]))\n",
    "        D[k+1] = R[k+1] - b_k * D[k]\n",
    "        if np.linalg.norm(R[k+1]) < tol:\n",
    "            X = X[:k+2]\n",
    "            R = R[:k+2]\n",
    "            D = D[:k+2]\n",
    "            break\n",
    "    return X[-1]#, R, D"
   ]
  },
  {
   "cell_type": "markdown",
   "metadata": {},
   "source": [
    "## Implementación Newton en $\\mathbb{R}^n$"
   ]
  },
  {
   "cell_type": "code",
   "execution_count": 3,
   "metadata": {},
   "outputs": [],
   "source": [
    "def newtonRn(F, J, x_0, n, tol=1e-10):\n",
    "    x = np.zeros((n + 1, x_0.shape[0]))\n",
    "    x[0] = x_0\n",
    "    for k in range(n):\n",
    "        JT = J(x[k]).T\n",
    "        JTJ = np.dot(JT, J(x[k]))\n",
    "        JTF = np.dot(JT, F(x[k]))\n",
    "        w = conjugateGradient(JTJ, -JTF)\n",
    "        x[k+1] = x[k] + w\n",
    "        if np.linalg.norm(F(x[k+1])) < tol:\n",
    "            x = x[:k+2]\n",
    "            break\n",
    "    return x"
   ]
  },
  {
   "cell_type": "markdown",
   "metadata": {},
   "source": [
    "## Spline cúbica"
   ]
  },
  {
   "cell_type": "code",
   "execution_count": 4,
   "metadata": {},
   "outputs": [],
   "source": [
    "S = lambda a, b, c, d, x: a + b * x + c * x ** 2 + d * x ** 3 "
   ]
  },
  {
   "cell_type": "markdown",
   "metadata": {},
   "source": [
    "## Cálculo del Jacobiano de $\\mathbf{G}(\\mathbf{z})$"
   ]
  },
  {
   "cell_type": "markdown",
   "metadata": {},
   "source": [
    "La matriz Jacobiana asociada a este problema se define como:\n",
    "\n",
    "\\begin{equation}\n",
    "    \\scriptsize\n",
    "    J(\\mathbf{z})=\n",
    "    \\begin{bmatrix}\n",
    "        \\displaystyle -3\\sum_{i=1}^n(y_i-a-bx_i-cx_i^2-dx_i^3)^2  & \n",
    "            \\displaystyle -3\\sum_{i=1}^nx_i(y_i-a-bx_i-cx_i^2-dx_i^3)^2 & \n",
    "            \\displaystyle -3\\sum_{i=1}^nx_i^2(y_i-a-bx_i-cx_i^2-dx_i^3)^2 & \n",
    "            \\displaystyle -3\\sum_{i=1}^nx_i^3(y_i-a-bx_i-cx_i^2-dx_i^3)^2 \\\\\n",
    "        \\displaystyle -3\\sum_{i=1}^nx_i(y_i-a-bx_i-cx_i^2-dx_i^3)^2 & \n",
    "            \\displaystyle -3\\sum_{i=1}^nx_i^2(y_i-a-bx_i-cx_i^2-dx_i^3)^2 & \n",
    "            \\displaystyle -3\\sum_{i=1}^nx_i^3(y_i-a-bx_i-cx_i^2-dx_i^3)^2 & \n",
    "            \\displaystyle -3\\sum_{i=1}^nx_i^4(y_i-a-bx_i-cx_i^2-dx_i^3)^2 \\\\\n",
    "        \\displaystyle -3\\sum_{i=1}^nx_i^2(y_i-a-bx_i-cx_i^2-dx_i^3)^2 & \n",
    "            \\displaystyle -3\\sum_{i=1}^nx_i^3(y_i-a-bx_i-cx_i^2-dx_i^3)^2 & \n",
    "            \\displaystyle -3\\sum_{i=1}^nx_i^4(y_i-a-bx_i-cx_i^2-dx_i^3)^2 & \n",
    "            \\displaystyle -3\\sum_{i=1}^nx_i^5(y_i-a-bx_i-cx_i^2-dx_i^3)^2 \\\\\n",
    "        \\displaystyle -3\\sum_{i=1}^nx_i^3(y_i-a-bx_i-cx_i^2-dx_i^3)^2 & \n",
    "            \\displaystyle -3\\sum_{i=1}^nx_i^4(y_i-a-bx_i-cx_i^2-dx_i^3)^2 & \n",
    "            \\displaystyle -3\\sum_{i=1}^nx_i^5(y_i-a-bx_i-cx_i^2-dx_i^3)^2 & \n",
    "            \\displaystyle -3\\sum_{i=1}^nx_i^6(y_i-a-bx_i-cx_i^2-dx_i^3)^2 \\\\\n",
    "    \\end{bmatrix}\n",
    "\\end{equation}"
   ]
  },
  {
   "cell_type": "markdown",
   "metadata": {},
   "source": [
    "Función para construir $\\mathbf{G}(\\mathbf{z})$ y $J(\\mathbf{z})$."
   ]
  },
  {
   "cell_type": "code",
   "execution_count": 5,
   "metadata": {},
   "outputs": [],
   "source": [
    "def buildGJ(x_i, y_i):\n",
    "    g1 = lambda z: np.sum((y_i - S(*z, x_i)) ** 3)\n",
    "    g2 = lambda z: np.sum(x_i * (y_i - S(*z, x_i)) ** 3)\n",
    "    g3 = lambda z: np.sum(x_i ** 2 * (y_i - S(*z, x_i)) ** 3)\n",
    "    g4 = lambda z: np.sum(x_i ** 3 * (y_i - S(*z, x_i)) ** 3)\n",
    "    G = lambda z: np.array([g1(z), g2(z), g3(z), g4(z)])\n",
    "    J = lambda z: -3 * np.array([\n",
    "        [np.sum((y_i - S(*z, x_i)) ** 2), \n",
    "             np.sum(x_i * (y_i - S(*z, x_i)) ** 2), \n",
    "             np.sum(x_i ** 2 * (y_i - S(*z, x_i)) ** 2), \n",
    "             np.sum(x_i ** 3 * (y_i - S(*z, x_i)) ** 2)], \n",
    "        [np.sum(x_i * (y_i - S(*z, x_i)) ** 2), \n",
    "             np.sum(x_i ** 2 * (y_i - S(*z, x_i)) ** 2), \n",
    "             np.sum(x_i ** 3 * (y_i - S(*z, x_i)) ** 2), \n",
    "             np.sum(x_i ** 4 * (y_i - S(*z, x_i)) ** 2)], \n",
    "        [np.sum(x_i ** 2 * (y_i - S(*z, x_i)) ** 2), \n",
    "             np.sum(x_i ** 3 * (y_i - S(*z, x_i)) ** 2), \n",
    "             np.sum(x_i ** 4 * (y_i - S(*z, x_i)) ** 2), \n",
    "             np.sum(x_i ** 5 * (y_i - S(*z, x_i)) ** 2)], \n",
    "        [np.sum(x_i ** 3 * (y_i - S(*z, x_i)) ** 2), \n",
    "             np.sum(x_i ** 4 * (y_i - S(*z, x_i)) ** 2), \n",
    "             np.sum(x_i ** 5 * (y_i - S(*z, x_i)) ** 2), \n",
    "             np.sum(x_i ** 6 * (y_i - S(*z, x_i)) ** 2)]\n",
    "    ])\n",
    "    return G, J"
   ]
  },
  {
   "cell_type": "markdown",
   "metadata": {},
   "source": [
    "# Respuestas"
   ]
  },
  {
   "cell_type": "markdown",
   "metadata": {},
   "source": [
    "Función para obtener los parámetros de $S$ dado un dataset."
   ]
  },
  {
   "cell_type": "code",
   "execution_count": 6,
   "metadata": {},
   "outputs": [],
   "source": [
    "def solution(x_i, y_i, k, GJ, n_par):\n",
    "    x_0 = np.zeros(n_par)\n",
    "    G, J = GJ(x_i, y_i)\n",
    "    p = newtonRn(G, J, x_0, k, tol=1e-10)\n",
    "    return p[-1]"
   ]
  },
  {
   "cell_type": "markdown",
   "metadata": {},
   "source": [
    "### Lectura de datos"
   ]
  },
  {
   "cell_type": "code",
   "execution_count": 7,
   "metadata": {},
   "outputs": [],
   "source": [
    "DIR = 'data/'\n",
    "\n",
    "# NPY\n",
    "dataset_npy_1 = np.load(DIR + '1.npy')\n",
    "dataset_npy_2 = np.load(DIR + '2.npy')\n",
    "dataset_npy_3 = np.load(DIR + '3.npy')\n",
    "y_npy_1 = dataset_npy_1[:, 1]\n",
    "y_npy_2 = dataset_npy_2[:, 1]\n",
    "y_npy_3 = dataset_npy_3[:, 1]\n",
    "\n",
    "# CSV\n",
    "dataset_csv_1 = np.loadtxt(DIR + '1.csv', delimiter=',')\n",
    "dataset_csv_2 = np.loadtxt(DIR + '2.csv', delimiter=',')\n",
    "dataset_csv_3 = np.loadtxt(DIR + '3.csv', delimiter=',')\n",
    "y_csv_1 = dataset_csv_1[:, 1]\n",
    "y_csv_2 = dataset_csv_2[:, 1]\n",
    "y_csv_3 = dataset_csv_3[:, 1]\n",
    "\n",
    "# TXT\n",
    "dataset_txt_1 = np.loadtxt(DIR + '1.txt', delimiter=',')\n",
    "dataset_txt_2 = np.loadtxt(DIR + '2.txt', delimiter=',')\n",
    "dataset_txt_3 = np.loadtxt(DIR + '3.txt', delimiter=',')\n",
    "y_txt_1 = dataset_txt_1[:, 1]\n",
    "y_txt_2 = dataset_txt_2[:, 1]\n",
    "y_txt_3 = dataset_txt_3[:, 1]"
   ]
  },
  {
   "cell_type": "markdown",
   "metadata": {},
   "source": [
    "Selección de datos. Salvo el archivo ```2.npy```, todos los otros dataset son iguales solo cambia el formato del archivo."
   ]
  },
  {
   "cell_type": "code",
   "execution_count": 8,
   "metadata": {},
   "outputs": [],
   "source": [
    "n = 100\n",
    "x_a, x_b = -1, 1\n",
    "x_i = np.linspace(x_a, x_b, n)\n",
    "y_i1 = dataset_npy_1[:, 1] # 1.{npy, csv, txt}\n",
    "y_i2 = dataset_npy_2[:, 1] # 2.npy\n",
    "y_i22 = dataset_csv_2[:, 1] # 2.{csv, txt}\n",
    "y_i3 = dataset_npy_3[:, 1] # 3.{npy, csv, txt}"
   ]
  },
  {
   "cell_type": "markdown",
   "metadata": {},
   "source": [
    "Combinaciones de parámetros."
   ]
  },
  {
   "cell_type": "code",
   "execution_count": 9,
   "metadata": {},
   "outputs": [],
   "source": [
    "K = [2, 3, 4] # Number of iterations\n",
    "IP = [0, 1, 2, 3] # Parameter index\n",
    "PL = [\"a\", \"b\", \"c\", \"d\"] # Parameter name\n",
    "D = [y_i1, y_i2, y_i22, y_i3] # Dataset\n",
    "Dn = ['1.{npy, csv, txt}', '2.npy', '2.{csv, txt}', '3.{npy, csv, txt}'] # Dataset name"
   ]
  },
  {
   "cell_type": "code",
   "execution_count": 10,
   "metadata": {},
   "outputs": [
    {
     "data": {
      "application/vnd.jupyter.widget-view+json": {
       "model_id": "fdb061904e1a4095bd7405aa6ff52819",
       "version_major": 2,
       "version_minor": 0
      },
      "text/plain": [
       "interactive(children=(Dropdown(description='Dataset:', options=(('1.{npy, csv, txt}', 0), ('2.npy', 1), ('2.{c…"
      ]
     },
     "metadata": {},
     "output_type": "display_data"
    },
    {
     "data": {
      "text/plain": [
       "<function __main__.experiment(i, p, k)>"
      ]
     },
     "execution_count": 10,
     "metadata": {},
     "output_type": "execute_result"
    }
   ],
   "source": [
    "def experiment(i, p, k):\n",
    "    par = solution(x_i, D[i], k, buildGJ, 4)\n",
    "    print(\"k: %d, parametro: %s, valor: %f\" % (k, PL[p], par[p]))\n",
    "    \n",
    "interact(experiment,\n",
    "        i=widgets.Dropdown(\n",
    "            options=[('1.{npy, csv, txt}', 0), ('2.npy', 1), ('2.{csv, txt}', 2), ('3.{npy, csv, txt}', 3)],\n",
    "            value=0,\n",
    "            description='Dataset:'\n",
    "        ),\n",
    "        p=widgets.Dropdown(\n",
    "            options=[(\"a\", 0), (\"b\", 1), (\"c\", 2), (\"d\", 3)],\n",
    "            value=0,\n",
    "            description='Parámetro:'\n",
    "        ),\n",
    "        k=K\n",
    ")"
   ]
  }
 ],
 "metadata": {
  "kernelspec": {
   "display_name": "Python 3",
   "language": "python",
   "name": "python3"
  },
  "language_info": {
   "codemirror_mode": {
    "name": "ipython",
    "version": 3
   },
   "file_extension": ".py",
   "mimetype": "text/x-python",
   "name": "python",
   "nbconvert_exporter": "python",
   "pygments_lexer": "ipython3",
   "version": "3.7.7"
  }
 },
 "nbformat": 4,
 "nbformat_minor": 4
}
