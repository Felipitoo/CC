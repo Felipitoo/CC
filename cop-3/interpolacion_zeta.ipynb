{
 "cells": [
  {
   "cell_type": "markdown",
   "metadata": {},
   "source": [
    "<img src=\"http://sct.inf.utfsm.cl/wp-content/uploads/2020/04/logo_di.png\" style=\"width:60%\">\n",
    "\n",
    "<center>\n",
    "    <h1>ILI285/INF285 Computación Científica </h1>\n",
    "    <h1>Pauta Pregunta de \"Interpolación Zeta de Riemann\" - COP3</h1>\n",
    "</center>"
   ]
  },
  {
   "cell_type": "markdown",
   "metadata": {},
   "source": [
    "La función zeta de Riemann se define de la siguiente forma: $\\zeta(s)=\\displaystyle\\sum_{k=1}^\\infty k^{-s}$, pero por simplicidad trabajaremos con la siguiente versión truncada $\\zeta_m(s)=\\displaystyle\\sum_{k=1}^m k^{-s}$, para $m\\gg 1$. Aún en su versión truncada, el costo de evaluarla es significativo. Considerando que se necesita obtener un error $\\displaystyle\\max_{s\\in [2,10]} |\\zeta_m(s)-p(s)|<\\text{TOL}\\in\\{10^{-3}, 10^{-8}, 10^{-12}, 10^{-14}\\}$, para $m\\in\\{100,200,300\\}$, determine:\n",
    "\\{el grado mínimo del polinomio de interpolación utilizando puntos equiespaciados, el grado mínimo del polinomio de interpolación utilizando puntos de Chebyshev, la cantidad de intervalos en una Spline cúbica, con condiciones not a knot\\}.\n",
    "\n",
    "para que se cumpla la tolerancia del error requerida. \n",
    "\n",
    "Para calcular el error considere una grilla fina para $s$ de $500$ puntos equiespaciados y considere como número máximo de puntos de interpolación $N=70$. Si no se cumple la tolerancia solicitada con el máximo número de puntos indicados, su respuesta debe ser $-1$.\n",
    "\n",
    "Utilice la implementación {```BarycentricInterpolator```, ```CubicSpline```} del paquete ```scipy.interpolate``` para realizar las interpolaciones. \n",
    "\n",
    "**Warning: El algoritmo solicitado está asociado a la tolerancia, por lo cual al elegir la tolerancia se define que algoritmo se debe utilizar.**"
   ]
  },
  {
   "cell_type": "markdown",
   "metadata": {},
   "source": [
    "# Propuesta solución"
   ]
  },
  {
   "cell_type": "code",
   "execution_count": 1,
   "metadata": {},
   "outputs": [],
   "source": [
    "import numpy as np\n",
    "import matplotlib.pyplot as plt\n",
    "from scipy.interpolate import BarycentricInterpolator, CubicSpline\n",
    "from ipywidgets import interact, Dropdown\n",
    "import ipywidgets as widgets"
   ]
  },
  {
   "cell_type": "markdown",
   "metadata": {},
   "source": [
    "Defnición de $\\zeta_m(s)$"
   ]
  },
  {
   "cell_type": "code",
   "execution_count": 2,
   "metadata": {},
   "outputs": [],
   "source": [
    "# Truncated Zeta function\n",
    "zeta = lambda m, s: np.sum(np.arange(1, m + 1, dtype=np.float) ** (-s))\n",
    "zeta = np.vectorize(zeta)"
   ]
  },
  {
   "cell_type": "markdown",
   "metadata": {},
   "source": [
    "Cálculo del error."
   ]
  },
  {
   "cell_type": "code",
   "execution_count": 3,
   "metadata": {},
   "outputs": [],
   "source": [
    "error = lambda z, p: np.max(np.abs(z - p))"
   ]
  },
  {
   "cell_type": "markdown",
   "metadata": {},
   "source": [
    "Puntos de Chebyshev."
   ]
  },
  {
   "cell_type": "code",
   "execution_count": 4,
   "metadata": {},
   "outputs": [],
   "source": [
    "def cheb(a, b, n):\n",
    "    i = np.arange(1, n + 1)\n",
    "    x_i = np.cos((2 * i - 1) * np.pi / (2 * n)) # Chebyshev nodes\n",
    "    return (b + a) / 2 + (b - a) * x_i / 2 # Change of variable for domain [a, b]"
   ]
  },
  {
   "cell_type": "markdown",
   "metadata": {},
   "source": [
    "## Experimentos\n",
    "\n",
    "Para distintos valores de $m$ y $TOL$."
   ]
  },
  {
   "cell_type": "code",
   "execution_count": 5,
   "metadata": {},
   "outputs": [],
   "source": [
    "def experiment(tol, m, opt, n_max=70, N_E=500):\n",
    "    a, b = 2, 10 # Domain\n",
    "    N = np.arange(2, n_max + 1)\n",
    "    s = np.linspace(a, b, N_E) # Evaluation grid\n",
    "    min_n = 0\n",
    "    \n",
    "    # Interpolation option, polynomial 1 and 2, spline 3\n",
    "    inter = BarycentricInterpolator if opt < 3 else CubicSpline\n",
    "    \n",
    "    # Used only to avoid warning message (divide by zero) in polynomial interpolation\n",
    "    np.seterr(divide='ignore') \n",
    "        \n",
    "    for i in range(N.shape[0]):\n",
    "        n = N[i]\n",
    "        # Interpolation points, equispaced 1 or 3, Chebyshev 2\n",
    "        s_i = cheb(a, b, n) if opt == 2 else np.linspace(a, b, n) \n",
    "        y_i = zeta(m, s_i)\n",
    "        p = inter(s_i, y_i)\n",
    "\n",
    "        if error(zeta(m, s), p(s)) < tol:\n",
    "            min_n = n\n",
    "            break\n",
    "        \n",
    "    # Polynomial degree or number of segments.\n",
    "    # if N is n, polynomial degree or Spline segments are n-1. If any reach the TOL n is -1\n",
    "    return min_n - 1"
   ]
  },
  {
   "cell_type": "markdown",
   "metadata": {},
   "source": [
    "## Combinaciones para COP-3"
   ]
  },
  {
   "cell_type": "code",
   "execution_count": 6,
   "metadata": {},
   "outputs": [],
   "source": [
    "TOL = [(1, 1e-8), (1, 1e-12), (2, 1e-14), (3, 1e-3)]\n",
    "M = [100, 200, 300]\n",
    "OPT = [\n",
    "    \"Para m=%d y TOL=%.e, el grado del polinomio utilizando puntos equispaciados es %d\",\n",
    "    \"Para m=%d y TOL=%.e, el grado del polinomio utilizando puntos de Chebyshev es %d\",\n",
    "    \"Para m=%d y TOL=%.e, el número de segmentos de la spline es %d\"\n",
    "]"
   ]
  },
  {
   "cell_type": "code",
   "execution_count": 7,
   "metadata": {},
   "outputs": [
    {
     "data": {
      "application/vnd.jupyter.widget-view+json": {
       "model_id": "bb223e1d72514d0897b6ad0148ce97f1",
       "version_major": 2,
       "version_minor": 0
      },
      "text/plain": [
       "interactive(children=(Dropdown(description='Tolerancia:', index=1, options=((0.001, 3), (1e-08, 0), (1e-12, 1)…"
      ]
     },
     "metadata": {},
     "output_type": "display_data"
    },
    {
     "data": {
      "text/plain": [
       "<function __main__.solution(o, m)>"
      ]
     },
     "execution_count": 7,
     "metadata": {},
     "output_type": "execute_result"
    }
   ],
   "source": [
    "def solution(o, m):\n",
    "    opt, tol = TOL[o]\n",
    "    r = experiment(tol, m, opt)\n",
    "    print(OPT[opt-1]%(m, tol, r))\n",
    "    \n",
    "interact(solution,\n",
    "        o=Dropdown(\n",
    "            options=[(1e-3, 3), (1e-8, 0), (1e-12, 1), (1e-14, 2)],\n",
    "            value=0,\n",
    "            description='Tolerancia:'\n",
    "        ),\n",
    "        m=M\n",
    ")"
   ]
  }
 ],
 "metadata": {
  "kernelspec": {
   "display_name": "Python 3",
   "language": "python",
   "name": "python3"
  },
  "language_info": {
   "codemirror_mode": {
    "name": "ipython",
    "version": 3
   },
   "file_extension": ".py",
   "mimetype": "text/x-python",
   "name": "python",
   "nbconvert_exporter": "python",
   "pygments_lexer": "ipython3",
   "version": "3.7.7"
  }
 },
 "nbformat": 4,
 "nbformat_minor": 4
}
