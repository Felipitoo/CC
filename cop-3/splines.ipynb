{
 "cells": [
  {
   "cell_type": "markdown",
   "metadata": {},
   "source": [
    "<img src=\"http://sct.inf.utfsm.cl/wp-content/uploads/2020/04/logo_di.png\" style=\"width:60%\">\n",
    "\n",
    "<center>\n",
    "    <h1>ILI285/INF285 Computación Científica </h1>\n",
    "    <h1>Pauta Pregunta de \"Splines\" - COP3</h1>\n",
    "</center>"
   ]
  },
  {
   "cell_type": "code",
   "execution_count": 1,
   "metadata": {},
   "outputs": [],
   "source": [
    "M=8\n",
    "import numpy as np\n",
    "import matplotlib.pyplot as plt\n",
    "from ipywidgets import interact, interactive, fixed, interact_manual\n",
    "import ipywidgets as widgets"
   ]
  },
  {
   "cell_type": "markdown",
   "metadata": {},
   "source": [
    "# Enunciado"
   ]
  },
  {
   "cell_type": "markdown",
   "metadata": {},
   "source": [
    "Sean los pares de puntos $(x_i,y_i)$, para $i$ de 1 a 6. Construya la siguiente Spline Cubica. Aca  $(x_i,y_i)$ podían ser:"
   ]
  },
  {
   "cell_type": "code",
   "execution_count": 2,
   "metadata": {},
   "outputs": [],
   "source": [
    "'''\n",
    "En su prueba usted pudo haber recibido uno de las siguientes datasets:\n",
    "''' \n",
    "\n",
    "Datasets = {'Dataset1': (np.array([1,2,4,5,7,9]), np.array([0.2919265817264289, 0.17317818956819406,\n",
    "                                                        0.4272499830956933, 0.0804642354617738,\n",
    "                                                        0.5683686091039167, 0.83015835412204])),\n",
    "            'Dataset2': (np.array([0,1,2,3,4,5]), np.array([0.0, 0.7080734182735712,\n",
    "                                                            0.826821810431806,0.01991485667481699,\n",
    "                                                            0.5727500169043067,0.9195357645382262])),\n",
    "            'Dataset3': (np.array([2,3,4,5,6,7]), np.array([0.7518269446689928, 0.0028103847344612735,\n",
    "                                                            -0.4334586419808374, -0.881765166036633,\n",
    "                                                            -0.021814811956275375, 0.28357603940507775]))}"
   ]
  },
  {
   "cell_type": "markdown",
   "metadata": {},
   "source": [
    "Construya la siguiente Spline Cubica:\n",
    "\n",
    "$$\\begin{equation*}{S(x) =\\begin{cases}S_1(x),&\\text{si }x\\in [{x_1},{x_2}]\\\\S_2(x),& \\text{si } x \\in [{x_2},{x_3}]\\\\S_3(x),&\\text{si }x\\in [{x_3},{x_4}]\\\\S_4(x), & \\text{si } x \\in [{x_4},{x_5}]\\\\S_5(x),&\\text{si }x\\in [{x_5},{x_6}]\\end{cases}}\\end{equation*}$$"
   ]
  },
  {
   "cell_type": "markdown",
   "metadata": {},
   "source": [
    "donde $$S_i(x) = y_i + a_i (x-x_i) + b_i (x-x_i)^{2} + c_i (x-x_i)^{3}$$ utilizando condiciones de borde del tipo **Robin/Clamped con derivada igual a 2** en $x_1$ y del tipo **Natural/Robin** en $x_6$. Considerar que la condición de tipo Robin se define como:\n",
    "\n",
    "$$\n",
    "{\\displaystyle {\\begin{cases}\\alpha\\, S_1(x_1)-\\beta \\, S_1'(x_1)=g\\\\ \\alpha \\,S_5(x_6)+\\beta \\, S_5'(x_6)=g.\\,\\end{cases}}}\n",
    "$$\n",
    "\n",
    "Indique cuales son los 4 números después de la coma (sin redondear) del coeficiente $b_4$. Donde según la prueba los valores de $\\alpha$ toma los valores $\\{4,5,6\\}$, $\\beta$ toma los valores $\\{5,6,7\\}$ y $g$ toma los valores $\\{1,2,3\\}$."
   ]
  },
  {
   "cell_type": "markdown",
   "metadata": {},
   "source": [
    "Como las condiciones de tipo Clamped y Natural ya han sido implementadas en los jupyter notebook del curso nos enfocaremos en estudiar como implementar las condiciones de tipo Robin en ambos extremos del dominio. Comenzaremos encontrando la primera derivada de $S_1(x)$ y de $S_2(x)$.\n",
    "\n",
    "$$\n",
    "S_1(x) = y_1 + a_1 (x-x_1) + b_1 (x-x_1)^{2} + c_1 (x-x_1)^{3} \\\\\n",
    "S'_1(x) = a_1 + 2 b_1 (x-x_1) + 3 c_1 (x-x_1)^{2}\\\\\n",
    "S_5(x) = y_5 + a_5 (x-x_5) + b_5 (x-x_5)^{2} + c_5 (x-x_5)^{3} \\\\\n",
    "S'_5(x) = a_5 + 2 b_5 (x-x_5) + 3 c_5 (x-x_5)^{2}\\\\\n",
    "$$\n",
    "\n",
    "Si hubiese tocado la condición de tipo robin en $x_1$ entonces la condición de borde queda:\n",
    "\n",
    "$$\n",
    "\\alpha (y_1 + a_1 (x-x_1) + b_1 (x-x_1)^{2} + c_1 (x-x_1)^{3}) - \\beta(a_1 + 2 b_1 (x-x_1) + 3 c_1 (x-x_1)^{2}) = g \n",
    "$$\n",
    "\n",
    "Ordenando la ecuación anterior nos queda:\n",
    "\n",
    "$$\n",
    "(\\alpha (x-x_1) - \\beta)a_1+  (\\alpha (x-x_1)^{2} - 2 \\beta (x-x_1))b_1 + ((x-x_1)^{3} - 3 \\beta (x-x_1)^{2}) c_1 = g - \\alpha y_1\n",
    "$$\n",
    "\n",
    "Luego evaluando en $x_1$ tenemos:\n",
    "\n",
    "$$\n",
    "(\\alpha (x_1-x_1) - \\beta)a_1+  (\\alpha (x_1-x_1)^{2} - 2 \\beta (x_1-x_1))b_1 + ((x_1-x_1)^{3} - 3 \\beta (x_1-x_1)^{2}) c_1 = g - \\alpha y_1 \\\\\n",
    "- \\beta a_1 = g - \\alpha y_1\n",
    "$$"
   ]
  },
  {
   "cell_type": "markdown",
   "metadata": {},
   "source": [
    "Si hubiese tocado la condición del tipo Robin en $x_6$ entonces la condición de borde queda:\n",
    "\n",
    "$$\n",
    "\\alpha (y_5 + a_5 (x-x_5) + b_5 (x-x_5)^{2} + c_5 (x-x_5)^{3}) + \\beta(a_5 + 2 b_5 (x-x_5) + 3 c_5 (x-x_5)^{2}) = g \n",
    "$$\n",
    "\n",
    "Ordenando la ecuación anterior nos queda:\n",
    "\n",
    "$$\n",
    "(\\alpha (x-x_5) + \\beta)a_5+  (\\alpha (x-x_5)^{2} + 2 \\beta (x-x_5))b_5 + ((x-x_5)^{3} - 3 \\beta (x-x_5)^{2}) c_5 = g - \\alpha y_5\n",
    "$$\n",
    "\n",
    "Luego evaluando en $x_6$ tenemos:\n",
    "\n",
    "$$\n",
    "(\\alpha (x_6-x_5) + \\beta)a_5+  (\\alpha (x_6-x_5)^{2} + 2 \\beta (x_6-x_5))b_5 + ((x_6-x_5)^{3} - 3 \\beta (x_6-x_5)^{2}) c_5 = g - \\alpha y_5\n",
    "$$"
   ]
  },
  {
   "cell_type": "markdown",
   "metadata": {},
   "source": [
    "La siguiente implementación esta basada en el código del profesor Claudio Torres. Se modifica unicamente las ultimas dos filas de la matriz $A$ y los ultimos dos elementos del vector $b$ ya que estos representan las dos ecuaciones que se deben imponer para construir una spline con las condiciones de borde requerida. "
   ]
  },
  {
   "cell_type": "code",
   "execution_count": 3,
   "metadata": {},
   "outputs": [],
   "source": [
    "def cubic_spline(x, y, start = 'Robin1', end = 'Robin2', p1=2, a_r = 1, b_r = 1, g = None):\n",
    "    \n",
    "    '''\n",
    "    x: x-coordinates of points\n",
    "    y: y-coordinates of points\n",
    "    start: Border condition at x_0 (Robin, Clamped)\n",
    "    end: Border condition at x_n (Robin, Natural)\n",
    "    p1: Clamped condition\n",
    "    a_r: alpha for robin border condition\n",
    "    b_r: beta for robin border condition\n",
    "    g: RHS for robin border condition\n",
    "    '''\n",
    "    \n",
    "    if g == None:\n",
    "        g = lambda x: 0\n",
    "    \n",
    "    n = len(x)\n",
    "    A = np.zeros((3*n-3, 3*n-3))\n",
    "    b = np.zeros(3*n-3)\n",
    "    \n",
    "    delta_x=np.diff(x)\n",
    "       \n",
    "    #Building the linear system of equations\n",
    "    \n",
    "    #1st property\n",
    "    for i in np.arange(n-1):\n",
    "        b[i]= y[i+1]-y[i]\n",
    "        A[i,3*i:3*(i+1)] = [delta_x[i],delta_x[i]**2,delta_x[i]**3]\n",
    "    #2nd property\n",
    "    for i in np.arange(n-2):\n",
    "        A[(n-1)+i,3*i:3*(i+1)+1]=[1, 2*delta_x[i], 3*delta_x[i]**2, -1]\n",
    "    #3rd property\n",
    "    for i in np.arange(n-2):\n",
    "        A[(n-1)+(n-2)+i,3*i:3*(i+1)+2] = [0, 2, 6*delta_x[i], 0, -2]\n",
    "    \n",
    "    #Ending conditions (4th property)\n",
    "    \n",
    "    #Robin condition at x_0\n",
    "    if start =='Robin1':\n",
    "        A[-2,0]= -b_r\n",
    "        b[-2] = g - a_r*y[0]\n",
    "        \n",
    "    #Clamped condition at x_0\n",
    "    elif start == 'Clamped1':\n",
    "        A[-2,0] = 1\n",
    "        b[-2] = p1\n",
    "        \n",
    "    #Robin condition at x_n\n",
    "    if end == 'Robin2':\n",
    "        A[-1,-1] = a_r*delta_x[-1]**3 + b_r*3*delta_x[-1]**2\n",
    "        A[-1,-2] = a_r*delta_x[-1]**2 + b_r*2*delta_x[-1]\n",
    "        A[-1,-3] = a_r*delta_x[-1] + b_r\n",
    "        b[-1] = g - a_r*y[-1]\n",
    "        \n",
    "    #Robin condition at x_n\n",
    "    elif end == 'Natural2':\n",
    "        A[-1,-2] = 2\n",
    "        A[-1,-1] = 6*delta_x[-1]\n",
    "        \n",
    "    sol = np.linalg.solve(A,b)\n",
    "    #Note that the question asked for the coefficient that accompanies the square term,\n",
    "    #in this case 'c'\n",
    "    S = {'b':sol[::3],\n",
    "         'c':sol[1::3],\n",
    "         'd':sol[2::3],\n",
    "         'x':x,\n",
    "         'y':y\n",
    "        }\n",
    "    return S"
   ]
  },
  {
   "cell_type": "code",
   "execution_count": 4,
   "metadata": {},
   "outputs": [
    {
     "data": {
      "application/vnd.jupyter.widget-view+json": {
       "model_id": "c6444a8596d643a49f019808d83d5b10",
       "version_major": 2,
       "version_minor": 0
      },
      "text/plain": [
       "interactive(children=(Dropdown(description='dataset', options=('Dataset1', 'Dataset2', 'Dataset3'), value='Dat…"
      ]
     },
     "metadata": {},
     "output_type": "display_data"
    }
   ],
   "source": [
    "def find_coeficient(dataset, border, alpha, beta, g):\n",
    "    border_condition = {'Robin-Natural': ['Robin1', 'Natural2'],\n",
    "                            'Clamped-Robin': ['Clamped1','Robin2']}\n",
    "    x, y = Datasets[dataset]\n",
    "    S = cubic_spline(x, y, start = border_condition[border][0], \n",
    "                     end = border_condition[border][1], \n",
    "                     a_r = alpha, b_r = beta, g = g)\n",
    "    print(r\"x:\",x)\n",
    "    print(r\"y:\",y)\n",
    "    print(\"b:\", str(S['c'][3]).split(\".\")[1][:4])\n",
    "    \n",
    "interact(find_coeficient, dataset=['Dataset1','Dataset2','Dataset3'],\n",
    "         border = ['Robin-Natural','Clamped-Robin'],alpha = [4,5,6], \n",
    "         beta = [5,6,7], g = [1,2,3] );"
   ]
  }
 ],
 "metadata": {
  "kernelspec": {
   "display_name": "Python 3",
   "language": "python",
   "name": "python3"
  },
  "language_info": {
   "codemirror_mode": {
    "name": "ipython",
    "version": 3
   },
   "file_extension": ".py",
   "mimetype": "text/x-python",
   "name": "python",
   "nbconvert_exporter": "python",
   "pygments_lexer": "ipython3",
   "version": "3.7.7"
  }
 },
 "nbformat": 4,
 "nbformat_minor": 4
}
